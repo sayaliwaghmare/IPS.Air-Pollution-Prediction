<!DOCTYPE html>
<!-- saved from url=(0066)http://localhost:8890/notebooks/Air%20pollution%20prediction.ipynb -->
<html lang="en-us"><head><meta http-equiv="Content-Type" content="text/html; charset=UTF-8">
    

    <title>Air pollution prediction - Jupyter Notebook</title>
    
    <meta http-equiv="X-UA-Compatible" content="IE=edge">
    <link rel="stylesheet" href="./Air pollution prediction - Jupyter Notebook _files/jquery-ui.min.css" type="text/css">
    <link rel="stylesheet" href="./Air pollution prediction - Jupyter Notebook _files/jquery.typeahead.min.css" type="text/css">
    <meta name="viewport" content="width=device-width, initial-scale=1.0">
    
    


<script type="text/javascript" src="./Air pollution prediction - Jupyter Notebook _files/MathJax.js.download" charset="utf-8"></script>

<script type="text/javascript">
// MathJax disabled, set as null to distinguish from *missing* MathJax,
// where it will be undefined, and should prompt a dialog later.
window.mathjax_url = "/static/components/MathJax/MathJax.js";
</script>

<link rel="stylesheet" href="./Air pollution prediction - Jupyter Notebook _files/bootstrap-tour.min.css" type="text/css">
<link rel="stylesheet" href="./Air pollution prediction - Jupyter Notebook _files/codemirror.css">


    <link rel="stylesheet" href="./Air pollution prediction - Jupyter Notebook _files/style.min.css" type="text/css">
    

<link rel="stylesheet" href="./Air pollution prediction - Jupyter Notebook _files/override.css" type="text/css">
<link rel="stylesheet" href="http://localhost:8890/notebooks/Air%20pollution%20prediction.ipynb" id="kernel-css" type="text/css">


    <link rel="stylesheet" href="./Air pollution prediction - Jupyter Notebook _files/custom.css" type="text/css">
    <script src="./Air pollution prediction - Jupyter Notebook _files/promise.min.js.download" type="text/javascript" charset="utf-8"></script>
    <script src="./Air pollution prediction - Jupyter Notebook _files/react.production.min.js.download" type="text/javascript"></script>
    <script src="./Air pollution prediction - Jupyter Notebook _files/react-dom.production.min.js.download" type="text/javascript"></script>
    <script src="./Air pollution prediction - Jupyter Notebook _files/index.js.download" type="text/javascript"></script>
    <script src="./Air pollution prediction - Jupyter Notebook _files/require.js.download" type="text/javascript" charset="utf-8"></script>
    <script>
      require.config({
          
          urlArgs: "v=20220217180346",
          
          baseUrl: '/static/',
          paths: {
            'auth/js/main': 'auth/js/main.min',
            custom : '/custom',
            nbextensions : '/nbextensions',
            kernelspecs : '/kernelspecs',
            underscore : 'components/underscore/underscore-min',
            backbone : 'components/backbone/backbone-min',
            jed: 'components/jed/jed',
            jquery: 'components/jquery/jquery.min',
            json: 'components/requirejs-plugins/src/json',
            text: 'components/requirejs-text/text',
            bootstrap: 'components/bootstrap/dist/js/bootstrap.min',
            bootstraptour: 'components/bootstrap-tour/build/js/bootstrap-tour.min',
            'jquery-ui': 'components/jquery-ui/jquery-ui.min',
            moment: 'components/moment/min/moment-with-locales',
            codemirror: 'components/codemirror',
            termjs: 'components/xterm.js/xterm',
            typeahead: 'components/jquery-typeahead/dist/jquery.typeahead.min',
          },
          map: { // for backward compatibility
              "*": {
                  "jqueryui": "jquery-ui",
              }
          },
          shim: {
            typeahead: {
              deps: ["jquery"],
              exports: "typeahead"
            },
            underscore: {
              exports: '_'
            },
            backbone: {
              deps: ["underscore", "jquery"],
              exports: "Backbone"
            },
            bootstrap: {
              deps: ["jquery"],
              exports: "bootstrap"
            },
            bootstraptour: {
              deps: ["bootstrap"],
              exports: "Tour"
            },
            "jquery-ui": {
              deps: ["jquery"],
              exports: "$"
            }
          },
          waitSeconds: 30,
      });

      require.config({
          map: {
              '*':{
                'contents': 'services/contents',
              }
          }
      });

      // error-catching custom.js shim.
      define("custom", function (require, exports, module) {
          try {
              var custom = require('custom/custom');
              console.debug('loaded custom.js');
              return custom;
          } catch (e) {
              console.error("error loading custom.js", e);
              return {};
          }
      })

    document.nbjs_translations = {"domain": "nbjs", "locale_data": {"nbjs": {"": {"domain": "nbjs"}}}};
    document.documentElement.lang = navigator.language.toLowerCase();
    </script>

    
    

<script type="text/javascript" charset="utf-8" async="" data-requirecontext="_" data-requiremodule="services/contents" src="./Air pollution prediction - Jupyter Notebook _files/contents.js.download"></script><style type="text/css">.MathJax_Hover_Frame {border-radius: .25em; -webkit-border-radius: .25em; -moz-border-radius: .25em; -khtml-border-radius: .25em; box-shadow: 0px 0px 15px #83A; -webkit-box-shadow: 0px 0px 15px #83A; -moz-box-shadow: 0px 0px 15px #83A; -khtml-box-shadow: 0px 0px 15px #83A; border: 1px solid #A6D ! important; display: inline-block; position: absolute}
.MathJax_Menu_Button .MathJax_Hover_Arrow {position: absolute; cursor: pointer; display: inline-block; border: 2px solid #AAA; border-radius: 4px; -webkit-border-radius: 4px; -moz-border-radius: 4px; -khtml-border-radius: 4px; font-family: 'Courier New',Courier; font-size: 9px; color: #F0F0F0}
.MathJax_Menu_Button .MathJax_Hover_Arrow span {display: block; background-color: #AAA; border: 1px solid; border-radius: 3px; line-height: 0; padding: 4px}
.MathJax_Hover_Arrow:hover {color: white!important; border: 2px solid #CCC!important}
.MathJax_Hover_Arrow:hover span {background-color: #CCC!important}
</style><style type="text/css">#MathJax_About {position: fixed; left: 50%; width: auto; text-align: center; border: 3px outset; padding: 1em 2em; background-color: #DDDDDD; color: black; cursor: default; font-family: message-box; font-size: 120%; font-style: normal; text-indent: 0; text-transform: none; line-height: normal; letter-spacing: normal; word-spacing: normal; word-wrap: normal; white-space: nowrap; float: none; z-index: 201; border-radius: 15px; -webkit-border-radius: 15px; -moz-border-radius: 15px; -khtml-border-radius: 15px; box-shadow: 0px 10px 20px #808080; -webkit-box-shadow: 0px 10px 20px #808080; -moz-box-shadow: 0px 10px 20px #808080; -khtml-box-shadow: 0px 10px 20px #808080; filter: progid:DXImageTransform.Microsoft.dropshadow(OffX=2, OffY=2, Color='gray', Positive='true')}
#MathJax_About.MathJax_MousePost {outline: none}
.MathJax_Menu {position: absolute; background-color: white; color: black; width: auto; padding: 2px; border: 1px solid #CCCCCC; margin: 0; cursor: default; font: menu; text-align: left; text-indent: 0; text-transform: none; line-height: normal; letter-spacing: normal; word-spacing: normal; word-wrap: normal; white-space: nowrap; float: none; z-index: 201; box-shadow: 0px 10px 20px #808080; -webkit-box-shadow: 0px 10px 20px #808080; -moz-box-shadow: 0px 10px 20px #808080; -khtml-box-shadow: 0px 10px 20px #808080; filter: progid:DXImageTransform.Microsoft.dropshadow(OffX=2, OffY=2, Color='gray', Positive='true')}
.MathJax_MenuItem {padding: 2px 2em; background: transparent}
.MathJax_MenuArrow {position: absolute; right: .5em; padding-top: .25em; color: #666666; font-size: .75em}
.MathJax_MenuActive .MathJax_MenuArrow {color: white}
.MathJax_MenuArrow.RTL {left: .5em; right: auto}
.MathJax_MenuCheck {position: absolute; left: .7em}
.MathJax_MenuCheck.RTL {right: .7em; left: auto}
.MathJax_MenuRadioCheck {position: absolute; left: 1em}
.MathJax_MenuRadioCheck.RTL {right: 1em; left: auto}
.MathJax_MenuLabel {padding: 2px 2em 4px 1.33em; font-style: italic}
.MathJax_MenuRule {border-top: 1px solid #CCCCCC; margin: 4px 1px 0px}
.MathJax_MenuDisabled {color: GrayText}
.MathJax_MenuActive {background-color: Highlight; color: HighlightText}
.MathJax_MenuDisabled:focus, .MathJax_MenuLabel:focus {background-color: #E8E8E8}
.MathJax_ContextMenu:focus {outline: none}
.MathJax_ContextMenu .MathJax_MenuItem:focus {outline: none}
#MathJax_AboutClose {top: .2em; right: .2em}
.MathJax_Menu .MathJax_MenuClose {top: -10px; left: -10px}
.MathJax_MenuClose {position: absolute; cursor: pointer; display: inline-block; border: 2px solid #AAA; border-radius: 18px; -webkit-border-radius: 18px; -moz-border-radius: 18px; -khtml-border-radius: 18px; font-family: 'Courier New',Courier; font-size: 24px; color: #F0F0F0}
.MathJax_MenuClose span {display: block; background-color: #AAA; border: 1.5px solid; border-radius: 18px; -webkit-border-radius: 18px; -moz-border-radius: 18px; -khtml-border-radius: 18px; line-height: 0; padding: 8px 0 6px}
.MathJax_MenuClose:hover {color: white!important; border: 2px solid #CCC!important}
.MathJax_MenuClose:hover span {background-color: #CCC!important}
.MathJax_MenuClose:hover:focus {outline: none}
</style><style type="text/css">.MathJax_Preview .MJXf-math {color: inherit!important}
</style><style type="text/css">.MJX_Assistive_MathML {position: absolute!important; top: 0; left: 0; clip: rect(1px, 1px, 1px, 1px); padding: 1px 0 0 0!important; border: 0!important; height: 1px!important; width: 1px!important; overflow: hidden!important; display: block!important; -webkit-touch-callout: none; -webkit-user-select: none; -khtml-user-select: none; -moz-user-select: none; -ms-user-select: none; user-select: none}
.MJX_Assistive_MathML.MJX_Assistive_MathML_Block {width: 100%!important}
</style><style type="text/css">#MathJax_Zoom {position: absolute; background-color: #F0F0F0; overflow: auto; display: block; z-index: 301; padding: .5em; border: 1px solid black; margin: 0; font-weight: normal; font-style: normal; text-align: left; text-indent: 0; text-transform: none; line-height: normal; letter-spacing: normal; word-spacing: normal; word-wrap: normal; white-space: nowrap; float: none; -webkit-box-sizing: content-box; -moz-box-sizing: content-box; box-sizing: content-box; box-shadow: 5px 5px 15px #AAAAAA; -webkit-box-shadow: 5px 5px 15px #AAAAAA; -moz-box-shadow: 5px 5px 15px #AAAAAA; -khtml-box-shadow: 5px 5px 15px #AAAAAA; filter: progid:DXImageTransform.Microsoft.dropshadow(OffX=2, OffY=2, Color='gray', Positive='true')}
#MathJax_ZoomOverlay {position: absolute; left: 0; top: 0; z-index: 300; display: inline-block; width: 100%; height: 100%; border: 0; padding: 0; margin: 0; background-color: white; opacity: 0; filter: alpha(opacity=0)}
#MathJax_ZoomFrame {position: relative; display: inline-block; height: 0; width: 0}
#MathJax_ZoomEventTrap {position: absolute; left: 0; top: 0; z-index: 302; display: inline-block; border: 0; padding: 0; margin: 0; background-color: white; opacity: 0; filter: alpha(opacity=0)}
</style><style type="text/css">.MathJax_Preview {color: #888; display: contents}
#MathJax_Message {position: fixed; left: 1em; bottom: 1.5em; background-color: #E6E6E6; border: 1px solid #959595; margin: 0px; padding: 2px 8px; z-index: 102; color: black; font-size: 80%; width: auto; white-space: nowrap}
#MathJax_MSIE_Frame {position: absolute; top: 0; left: 0; width: 0px; z-index: 101; border: 0px; margin: 0px; padding: 0px}
.MathJax_Error {color: #CC0000; font-style: italic}
</style><script type="text/javascript" charset="utf-8" async="" data-requirecontext="_" data-requiremodule="custom/custom" src="./Air pollution prediction - Jupyter Notebook _files/custom.js.download"></script><script type="text/javascript" charset="utf-8" async="" data-requirecontext="_" data-requiremodule="nbextensions/jupyterlab-plotly/extension" src="./Air pollution prediction - Jupyter Notebook _files/extension.js.download"></script><script type="text/javascript" charset="utf-8" async="" data-requirecontext="_" data-requiremodule="nbextensions/jupyter-js-widgets/extension" src="./Air pollution prediction - Jupyter Notebook _files/extension.js(1).download"></script><style type="text/css">div.MathJax_MathML {text-align: center; margin: .75em 0px; display: block!important}
.MathJax_MathML {font-style: normal; font-weight: normal; line-height: normal; font-size: 100%; font-size-adjust: none; text-indent: 0; text-align: left; text-transform: none; letter-spacing: normal; word-spacing: normal; word-wrap: normal; white-space: nowrap; float: none; direction: ltr; max-width: none; max-height: none; min-width: 0; min-height: 0; border: 0; padding: 0; margin: 0}
span.MathJax_MathML {display: inline!important}
.MathJax_mmlExBox {display: block!important; overflow: hidden; height: 1px; width: 60ex; min-height: 0; max-height: none; padding: 0; border: 0; margin: 0}
[class="MJX-tex-oldstyle"] {font-family: MathJax_Caligraphic, MathJax_Caligraphic-WEB}
[class="MJX-tex-oldstyle-bold"] {font-family: MathJax_Caligraphic, MathJax_Caligraphic-WEB; font-weight: bold}
[class="MJX-tex-caligraphic"] {font-family: MathJax_Caligraphic, MathJax_Caligraphic-WEB}
[class="MJX-tex-caligraphic-bold"] {font-family: MathJax_Caligraphic, MathJax_Caligraphic-WEB; font-weight: bold}
@font-face /*1*/ {font-family: MathJax_Caligraphic-WEB; src: url('http://localhost:8890/static/components/MathJax/fonts/HTML-CSS/TeX/otf/MathJax_Caligraphic-Regular.otf')}
@font-face /*2*/ {font-family: MathJax_Caligraphic-WEB; font-weight: bold; src: url('http://localhost:8890/static/components/MathJax/fonts/HTML-CSS/TeX/otf/MathJax_Caligraphic-Bold.otf')}
[mathvariant="double-struck"] {font-family: MathJax_AMS, MathJax_AMS-WEB}
[mathvariant="script"] {font-family: MathJax_Script, MathJax_Script-WEB}
[mathvariant="fraktur"] {font-family: MathJax_Fraktur, MathJax_Fraktur-WEB}
[mathvariant="bold-script"] {font-family: MathJax_Script, MathJax_Caligraphic-WEB; font-weight: bold}
[mathvariant="bold-fraktur"] {font-family: MathJax_Fraktur, MathJax_Fraktur-WEB; font-weight: bold}
[mathvariant="monospace"] {font-family: monospace}
[mathvariant="sans-serif"] {font-family: sans-serif}
[mathvariant="bold-sans-serif"] {font-family: sans-serif; font-weight: bold}
[mathvariant="sans-serif-italic"] {font-family: sans-serif; font-style: italic}
[mathvariant="sans-serif-bold-italic"] {font-family: sans-serif; font-style: italic; font-weight: bold}
@font-face /*3*/ {font-family: MathJax_AMS-WEB; src: url('http://localhost:8890/static/components/MathJax/fonts/HTML-CSS/TeX/otf/MathJax_AMS-Regular.otf')}
@font-face /*4*/ {font-family: MathJax_Script-WEB; src: url('http://localhost:8890/static/components/MathJax/fonts/HTML-CSS/TeX/otf/MathJax_Script-Regular.otf')}
@font-face /*5*/ {font-family: MathJax_Fraktur-WEB; src: url('http://localhost:8890/static/components/MathJax/fonts/HTML-CSS/TeX/otf/MathJax_Fraktur-Regular.otf')}
@font-face /*6*/ {font-family: MathJax_Fraktur-WEB; font-weight: bold; src: url('http://localhost:8890/static/components/MathJax/fonts/HTML-CSS/TeX/otf/MathJax_Fraktur-Bold.otf')}
</style><style type="text/css">.MJXp-script {font-size: .8em}
.MJXp-right {-webkit-transform-origin: right; -moz-transform-origin: right; -ms-transform-origin: right; -o-transform-origin: right; transform-origin: right}
.MJXp-bold {font-weight: bold}
.MJXp-italic {font-style: italic}
.MJXp-scr {font-family: MathJax_Script,'Times New Roman',Times,STIXGeneral,serif}
.MJXp-frak {font-family: MathJax_Fraktur,'Times New Roman',Times,STIXGeneral,serif}
.MJXp-sf {font-family: MathJax_SansSerif,'Times New Roman',Times,STIXGeneral,serif}
.MJXp-cal {font-family: MathJax_Caligraphic,'Times New Roman',Times,STIXGeneral,serif}
.MJXp-mono {font-family: MathJax_Typewriter,'Times New Roman',Times,STIXGeneral,serif}
.MJXp-largeop {font-size: 150%}
.MJXp-largeop.MJXp-int {vertical-align: -.2em}
.MJXp-math {display: inline-block; line-height: 1.2; text-indent: 0; font-family: 'Times New Roman',Times,STIXGeneral,serif; white-space: nowrap; border-collapse: collapse}
.MJXp-display {display: block; text-align: center; margin: 1em 0}
.MJXp-math span {display: inline-block}
.MJXp-box {display: block!important; text-align: center}
.MJXp-box:after {content: " "}
.MJXp-rule {display: block!important; margin-top: .1em}
.MJXp-char {display: block!important}
.MJXp-mo {margin: 0 .15em}
.MJXp-mfrac {margin: 0 .125em; vertical-align: .25em}
.MJXp-denom {display: inline-table!important; width: 100%}
.MJXp-denom > * {display: table-row!important}
.MJXp-surd {vertical-align: top}
.MJXp-surd > * {display: block!important}
.MJXp-script-box > *  {display: table!important; height: 50%}
.MJXp-script-box > * > * {display: table-cell!important; vertical-align: top}
.MJXp-script-box > *:last-child > * {vertical-align: bottom}
.MJXp-script-box > * > * > * {display: block!important}
.MJXp-mphantom {visibility: hidden}
.MJXp-munderover, .MJXp-munder {display: inline-table!important}
.MJXp-over {display: inline-block!important; text-align: center}
.MJXp-over > * {display: block!important}
.MJXp-munderover > *, .MJXp-munder > * {display: table-row!important}
.MJXp-mtable {vertical-align: .25em; margin: 0 .125em}
.MJXp-mtable > * {display: inline-table!important; vertical-align: middle}
.MJXp-mtr {display: table-row!important}
.MJXp-mtd {display: table-cell!important; text-align: center; padding: .5em 0 0 .5em}
.MJXp-mtr > .MJXp-mtd:first-child {padding-left: 0}
.MJXp-mtr:first-child > .MJXp-mtd {padding-top: 0}
.MJXp-mlabeledtr {display: table-row!important}
.MJXp-mlabeledtr > .MJXp-mtd:first-child {padding-left: 0}
.MJXp-mlabeledtr:first-child > .MJXp-mtd {padding-top: 0}
.MJXp-merror {background-color: #FFFF88; color: #CC0000; border: 1px solid #CC0000; padding: 1px 3px; font-style: normal; font-size: 90%}
.MJXp-scale0 {-webkit-transform: scaleX(.0); -moz-transform: scaleX(.0); -ms-transform: scaleX(.0); -o-transform: scaleX(.0); transform: scaleX(.0)}
.MJXp-scale1 {-webkit-transform: scaleX(.1); -moz-transform: scaleX(.1); -ms-transform: scaleX(.1); -o-transform: scaleX(.1); transform: scaleX(.1)}
.MJXp-scale2 {-webkit-transform: scaleX(.2); -moz-transform: scaleX(.2); -ms-transform: scaleX(.2); -o-transform: scaleX(.2); transform: scaleX(.2)}
.MJXp-scale3 {-webkit-transform: scaleX(.3); -moz-transform: scaleX(.3); -ms-transform: scaleX(.3); -o-transform: scaleX(.3); transform: scaleX(.3)}
.MJXp-scale4 {-webkit-transform: scaleX(.4); -moz-transform: scaleX(.4); -ms-transform: scaleX(.4); -o-transform: scaleX(.4); transform: scaleX(.4)}
.MJXp-scale5 {-webkit-transform: scaleX(.5); -moz-transform: scaleX(.5); -ms-transform: scaleX(.5); -o-transform: scaleX(.5); transform: scaleX(.5)}
.MJXp-scale6 {-webkit-transform: scaleX(.6); -moz-transform: scaleX(.6); -ms-transform: scaleX(.6); -o-transform: scaleX(.6); transform: scaleX(.6)}
.MJXp-scale7 {-webkit-transform: scaleX(.7); -moz-transform: scaleX(.7); -ms-transform: scaleX(.7); -o-transform: scaleX(.7); transform: scaleX(.7)}
.MJXp-scale8 {-webkit-transform: scaleX(.8); -moz-transform: scaleX(.8); -ms-transform: scaleX(.8); -o-transform: scaleX(.8); transform: scaleX(.8)}
.MJXp-scale9 {-webkit-transform: scaleX(.9); -moz-transform: scaleX(.9); -ms-transform: scaleX(.9); -o-transform: scaleX(.9); transform: scaleX(.9)}
.MathJax_PHTML .noError {vertical-align: ; font-size: 90%; text-align: left; color: black; padding: 1px 3px; border: 1px solid}
</style><style type="text/css">.MathJax_Display {text-align: center; margin: 0; position: relative; display: block!important; text-indent: 0; max-width: none; max-height: none; min-width: 0; min-height: 0; width: 100%}
.MathJax .merror {background-color: #FFFF88; color: #CC0000; border: 1px solid #CC0000; padding: 1px 3px; font-style: normal; font-size: 90%}
.MathJax .MJX-monospace {font-family: monospace}
.MathJax .MJX-sans-serif {font-family: sans-serif}
#MathJax_Tooltip {background-color: InfoBackground; color: InfoText; border: 1px solid black; box-shadow: 2px 2px 5px #AAAAAA; -webkit-box-shadow: 2px 2px 5px #AAAAAA; -moz-box-shadow: 2px 2px 5px #AAAAAA; -khtml-box-shadow: 2px 2px 5px #AAAAAA; filter: progid:DXImageTransform.Microsoft.dropshadow(OffX=2, OffY=2, Color='gray', Positive='true'); padding: 3px 4px; z-index: 401; position: absolute; left: 0; top: 0; width: auto; height: auto; display: none}
.MathJax {display: inline; font-style: normal; font-weight: normal; line-height: normal; font-size: 100%; font-size-adjust: none; text-indent: 0; text-align: left; text-transform: none; letter-spacing: normal; word-spacing: normal; word-wrap: normal; white-space: nowrap; float: none; direction: ltr; max-width: none; max-height: none; min-width: 0; min-height: 0; border: 0; padding: 0; margin: 0}
.MathJax:focus, body :focus .MathJax {display: inline-table}
.MathJax.MathJax_FullWidth {text-align: center; display: table-cell!important; width: 10000em!important}
.MathJax img, .MathJax nobr, .MathJax a {border: 0; padding: 0; margin: 0; max-width: none; max-height: none; min-width: 0; min-height: 0; vertical-align: 0; line-height: normal; text-decoration: none}
img.MathJax_strut {border: 0!important; padding: 0!important; margin: 0!important; vertical-align: 0!important}
.MathJax span {display: inline; position: static; border: 0; padding: 0; margin: 0; vertical-align: 0; line-height: normal; text-decoration: none; box-sizing: content-box}
.MathJax nobr {white-space: nowrap!important}
.MathJax img {display: inline!important; float: none!important}
.MathJax * {transition: none; -webkit-transition: none; -moz-transition: none; -ms-transition: none; -o-transition: none}
.MathJax_Processing {visibility: hidden; position: fixed; width: 0; height: 0; overflow: hidden}
.MathJax_Processed {display: none!important}
.MathJax_test {font-style: normal; font-weight: normal; font-size: 100%; font-size-adjust: none; text-indent: 0; text-transform: none; letter-spacing: normal; word-spacing: normal; overflow: hidden; height: 1px}
.MathJax_test.mjx-test-display {display: table!important}
.MathJax_test.mjx-test-inline {display: inline!important; margin-right: -1px}
.MathJax_test.mjx-test-default {display: block!important; clear: both}
.MathJax_ex_box {display: inline-block!important; position: absolute; overflow: hidden; min-height: 0; max-height: none; padding: 0; border: 0; margin: 0; width: 1px; height: 60ex}
.MathJax_em_box {display: inline-block!important; position: absolute; overflow: hidden; min-height: 0; max-height: none; padding: 0; border: 0; margin: 0; width: 1px; height: 60em}
.mjx-test-inline .MathJax_left_box {display: inline-block; width: 0; float: left}
.mjx-test-inline .MathJax_right_box {display: inline-block; width: 0; float: right}
.mjx-test-display .MathJax_right_box {display: table-cell!important; width: 10000em!important; min-width: 0; max-width: none; padding: 0; border: 0; margin: 0}
.MathJax .MathJax_HitBox {cursor: text; background: white; opacity: 0; filter: alpha(opacity=0)}
.MathJax .MathJax_HitBox * {filter: none; opacity: 1; background: transparent}
#MathJax_Tooltip * {filter: none; opacity: 1; background: transparent}
@font-face {font-family: MathJax_Blank; src: url('about:blank')}
.MathJax .noError {vertical-align: ; font-size: 90%; text-align: left; color: black; padding: 1px 3px; border: 1px solid}
</style><style type="text/css">/*
 * Copyright (c) Jupyter Development Team.
 * Distributed under the terms of the Modified BSD License.
 */

/* Override the correction for the prompt area in https://github.com/jupyter/notebook/blob/dd41d9fd5c4f698bd7468612d877828a7eeb0e7a/IPython/html/static/notebook/less/outputarea.less#L110 */
.jupyter-widgets-output-area div.output_subarea {
    max-width: 100%;
}

/* Work-around for the bug fixed in https://github.com/jupyter/notebook/pull/2961 */
.jupyter-widgets-output-area > .out_prompt_overlay {
    display: none;
}
</style><link id="favicon" type="image/x-icon" rel="shortcut icon" href="http://localhost:8890/static/base/images/favicon-notebook.ico"><style type="text/css">/*-----------------------------------------------------------------------------
| Copyright (c) 2014-2017, PhosphorJS Contributors
|
| Distributed under the terms of the BSD 3-Clause License.
|
| The full license is in the file LICENSE, distributed with this software.
|----------------------------------------------------------------------------*/


.p-Widget {
  box-sizing: border-box;
  position: relative;
  overflow: hidden;
  cursor: default;
}


.p-Widget.p-mod-hidden {
  display: none !important;
}
</style><style type="text/css">/*-----------------------------------------------------------------------------
| Copyright (c) 2014-2017, PhosphorJS Contributors
|
| Distributed under the terms of the BSD 3-Clause License.
|
| The full license is in the file LICENSE, distributed with this software.
|----------------------------------------------------------------------------*/


.p-CommandPalette {
  display: flex;
  flex-direction: column;
  -webkit-user-select: none;
  -moz-user-select: none;
  -ms-user-select: none;
  user-select: none;
}


.p-CommandPalette-search {
  flex: 0 0 auto;
}


.p-CommandPalette-content {
  flex: 1 1 auto;
  margin: 0;
  padding: 0;
  min-height: 0;
  overflow: auto;
  list-style-type: none;
}


.p-CommandPalette-header {
  overflow: hidden;
  white-space: nowrap;
  text-overflow: ellipsis;
}


.p-CommandPalette-item {
  display: flex;
  flex-direction: row;
}


.p-CommandPalette-itemIcon {
  flex: 0 0 auto;
}


.p-CommandPalette-itemContent {
  flex: 1 1 auto;
  overflow: hidden;
}


.p-CommandPalette-itemShortcut {
  flex: 0 0 auto;
}


.p-CommandPalette-itemLabel {
  overflow: hidden;
  white-space: nowrap;
  text-overflow: ellipsis;
}
</style><style type="text/css">/*-----------------------------------------------------------------------------
| Copyright (c) 2014-2017, PhosphorJS Contributors
|
| Distributed under the terms of the BSD 3-Clause License.
|
| The full license is in the file LICENSE, distributed with this software.
|----------------------------------------------------------------------------*/


.p-DockPanel {
  z-index: 0;
}


.p-DockPanel-widget {
  z-index: 0;
}


.p-DockPanel-tabBar {
  z-index: 1;
}


.p-DockPanel-handle {
  z-index: 2;
}


.p-DockPanel-handle.p-mod-hidden {
  display: none !important;
}


.p-DockPanel-handle:after {
  position: absolute;
  top: 0;
  left: 0;
  width: 100%;
  height: 100%;
  content: '';
}


.p-DockPanel-handle[data-orientation='horizontal'] {
  cursor: ew-resize;
}


.p-DockPanel-handle[data-orientation='vertical'] {
  cursor: ns-resize;
}


.p-DockPanel-handle[data-orientation='horizontal']:after {
  left: 50%;
  min-width: 8px;
  transform: translateX(-50%);
}


.p-DockPanel-handle[data-orientation='vertical']:after {
  top: 50%;
  min-height: 8px;
  transform: translateY(-50%);
}


.p-DockPanel-overlay {
  z-index: 3;
  box-sizing: border-box;
  pointer-events: none;
}


.p-DockPanel-overlay.p-mod-hidden {
  display: none !important;
}
</style><style type="text/css">/*-----------------------------------------------------------------------------
| Copyright (c) 2014-2017, PhosphorJS Contributors
|
| Distributed under the terms of the BSD 3-Clause License.
|
| The full license is in the file LICENSE, distributed with this software.
|----------------------------------------------------------------------------*/


.p-Menu {
  z-index: 10000;
  position: absolute;
  white-space: nowrap;
  overflow-x: hidden;
  overflow-y: auto;
  outline: none;
  -webkit-user-select: none;
  -moz-user-select: none;
  -ms-user-select: none;
  user-select: none;
}


.p-Menu-content {
  margin: 0;
  padding: 0;
  display: table;
  list-style-type: none;
}


.p-Menu-item {
  display: table-row;
}


.p-Menu-item.p-mod-hidden,
.p-Menu-item.p-mod-collapsed {
  display: none !important;
}


.p-Menu-itemIcon,
.p-Menu-itemSubmenuIcon {
  display: table-cell;
  text-align: center;
}


.p-Menu-itemLabel {
  display: table-cell;
  text-align: left;
}


.p-Menu-itemShortcut {
  display: table-cell;
  text-align: right;
}
</style><style type="text/css">/*-----------------------------------------------------------------------------
| Copyright (c) 2014-2017, PhosphorJS Contributors
|
| Distributed under the terms of the BSD 3-Clause License.
|
| The full license is in the file LICENSE, distributed with this software.
|----------------------------------------------------------------------------*/


.p-MenuBar {
  outline: none;
  -webkit-user-select: none;
  -moz-user-select: none;
  -ms-user-select: none;
  user-select: none;
}


.p-MenuBar-content {
  margin: 0;
  padding: 0;
  display: flex;
  flex-direction: row;
  list-style-type: none;
}


.p-MenuBar-item {
  box-sizing: border-box;
}


.p-MenuBar-itemIcon,
.p-MenuBar-itemLabel {
  display: inline-block;
}
</style><style type="text/css">/*-----------------------------------------------------------------------------
| Copyright (c) 2014-2017, PhosphorJS Contributors
|
| Distributed under the terms of the BSD 3-Clause License.
|
| The full license is in the file LICENSE, distributed with this software.
|----------------------------------------------------------------------------*/


.p-ScrollBar {
  display: flex;
  -webkit-user-select: none;
  -moz-user-select: none;
  -ms-user-select: none;
  user-select: none;
}


.p-ScrollBar[data-orientation='horizontal'] {
  flex-direction: row;
}


.p-ScrollBar[data-orientation='vertical'] {
  flex-direction: column;
}


.p-ScrollBar-button {
  box-sizing: border-box;
  flex: 0 0 auto;
}


.p-ScrollBar-track {
  box-sizing: border-box;
  position: relative;
  overflow: hidden;
  flex: 1 1 auto;
}


.p-ScrollBar-thumb {
  box-sizing: border-box;
  position: absolute;
}
</style><style type="text/css">/*-----------------------------------------------------------------------------
| Copyright (c) 2014-2017, PhosphorJS Contributors
|
| Distributed under the terms of the BSD 3-Clause License.
|
| The full license is in the file LICENSE, distributed with this software.
|----------------------------------------------------------------------------*/


.p-SplitPanel-child {
  z-index: 0;
}


.p-SplitPanel-handle {
  z-index: 1;
}


.p-SplitPanel-handle.p-mod-hidden {
  display: none !important;
}


.p-SplitPanel-handle:after {
  position: absolute;
  top: 0;
  left: 0;
  width: 100%;
  height: 100%;
  content: '';
}


.p-SplitPanel[data-orientation='horizontal'] > .p-SplitPanel-handle {
  cursor: ew-resize;
}


.p-SplitPanel[data-orientation='vertical'] > .p-SplitPanel-handle {
  cursor: ns-resize;
}


.p-SplitPanel[data-orientation='horizontal'] > .p-SplitPanel-handle:after {
  left: 50%;
  min-width: 8px;
  transform: translateX(-50%);
}


.p-SplitPanel[data-orientation='vertical'] > .p-SplitPanel-handle:after {
  top: 50%;
  min-height: 8px;
  transform: translateY(-50%);
}
</style><style type="text/css">/*-----------------------------------------------------------------------------
| Copyright (c) 2014-2017, PhosphorJS Contributors
|
| Distributed under the terms of the BSD 3-Clause License.
|
| The full license is in the file LICENSE, distributed with this software.
|----------------------------------------------------------------------------*/


.p-TabBar {
  display: flex;
  -webkit-user-select: none;
  -moz-user-select: none;
  -ms-user-select: none;
  user-select: none;
}


.p-TabBar[data-orientation='horizontal'] {
  flex-direction: row;
}


.p-TabBar[data-orientation='vertical'] {
  flex-direction: column;
}


.p-TabBar-content {
  margin: 0;
  padding: 0;
  display: flex;
  flex: 1 1 auto;
  list-style-type: none;
}


.p-TabBar[data-orientation='horizontal'] > .p-TabBar-content {
  flex-direction: row;
}


.p-TabBar[data-orientation='vertical'] > .p-TabBar-content {
  flex-direction: column;
}


.p-TabBar-tab {
  display: flex;
  flex-direction: row;
  box-sizing: border-box;
  overflow: hidden;
}


.p-TabBar-tabIcon,
.p-TabBar-tabCloseIcon {
  flex: 0 0 auto;
}


.p-TabBar-tabLabel {
  flex: 1 1 auto;
  overflow: hidden;
  white-space: nowrap;
}


.p-TabBar-tab.p-mod-hidden {
  display: none !important;
}


.p-TabBar.p-mod-dragging .p-TabBar-tab {
  position: relative;
}


.p-TabBar.p-mod-dragging[data-orientation='horizontal'] .p-TabBar-tab {
  left: 0;
  transition: left 150ms ease;
}


.p-TabBar.p-mod-dragging[data-orientation='vertical'] .p-TabBar-tab {
  top: 0;
  transition: top 150ms ease;
}


.p-TabBar.p-mod-dragging .p-TabBar-tab.p-mod-dragging {
  transition: none;
}
</style><style type="text/css">/*-----------------------------------------------------------------------------
| Copyright (c) 2014-2017, PhosphorJS Contributors
|
| Distributed under the terms of the BSD 3-Clause License.
|
| The full license is in the file LICENSE, distributed with this software.
|----------------------------------------------------------------------------*/


.p-TabPanel-tabBar {
  z-index: 1;
}


.p-TabPanel-stackedPanel {
  z-index: 0;
}
</style><style type="text/css">/*-----------------------------------------------------------------------------
| Copyright (c) 2014-2017, PhosphorJS Contributors
|
| Distributed under the terms of the BSD 3-Clause License.
|
| The full license is in the file LICENSE, distributed with this software.
|----------------------------------------------------------------------------*/
</style><style type="text/css">/* Copyright (c) Jupyter Development Team.
 * Distributed under the terms of the Modified BSD License.
 */

 .jupyter-widgets-disconnected::before {
    content: "\f127"; /* chain-broken */
    display: inline-block;
    font: normal normal normal 14px/1 FontAwesome;
    font-size: inherit;
    text-rendering: auto;
    -webkit-font-smoothing: antialiased;
    -moz-osx-font-smoothing: grayscale;
    color: #d9534f;
    padding: 3px;
    align-self: flex-start;
}
</style><style type="text/css">/**
 * The material design colors are adapted from google-material-color v1.2.6
 * https://github.com/danlevan/google-material-color
 * https://github.com/danlevan/google-material-color/blob/f67ca5f4028b2f1b34862f64b0ca67323f91b088/dist/palette.var.css
 *
 * The license for the material design color CSS variables is as follows (see
 * https://github.com/danlevan/google-material-color/blob/f67ca5f4028b2f1b34862f64b0ca67323f91b088/LICENSE)
 *
 * The MIT License (MIT)
 *
 * Copyright (c) 2014 Dan Le Van
 *
 * Permission is hereby granted, free of charge, to any person obtaining a copy
 * of this software and associated documentation files (the "Software"), to deal
 * in the Software without restriction, including without limitation the rights
 * to use, copy, modify, merge, publish, distribute, sublicense, and/or sell
 * copies of the Software, and to permit persons to whom the Software is
 * furnished to do so, subject to the following conditions:
 *
 * The above copyright notice and this permission notice shall be included in
 * all copies or substantial portions of the Software.
 *
 * THE SOFTWARE IS PROVIDED "AS IS", WITHOUT WARRANTY OF ANY KIND, EXPRESS OR
 * IMPLIED, INCLUDING BUT NOT LIMITED TO THE WARRANTIES OF MERCHANTABILITY,
 * FITNESS FOR A PARTICULAR PURPOSE AND NONINFRINGEMENT. IN NO EVENT SHALL THE
 * AUTHORS OR COPYRIGHT HOLDERS BE LIABLE FOR ANY CLAIM, DAMAGES OR OTHER
 * LIABILITY, WHETHER IN AN ACTION OF CONTRACT, TORT OR OTHERWISE, ARISING FROM,
 * OUT OF OR IN CONNECTION WITH THE SOFTWARE OR THE USE OR OTHER DEALINGS IN THE
 * SOFTWARE.
 */
:root {
  --md-red-50: #FFEBEE;
  --md-red-100: #FFCDD2;
  --md-red-200: #EF9A9A;
  --md-red-300: #E57373;
  --md-red-400: #EF5350;
  --md-red-500: #F44336;
  --md-red-600: #E53935;
  --md-red-700: #D32F2F;
  --md-red-800: #C62828;
  --md-red-900: #B71C1C;
  --md-red-A100: #FF8A80;
  --md-red-A200: #FF5252;
  --md-red-A400: #FF1744;
  --md-red-A700: #D50000;

  --md-pink-50: #FCE4EC;
  --md-pink-100: #F8BBD0;
  --md-pink-200: #F48FB1;
  --md-pink-300: #F06292;
  --md-pink-400: #EC407A;
  --md-pink-500: #E91E63;
  --md-pink-600: #D81B60;
  --md-pink-700: #C2185B;
  --md-pink-800: #AD1457;
  --md-pink-900: #880E4F;
  --md-pink-A100: #FF80AB;
  --md-pink-A200: #FF4081;
  --md-pink-A400: #F50057;
  --md-pink-A700: #C51162;

  --md-purple-50: #F3E5F5;
  --md-purple-100: #E1BEE7;
  --md-purple-200: #CE93D8;
  --md-purple-300: #BA68C8;
  --md-purple-400: #AB47BC;
  --md-purple-500: #9C27B0;
  --md-purple-600: #8E24AA;
  --md-purple-700: #7B1FA2;
  --md-purple-800: #6A1B9A;
  --md-purple-900: #4A148C;
  --md-purple-A100: #EA80FC;
  --md-purple-A200: #E040FB;
  --md-purple-A400: #D500F9;
  --md-purple-A700: #AA00FF;

  --md-deep-purple-50: #EDE7F6;
  --md-deep-purple-100: #D1C4E9;
  --md-deep-purple-200: #B39DDB;
  --md-deep-purple-300: #9575CD;
  --md-deep-purple-400: #7E57C2;
  --md-deep-purple-500: #673AB7;
  --md-deep-purple-600: #5E35B1;
  --md-deep-purple-700: #512DA8;
  --md-deep-purple-800: #4527A0;
  --md-deep-purple-900: #311B92;
  --md-deep-purple-A100: #B388FF;
  --md-deep-purple-A200: #7C4DFF;
  --md-deep-purple-A400: #651FFF;
  --md-deep-purple-A700: #6200EA;

  --md-indigo-50: #E8EAF6;
  --md-indigo-100: #C5CAE9;
  --md-indigo-200: #9FA8DA;
  --md-indigo-300: #7986CB;
  --md-indigo-400: #5C6BC0;
  --md-indigo-500: #3F51B5;
  --md-indigo-600: #3949AB;
  --md-indigo-700: #303F9F;
  --md-indigo-800: #283593;
  --md-indigo-900: #1A237E;
  --md-indigo-A100: #8C9EFF;
  --md-indigo-A200: #536DFE;
  --md-indigo-A400: #3D5AFE;
  --md-indigo-A700: #304FFE;

  --md-blue-50: #E3F2FD;
  --md-blue-100: #BBDEFB;
  --md-blue-200: #90CAF9;
  --md-blue-300: #64B5F6;
  --md-blue-400: #42A5F5;
  --md-blue-500: #2196F3;
  --md-blue-600: #1E88E5;
  --md-blue-700: #1976D2;
  --md-blue-800: #1565C0;
  --md-blue-900: #0D47A1;
  --md-blue-A100: #82B1FF;
  --md-blue-A200: #448AFF;
  --md-blue-A400: #2979FF;
  --md-blue-A700: #2962FF;

  --md-light-blue-50: #E1F5FE;
  --md-light-blue-100: #B3E5FC;
  --md-light-blue-200: #81D4FA;
  --md-light-blue-300: #4FC3F7;
  --md-light-blue-400: #29B6F6;
  --md-light-blue-500: #03A9F4;
  --md-light-blue-600: #039BE5;
  --md-light-blue-700: #0288D1;
  --md-light-blue-800: #0277BD;
  --md-light-blue-900: #01579B;
  --md-light-blue-A100: #80D8FF;
  --md-light-blue-A200: #40C4FF;
  --md-light-blue-A400: #00B0FF;
  --md-light-blue-A700: #0091EA;

  --md-cyan-50: #E0F7FA;
  --md-cyan-100: #B2EBF2;
  --md-cyan-200: #80DEEA;
  --md-cyan-300: #4DD0E1;
  --md-cyan-400: #26C6DA;
  --md-cyan-500: #00BCD4;
  --md-cyan-600: #00ACC1;
  --md-cyan-700: #0097A7;
  --md-cyan-800: #00838F;
  --md-cyan-900: #006064;
  --md-cyan-A100: #84FFFF;
  --md-cyan-A200: #18FFFF;
  --md-cyan-A400: #00E5FF;
  --md-cyan-A700: #00B8D4;

  --md-teal-50: #E0F2F1;
  --md-teal-100: #B2DFDB;
  --md-teal-200: #80CBC4;
  --md-teal-300: #4DB6AC;
  --md-teal-400: #26A69A;
  --md-teal-500: #009688;
  --md-teal-600: #00897B;
  --md-teal-700: #00796B;
  --md-teal-800: #00695C;
  --md-teal-900: #004D40;
  --md-teal-A100: #A7FFEB;
  --md-teal-A200: #64FFDA;
  --md-teal-A400: #1DE9B6;
  --md-teal-A700: #00BFA5;

  --md-green-50: #E8F5E9;
  --md-green-100: #C8E6C9;
  --md-green-200: #A5D6A7;
  --md-green-300: #81C784;
  --md-green-400: #66BB6A;
  --md-green-500: #4CAF50;
  --md-green-600: #43A047;
  --md-green-700: #388E3C;
  --md-green-800: #2E7D32;
  --md-green-900: #1B5E20;
  --md-green-A100: #B9F6CA;
  --md-green-A200: #69F0AE;
  --md-green-A400: #00E676;
  --md-green-A700: #00C853;

  --md-light-green-50: #F1F8E9;
  --md-light-green-100: #DCEDC8;
  --md-light-green-200: #C5E1A5;
  --md-light-green-300: #AED581;
  --md-light-green-400: #9CCC65;
  --md-light-green-500: #8BC34A;
  --md-light-green-600: #7CB342;
  --md-light-green-700: #689F38;
  --md-light-green-800: #558B2F;
  --md-light-green-900: #33691E;
  --md-light-green-A100: #CCFF90;
  --md-light-green-A200: #B2FF59;
  --md-light-green-A400: #76FF03;
  --md-light-green-A700: #64DD17;

  --md-lime-50: #F9FBE7;
  --md-lime-100: #F0F4C3;
  --md-lime-200: #E6EE9C;
  --md-lime-300: #DCE775;
  --md-lime-400: #D4E157;
  --md-lime-500: #CDDC39;
  --md-lime-600: #C0CA33;
  --md-lime-700: #AFB42B;
  --md-lime-800: #9E9D24;
  --md-lime-900: #827717;
  --md-lime-A100: #F4FF81;
  --md-lime-A200: #EEFF41;
  --md-lime-A400: #C6FF00;
  --md-lime-A700: #AEEA00;

  --md-yellow-50: #FFFDE7;
  --md-yellow-100: #FFF9C4;
  --md-yellow-200: #FFF59D;
  --md-yellow-300: #FFF176;
  --md-yellow-400: #FFEE58;
  --md-yellow-500: #FFEB3B;
  --md-yellow-600: #FDD835;
  --md-yellow-700: #FBC02D;
  --md-yellow-800: #F9A825;
  --md-yellow-900: #F57F17;
  --md-yellow-A100: #FFFF8D;
  --md-yellow-A200: #FFFF00;
  --md-yellow-A400: #FFEA00;
  --md-yellow-A700: #FFD600;

  --md-amber-50: #FFF8E1;
  --md-amber-100: #FFECB3;
  --md-amber-200: #FFE082;
  --md-amber-300: #FFD54F;
  --md-amber-400: #FFCA28;
  --md-amber-500: #FFC107;
  --md-amber-600: #FFB300;
  --md-amber-700: #FFA000;
  --md-amber-800: #FF8F00;
  --md-amber-900: #FF6F00;
  --md-amber-A100: #FFE57F;
  --md-amber-A200: #FFD740;
  --md-amber-A400: #FFC400;
  --md-amber-A700: #FFAB00;

  --md-orange-50: #FFF3E0;
  --md-orange-100: #FFE0B2;
  --md-orange-200: #FFCC80;
  --md-orange-300: #FFB74D;
  --md-orange-400: #FFA726;
  --md-orange-500: #FF9800;
  --md-orange-600: #FB8C00;
  --md-orange-700: #F57C00;
  --md-orange-800: #EF6C00;
  --md-orange-900: #E65100;
  --md-orange-A100: #FFD180;
  --md-orange-A200: #FFAB40;
  --md-orange-A400: #FF9100;
  --md-orange-A700: #FF6D00;

  --md-deep-orange-50: #FBE9E7;
  --md-deep-orange-100: #FFCCBC;
  --md-deep-orange-200: #FFAB91;
  --md-deep-orange-300: #FF8A65;
  --md-deep-orange-400: #FF7043;
  --md-deep-orange-500: #FF5722;
  --md-deep-orange-600: #F4511E;
  --md-deep-orange-700: #E64A19;
  --md-deep-orange-800: #D84315;
  --md-deep-orange-900: #BF360C;
  --md-deep-orange-A100: #FF9E80;
  --md-deep-orange-A200: #FF6E40;
  --md-deep-orange-A400: #FF3D00;
  --md-deep-orange-A700: #DD2C00;

  --md-brown-50: #EFEBE9;
  --md-brown-100: #D7CCC8;
  --md-brown-200: #BCAAA4;
  --md-brown-300: #A1887F;
  --md-brown-400: #8D6E63;
  --md-brown-500: #795548;
  --md-brown-600: #6D4C41;
  --md-brown-700: #5D4037;
  --md-brown-800: #4E342E;
  --md-brown-900: #3E2723;

  --md-grey-50: #FAFAFA;
  --md-grey-100: #F5F5F5;
  --md-grey-200: #EEEEEE;
  --md-grey-300: #E0E0E0;
  --md-grey-400: #BDBDBD;
  --md-grey-500: #9E9E9E;
  --md-grey-600: #757575;
  --md-grey-700: #616161;
  --md-grey-800: #424242;
  --md-grey-900: #212121;

  --md-blue-grey-50: #ECEFF1;
  --md-blue-grey-100: #CFD8DC;
  --md-blue-grey-200: #B0BEC5;
  --md-blue-grey-300: #90A4AE;
  --md-blue-grey-400: #78909C;
  --md-blue-grey-500: #607D8B;
  --md-blue-grey-600: #546E7A;
  --md-blue-grey-700: #455A64;
  --md-blue-grey-800: #37474F;
  --md-blue-grey-900: #263238;
}</style><style type="text/css">/*-----------------------------------------------------------------------------
| Copyright (c) Jupyter Development Team.
| Distributed under the terms of the Modified BSD License.
|----------------------------------------------------------------------------*/

/*
This file is copied from the JupyterLab project to define default styling for
when the widget styling is compiled down to eliminate CSS variables. We make one
change - we comment out the font import below.
*/

/*
The following CSS variables define the main, public API for styling JupyterLab.
These variables should be used by all plugins wherever possible. In other
words, plugins should not define custom colors, sizes, etc unless absolutely
necessary. This enables users to change the visual theme of JupyterLab
by changing these variables.

Many variables appear in an ordered sequence (0,1,2,3). These sequences
are designed to work well together, so for example, `--jp-border-color1` should
be used with `--jp-layout-color1`. The numbers have the following meanings:

* 0: super-primary, reserved for special emphasis
* 1: primary, most important under normal situations
* 2: secondary, next most important under normal situations
* 3: tertiary, next most important under normal situations

Throughout JupyterLab, we are mostly following principles from Google's
Material Design when selecting colors. We are not, however, following
all of MD as it is not optimized for dense, information rich UIs.
*/


/*
 * Optional monospace font for input/output prompt.
 */
 /* Commented out in ipywidgets since we don't need it. */
/* @import url('https://fonts.googleapis.com/css?family=Roboto+Mono'); */

/*
 * Added for compabitility with output area
 */
:root {
  --jp-icon-search: none;
  --jp-ui-select-caret: none;
}


:root {

  /* Borders

  The following variables, specify the visual styling of borders in JupyterLab.
   */

  --jp-border-width: 1px;
  --jp-border-color0: var(--md-grey-700);
  --jp-border-color1: var(--md-grey-500);
  --jp-border-color2: var(--md-grey-300);
  --jp-border-color3: var(--md-grey-100);

  /* UI Fonts

  The UI font CSS variables are used for the typography all of the JupyterLab
  user interface elements that are not directly user generated content.
  */

  --jp-ui-font-scale-factor: 1.2;
  --jp-ui-font-size0: calc(var(--jp-ui-font-size1)/var(--jp-ui-font-scale-factor));
  --jp-ui-font-size1: 13px; /* Base font size */
  --jp-ui-font-size2: calc(var(--jp-ui-font-size1)*var(--jp-ui-font-scale-factor));
  --jp-ui-font-size3: calc(var(--jp-ui-font-size2)*var(--jp-ui-font-scale-factor));
  --jp-ui-icon-font-size: 14px; /* Ensures px perfect FontAwesome icons */
  --jp-ui-font-family: "Helvetica Neue", Helvetica, Arial, sans-serif;

  /* Use these font colors against the corresponding main layout colors.
     In a light theme, these go from dark to light.
  */

  --jp-ui-font-color0: rgba(0,0,0,1.0);
  --jp-ui-font-color1: rgba(0,0,0,0.8);
  --jp-ui-font-color2: rgba(0,0,0,0.5);
  --jp-ui-font-color3: rgba(0,0,0,0.3);

  /* Use these against the brand/accent/warn/error colors.
     These will typically go from light to darker, in both a dark and light theme
   */

  --jp-inverse-ui-font-color0: rgba(255,255,255,1);
  --jp-inverse-ui-font-color1: rgba(255,255,255,1.0);
  --jp-inverse-ui-font-color2: rgba(255,255,255,0.7);
  --jp-inverse-ui-font-color3: rgba(255,255,255,0.5);

  /* Content Fonts

  Content font variables are used for typography of user generated content.
  */

  --jp-content-font-size: 13px;
  --jp-content-line-height: 1.5;
  --jp-content-font-color0: black;
  --jp-content-font-color1: black;
  --jp-content-font-color2: var(--md-grey-700);
  --jp-content-font-color3: var(--md-grey-500);

  --jp-ui-font-scale-factor: 1.2;
  --jp-ui-font-size0: calc(var(--jp-ui-font-size1)/var(--jp-ui-font-scale-factor));
  --jp-ui-font-size1: 13px; /* Base font size */
  --jp-ui-font-size2: calc(var(--jp-ui-font-size1)*var(--jp-ui-font-scale-factor));
  --jp-ui-font-size3: calc(var(--jp-ui-font-size2)*var(--jp-ui-font-scale-factor));

  --jp-code-font-size: 13px;
  --jp-code-line-height: 1.307;
  --jp-code-padding: 5px;
  --jp-code-font-family: monospace;


  /* Layout

  The following are the main layout colors use in JupyterLab. In a light
  theme these would go from light to dark.
  */

  --jp-layout-color0: white;
  --jp-layout-color1: white;
  --jp-layout-color2: var(--md-grey-200);
  --jp-layout-color3: var(--md-grey-400);

  /* Brand/accent */

  --jp-brand-color0: var(--md-blue-700);
  --jp-brand-color1: var(--md-blue-500);
  --jp-brand-color2: var(--md-blue-300);
  --jp-brand-color3: var(--md-blue-100);

  --jp-accent-color0: var(--md-green-700);
  --jp-accent-color1: var(--md-green-500);
  --jp-accent-color2: var(--md-green-300);
  --jp-accent-color3: var(--md-green-100);

  /* State colors (warn, error, success, info) */

  --jp-warn-color0: var(--md-orange-700);
  --jp-warn-color1: var(--md-orange-500);
  --jp-warn-color2: var(--md-orange-300);
  --jp-warn-color3: var(--md-orange-100);

  --jp-error-color0: var(--md-red-700);
  --jp-error-color1: var(--md-red-500);
  --jp-error-color2: var(--md-red-300);
  --jp-error-color3: var(--md-red-100);

  --jp-success-color0: var(--md-green-700);
  --jp-success-color1: var(--md-green-500);
  --jp-success-color2: var(--md-green-300);
  --jp-success-color3: var(--md-green-100);

  --jp-info-color0: var(--md-cyan-700);
  --jp-info-color1: var(--md-cyan-500);
  --jp-info-color2: var(--md-cyan-300);
  --jp-info-color3: var(--md-cyan-100);

  /* Cell specific styles */

  --jp-cell-padding: 5px;
  --jp-cell-editor-background: #f7f7f7;
  --jp-cell-editor-border-color: #cfcfcf;
  --jp-cell-editor-background-edit: var(--jp-ui-layout-color1);
  --jp-cell-editor-border-color-edit: var(--jp-brand-color1);
  --jp-cell-prompt-width: 100px;
  --jp-cell-prompt-font-family: 'Roboto Mono', monospace;
  --jp-cell-prompt-letter-spacing: 0px;
  --jp-cell-prompt-opacity: 1.0;
  --jp-cell-prompt-opacity-not-active: 0.4;
  --jp-cell-prompt-font-color-not-active: var(--md-grey-700);
  /* A custom blend of MD grey and blue 600
   * See https://meyerweb.com/eric/tools/color-blend/#546E7A:1E88E5:5:hex */
  --jp-cell-inprompt-font-color: #307FC1;
  /* A custom blend of MD grey and orange 600
   * https://meyerweb.com/eric/tools/color-blend/#546E7A:F4511E:5:hex */
  --jp-cell-outprompt-font-color: #BF5B3D;

  /* Notebook specific styles */

  --jp-notebook-padding: 10px;
  --jp-notebook-scroll-padding: 100px;

  /* Console specific styles */

  --jp-console-background: var(--md-grey-100);

  /* Toolbar specific styles */

  --jp-toolbar-border-color: var(--md-grey-400);
  --jp-toolbar-micro-height: 8px;
  --jp-toolbar-background: var(--jp-layout-color0);
  --jp-toolbar-box-shadow: 0px 0px 2px 0px rgba(0,0,0,0.24);
  --jp-toolbar-header-margin: 4px 4px 0px 4px;
  --jp-toolbar-active-background: var(--md-grey-300);
}
</style><style type="text/css">/* This file has code derived from PhosphorJS CSS files, as noted below. The license for this PhosphorJS code is:

Copyright (c) 2014-2017, PhosphorJS Contributors
All rights reserved.

Redistribution and use in source and binary forms, with or without
modification, are permitted provided that the following conditions are met:

* Redistributions of source code must retain the above copyright notice, this
  list of conditions and the following disclaimer.

* Redistributions in binary form must reproduce the above copyright notice,
  this list of conditions and the following disclaimer in the documentation
  and/or other materials provided with the distribution.

* Neither the name of the copyright holder nor the names of its
  contributors may be used to endorse or promote products derived from
  this software without specific prior written permission.

THIS SOFTWARE IS PROVIDED BY THE COPYRIGHT HOLDERS AND CONTRIBUTORS "AS IS"
AND ANY EXPRESS OR IMPLIED WARRANTIES, INCLUDING, BUT NOT LIMITED TO, THE
IMPLIED WARRANTIES OF MERCHANTABILITY AND FITNESS FOR A PARTICULAR PURPOSE ARE
DISCLAIMED. IN NO EVENT SHALL THE COPYRIGHT HOLDER OR CONTRIBUTORS BE LIABLE
FOR ANY DIRECT, INDIRECT, INCIDENTAL, SPECIAL, EXEMPLARY, OR CONSEQUENTIAL
DAMAGES (INCLUDING, BUT NOT LIMITED TO, PROCUREMENT OF SUBSTITUTE GOODS OR
SERVICES; LOSS OF USE, DATA, OR PROFITS; OR BUSINESS INTERRUPTION) HOWEVER
CAUSED AND ON ANY THEORY OF LIABILITY, WHETHER IN CONTRACT, STRICT LIABILITY,
OR TORT (INCLUDING NEGLIGENCE OR OTHERWISE) ARISING IN ANY WAY OUT OF THE USE
OF THIS SOFTWARE, EVEN IF ADVISED OF THE POSSIBILITY OF SUCH DAMAGE.

*/

/*
 * The following section is derived from https://github.com/phosphorjs/phosphor/blob/23b9d075ebc5b73ab148b6ebfc20af97f85714c4/packages/widgets/style/tabbar.css 
 * We've scoped the rules so that they are consistent with exactly our code.
 */

.jupyter-widgets.widget-tab > .p-TabBar {
  display: flex;
  -webkit-user-select: none;
  -moz-user-select: none;
  -ms-user-select: none;
  user-select: none;
}


.jupyter-widgets.widget-tab > .p-TabBar[data-orientation='horizontal'] {
  flex-direction: row;
}


.jupyter-widgets.widget-tab > .p-TabBar[data-orientation='vertical'] {
  flex-direction: column;
}


.jupyter-widgets.widget-tab > .p-TabBar > .p-TabBar-content {
  margin: 0;
  padding: 0;
  display: flex;
  flex: 1 1 auto;
  list-style-type: none;
}


.jupyter-widgets.widget-tab > .p-TabBar[data-orientation='horizontal'] > .p-TabBar-content {
  flex-direction: row;
}


.jupyter-widgets.widget-tab > .p-TabBar[data-orientation='vertical'] > .p-TabBar-content {
  flex-direction: column;
}


.jupyter-widgets.widget-tab > .p-TabBar .p-TabBar-tab {
  display: flex;
  flex-direction: row;
  box-sizing: border-box;
  overflow: hidden;
}


.jupyter-widgets.widget-tab > .p-TabBar .p-TabBar-tabIcon,
.jupyter-widgets.widget-tab > .p-TabBar .p-TabBar-tabCloseIcon {
  flex: 0 0 auto;
}


.jupyter-widgets.widget-tab > .p-TabBar .p-TabBar-tabLabel {
  flex: 1 1 auto;
  overflow: hidden;
  white-space: nowrap;
}


.jupyter-widgets.widget-tab > .p-TabBar .p-TabBar-tab.p-mod-hidden {
  display: none !important;
}


.jupyter-widgets.widget-tab > .p-TabBar.p-mod-dragging .p-TabBar-tab {
  position: relative;
}


.jupyter-widgets.widget-tab > .p-TabBar.p-mod-dragging[data-orientation='horizontal'] .p-TabBar-tab {
  left: 0;
  transition: left 150ms ease;
}


.jupyter-widgets.widget-tab > .p-TabBar.p-mod-dragging[data-orientation='vertical'] .p-TabBar-tab {
  top: 0;
  transition: top 150ms ease;
}


.jupyter-widgets.widget-tab > .p-TabBar.p-mod-dragging .p-TabBar-tab.p-mod-dragging {
  transition: none;
}

/* End tabbar.css */
</style><style type="text/css">/* Copyright (c) Jupyter Development Team.
 * Distributed under the terms of the Modified BSD License.
 */

/*
 * We assume that the CSS variables in
 * https://github.com/jupyterlab/jupyterlab/blob/master/src/default-theme/variables.css
 * have been defined.
 */

:root {
    --jp-widgets-color: var(--jp-content-font-color1);
    --jp-widgets-label-color: var(--jp-widgets-color);
    --jp-widgets-readout-color: var(--jp-widgets-color);
    --jp-widgets-font-size: var(--jp-ui-font-size1);
    --jp-widgets-margin: 2px;
    --jp-widgets-inline-height: 28px;
    --jp-widgets-inline-width: 300px;
    --jp-widgets-inline-width-short: calc(var(--jp-widgets-inline-width) / 2 - var(--jp-widgets-margin));
    --jp-widgets-inline-width-tiny: calc(var(--jp-widgets-inline-width-short) / 2 - var(--jp-widgets-margin));
    --jp-widgets-inline-margin: 4px; /* margin between inline elements */
    --jp-widgets-inline-label-width: 80px;
    --jp-widgets-border-width: var(--jp-border-width);
    --jp-widgets-vertical-height: 200px;
    --jp-widgets-horizontal-tab-height: 24px;
    --jp-widgets-horizontal-tab-width: 144px;
    --jp-widgets-horizontal-tab-top-border: 2px;
    --jp-widgets-progress-thickness: 20px;
    --jp-widgets-container-padding: 15px;
    --jp-widgets-input-padding: 4px;
    --jp-widgets-radio-item-height-adjustment: 8px;
    --jp-widgets-radio-item-height: calc(var(--jp-widgets-inline-height) - var(--jp-widgets-radio-item-height-adjustment));
    --jp-widgets-slider-track-thickness: 4px;
    --jp-widgets-slider-border-width: var(--jp-widgets-border-width);
    --jp-widgets-slider-handle-size: 16px;
    --jp-widgets-slider-handle-border-color: var(--jp-border-color1);
    --jp-widgets-slider-handle-background-color: var(--jp-layout-color1);
    --jp-widgets-slider-active-handle-color: var(--jp-brand-color1);
    --jp-widgets-menu-item-height: 24px;
    --jp-widgets-dropdown-arrow: url("data:image/svg+xml;base64,PD94bWwgdmVyc2lvbj0iMS4wIiBlbmNvZGluZz0idXRmLTgiPz4KPCEtLSBHZW5lcmF0b3I6IEFkb2JlIElsbHVzdHJhdG9yIDE5LjIuMSwgU1ZHIEV4cG9ydCBQbHVnLUluIC4gU1ZHIFZlcnNpb246IDYuMDAgQnVpbGQgMCkgIC0tPgo8c3ZnIHZlcnNpb249IjEuMSIgaWQ9IkxheWVyXzEiIHhtbG5zPSJodHRwOi8vd3d3LnczLm9yZy8yMDAwL3N2ZyIgeG1sbnM6eGxpbms9Imh0dHA6Ly93d3cudzMub3JnLzE5OTkveGxpbmsiIHg9IjBweCIgeT0iMHB4IgoJIHZpZXdCb3g9IjAgMCAxOCAxOCIgc3R5bGU9ImVuYWJsZS1iYWNrZ3JvdW5kOm5ldyAwIDAgMTggMTg7IiB4bWw6c3BhY2U9InByZXNlcnZlIj4KPHN0eWxlIHR5cGU9InRleHQvY3NzIj4KCS5zdDB7ZmlsbDpub25lO30KPC9zdHlsZT4KPHBhdGggZD0iTTUuMiw1LjlMOSw5LjdsMy44LTMuOGwxLjIsMS4ybC00LjksNWwtNC45LTVMNS4yLDUuOXoiLz4KPHBhdGggY2xhc3M9InN0MCIgZD0iTTAtMC42aDE4djE4SDBWLTAuNnoiLz4KPC9zdmc+Cg");
    --jp-widgets-input-color: var(--jp-ui-font-color1);
    --jp-widgets-input-background-color: var(--jp-layout-color1);
    --jp-widgets-input-border-color: var(--jp-border-color1);
    --jp-widgets-input-focus-border-color: var(--jp-brand-color2);
    --jp-widgets-input-border-width: var(--jp-widgets-border-width);
    --jp-widgets-disabled-opacity: 0.6;

    /* From Material Design Lite */
    --md-shadow-key-umbra-opacity: 0.2;
    --md-shadow-key-penumbra-opacity: 0.14;
    --md-shadow-ambient-shadow-opacity: 0.12;
}

.jupyter-widgets {
    margin: var(--jp-widgets-margin);
    box-sizing: border-box;
    color: var(--jp-widgets-color);
    overflow: visible;
}

.jupyter-widgets.jupyter-widgets-disconnected::before {
    line-height: var(--jp-widgets-inline-height);
    height: var(--jp-widgets-inline-height);
}

.jp-Output-result > .jupyter-widgets {
    margin-left: 0;
    margin-right: 0;
}

/* vbox and hbox */

.widget-inline-hbox {
    /* Horizontal widgets */
    box-sizing: border-box;
    display: flex;
    flex-direction: row;
    align-items: baseline;
}

.widget-inline-vbox {
    /* Vertical Widgets */
    box-sizing: border-box;
    display: flex;
    flex-direction: column;
    align-items: center;
}

.widget-box {
    box-sizing: border-box;
    display: flex;
    margin: 0;
    overflow: auto;
}

.widget-gridbox {
    box-sizing: border-box;
    display: grid;
    margin: 0;
    overflow: auto;
}

.widget-hbox {
    flex-direction: row;
}

.widget-vbox {
    flex-direction: column;
}

/* General Button Styling */

.jupyter-button {
    padding-left: 10px;
    padding-right: 10px;
    padding-top: 0px;
    padding-bottom: 0px;
    display: inline-block;
    white-space: nowrap;
    overflow: hidden;
    text-overflow: ellipsis;
    text-align: center;
    font-size: var(--jp-widgets-font-size);
    cursor: pointer;

    height: var(--jp-widgets-inline-height);
    border: 0px solid;
    line-height: var(--jp-widgets-inline-height);
    box-shadow: none;

    color: var(--jp-ui-font-color1);
    background-color: var(--jp-layout-color2);
    border-color: var(--jp-border-color2);
    border: none;
    user-select: none;
}

.jupyter-button i.fa {
    margin-right: var(--jp-widgets-inline-margin);
    pointer-events: none;
}

.jupyter-button:empty:before {
    content: "\200b"; /* zero-width space */
}

.jupyter-widgets.jupyter-button:disabled {
    opacity: var(--jp-widgets-disabled-opacity);
}

.jupyter-button i.fa.center {
    margin-right: 0;
}

.jupyter-button:hover:enabled, .jupyter-button:focus:enabled {
    /* MD Lite 2dp shadow */
    box-shadow: 0 2px 2px 0 rgba(0, 0, 0, var(--md-shadow-key-penumbra-opacity)),
                0 3px 1px -2px rgba(0, 0, 0, var(--md-shadow-key-umbra-opacity)),
                0 1px 5px 0 rgba(0, 0, 0, var(--md-shadow-ambient-shadow-opacity));
}

.jupyter-button:active, .jupyter-button.mod-active {
    /* MD Lite 4dp shadow */
    box-shadow: 0 4px 5px 0 rgba(0, 0, 0, var(--md-shadow-key-penumbra-opacity)),
                0 1px 10px 0 rgba(0, 0, 0, var(--md-shadow-ambient-shadow-opacity)),
                0 2px 4px -1px rgba(0, 0, 0, var(--md-shadow-key-umbra-opacity));
    color: var(--jp-ui-font-color1);
    background-color: var(--jp-layout-color3);
}

.jupyter-button:focus:enabled {
    outline: 1px solid var(--jp-widgets-input-focus-border-color);
}

/* Button "Primary" Styling */

.jupyter-button.mod-primary {
    color: var(--jp-inverse-ui-font-color1);
    background-color: var(--jp-brand-color1);
}

.jupyter-button.mod-primary.mod-active {
    color: var(--jp-inverse-ui-font-color0);
    background-color: var(--jp-brand-color0);
}

.jupyter-button.mod-primary:active {
    color: var(--jp-inverse-ui-font-color0);
    background-color: var(--jp-brand-color0);
}

/* Button "Success" Styling */

.jupyter-button.mod-success {
    color: var(--jp-inverse-ui-font-color1);
    background-color: var(--jp-success-color1);
}

.jupyter-button.mod-success.mod-active {
    color: var(--jp-inverse-ui-font-color0);
    background-color: var(--jp-success-color0);
 }

.jupyter-button.mod-success:active {
    color: var(--jp-inverse-ui-font-color0);
    background-color: var(--jp-success-color0);
 }

 /* Button "Info" Styling */

.jupyter-button.mod-info {
    color: var(--jp-inverse-ui-font-color1);
    background-color: var(--jp-info-color1);
}

.jupyter-button.mod-info.mod-active {
    color: var(--jp-inverse-ui-font-color0);
    background-color: var(--jp-info-color0);
}

.jupyter-button.mod-info:active {
    color: var(--jp-inverse-ui-font-color0);
    background-color: var(--jp-info-color0);
}

/* Button "Warning" Styling */

.jupyter-button.mod-warning {
    color: var(--jp-inverse-ui-font-color1);
    background-color: var(--jp-warn-color1);
}

.jupyter-button.mod-warning.mod-active {
    color: var(--jp-inverse-ui-font-color0);
    background-color: var(--jp-warn-color0);
}

.jupyter-button.mod-warning:active {
    color: var(--jp-inverse-ui-font-color0);
    background-color: var(--jp-warn-color0);
}

/* Button "Danger" Styling */

.jupyter-button.mod-danger {
    color: var(--jp-inverse-ui-font-color1);
    background-color: var(--jp-error-color1);
}

.jupyter-button.mod-danger.mod-active {
    color: var(--jp-inverse-ui-font-color0);
    background-color: var(--jp-error-color0);
}

.jupyter-button.mod-danger:active {
    color: var(--jp-inverse-ui-font-color0);
    background-color: var(--jp-error-color0);
}

/* Widget Button, Widget Toggle Button, Widget Upload */

.widget-button, .widget-toggle-button, .widget-upload {
    width: var(--jp-widgets-inline-width-short);
}

/* Widget Label Styling */

/* Override Bootstrap label css */
.jupyter-widgets label {
    margin-bottom: initial;
}

.widget-label-basic {
    /* Basic Label */
    color: var(--jp-widgets-label-color);
    font-size: var(--jp-widgets-font-size);
    overflow: hidden;
    text-overflow: ellipsis;
    white-space: nowrap;
    line-height: var(--jp-widgets-inline-height);
}

.widget-label {
    /* Label */
    color: var(--jp-widgets-label-color);
    font-size: var(--jp-widgets-font-size);
    overflow: hidden;
    text-overflow: ellipsis;
    white-space: nowrap;
    line-height: var(--jp-widgets-inline-height);
}

.widget-inline-hbox .widget-label {
    /* Horizontal Widget Label */
    color: var(--jp-widgets-label-color);
    text-align: right;
    margin-right: calc( var(--jp-widgets-inline-margin) * 2 );
    width: var(--jp-widgets-inline-label-width);
    flex-shrink: 0;
}

.widget-inline-vbox .widget-label {
    /* Vertical Widget Label */
    color: var(--jp-widgets-label-color);
    text-align: center;
    line-height: var(--jp-widgets-inline-height);
}

/* Widget Readout Styling */

.widget-readout {
    color: var(--jp-widgets-readout-color);
    font-size: var(--jp-widgets-font-size);
    height: var(--jp-widgets-inline-height);
    line-height: var(--jp-widgets-inline-height);
    overflow: hidden;
    white-space: nowrap;
    text-align: center;
}

.widget-readout.overflow {
    /* Overflowing Readout */

    /* From Material Design Lite
        shadow-key-umbra-opacity: 0.2;
        shadow-key-penumbra-opacity: 0.14;
        shadow-ambient-shadow-opacity: 0.12;
     */
    -webkit-box-shadow: 0 2px 2px 0 rgba(0, 0, 0, 0.2),
                        0 3px 1px -2px rgba(0, 0, 0, 0.14),
                        0 1px 5px 0 rgba(0, 0, 0, 0.12);

    -moz-box-shadow: 0 2px 2px 0 rgba(0, 0, 0, 0.2),
                     0 3px 1px -2px rgba(0, 0, 0, 0.14),
                     0 1px 5px 0 rgba(0, 0, 0, 0.12);

    box-shadow: 0 2px 2px 0 rgba(0, 0, 0, 0.2),
                0 3px 1px -2px rgba(0, 0, 0, 0.14),
                0 1px 5px 0 rgba(0, 0, 0, 0.12);
}

.widget-inline-hbox .widget-readout {
    /* Horizontal Readout */
    text-align: center;
    max-width: var(--jp-widgets-inline-width-short);
    min-width: var(--jp-widgets-inline-width-tiny);
    margin-left: var(--jp-widgets-inline-margin);
}

.widget-inline-vbox .widget-readout {
    /* Vertical Readout */
    margin-top: var(--jp-widgets-inline-margin);
    /* as wide as the widget */
    width: inherit;
}

/* Widget Checkbox Styling */

.widget-checkbox {
    width: var(--jp-widgets-inline-width);
    height: var(--jp-widgets-inline-height);
    line-height: var(--jp-widgets-inline-height);
}

.widget-checkbox input[type="checkbox"] {
    margin: 0px calc( var(--jp-widgets-inline-margin) * 2 ) 0px 0px;
    line-height: var(--jp-widgets-inline-height);
    font-size: large;
    flex-grow: 1;
    flex-shrink: 0;
    align-self: center;
}

/* Widget Valid Styling */

.widget-valid {
    height: var(--jp-widgets-inline-height);
    line-height: var(--jp-widgets-inline-height);
    width: var(--jp-widgets-inline-width-short);
    font-size: var(--jp-widgets-font-size);
}

.widget-valid i:before {
    line-height: var(--jp-widgets-inline-height);
    margin-right: var(--jp-widgets-inline-margin);
    margin-left: var(--jp-widgets-inline-margin);

    /* from the fa class in FontAwesome: https://github.com/FortAwesome/Font-Awesome/blob/49100c7c3a7b58d50baa71efef11af41a66b03d3/css/font-awesome.css#L14 */
    display: inline-block;
    font: normal normal normal 14px/1 FontAwesome;
    font-size: inherit;
    text-rendering: auto;
    -webkit-font-smoothing: antialiased;
    -moz-osx-font-smoothing: grayscale;
}

.widget-valid.mod-valid i:before {
    content: "\f00c";
    color: green;
}

.widget-valid.mod-invalid i:before {
    content: "\f00d";
    color: red;
}

.widget-valid.mod-valid .widget-valid-readout {
    display: none;
}

/* Widget Text and TextArea Stying */

.widget-textarea, .widget-text {
    width: var(--jp-widgets-inline-width);
}

.widget-text input[type="text"], .widget-text input[type="number"]{
    height: var(--jp-widgets-inline-height);
    line-height: var(--jp-widgets-inline-height);
}

.widget-text input[type="text"]:disabled, .widget-text input[type="number"]:disabled, .widget-textarea textarea:disabled {
    opacity: var(--jp-widgets-disabled-opacity);
}

.widget-text input[type="text"], .widget-text input[type="number"], .widget-textarea textarea {
    box-sizing: border-box;
    border: var(--jp-widgets-input-border-width) solid var(--jp-widgets-input-border-color);
    background-color: var(--jp-widgets-input-background-color);
    color: var(--jp-widgets-input-color);
    font-size: var(--jp-widgets-font-size);
    flex-grow: 1;
    min-width: 0; /* This makes it possible for the flexbox to shrink this input */
    flex-shrink: 1;
    outline: none !important;
}
    
.widget-text input[type="text"], .widget-textarea textarea {
    padding: var(--jp-widgets-input-padding) calc( var(--jp-widgets-input-padding) *  2);
}

.widget-text input[type="number"] {
    padding: var(--jp-widgets-input-padding) 0 var(--jp-widgets-input-padding) calc(var(--jp-widgets-input-padding) *  2);
}

.widget-textarea textarea {
    height: inherit;
    width: inherit;
}

.widget-text input:focus, .widget-textarea textarea:focus {
    border-color: var(--jp-widgets-input-focus-border-color);
}

/* Widget Slider */

.widget-slider .ui-slider {
    /* Slider Track */
    border: var(--jp-widgets-slider-border-width) solid var(--jp-layout-color3);
    background: var(--jp-layout-color3);
    box-sizing: border-box;
    position: relative;
    border-radius: 0px;
}

.widget-slider .ui-slider .ui-slider-handle {
    /* Slider Handle */
    outline: none !important; /* focused slider handles are colored - see below */
    position: absolute;
    background-color: var(--jp-widgets-slider-handle-background-color);
    border: var(--jp-widgets-slider-border-width) solid var(--jp-widgets-slider-handle-border-color);
    box-sizing: border-box;
    z-index: 1;
    background-image: none; /* Override jquery-ui */
}

/* Override jquery-ui */
.widget-slider .ui-slider .ui-slider-handle:hover, .widget-slider .ui-slider .ui-slider-handle:focus {
    background-color: var(--jp-widgets-slider-active-handle-color);
    border: var(--jp-widgets-slider-border-width) solid var(--jp-widgets-slider-active-handle-color);
}

.widget-slider .ui-slider .ui-slider-handle:active {
    background-color: var(--jp-widgets-slider-active-handle-color);
    border-color: var(--jp-widgets-slider-active-handle-color);
    z-index: 2;
    transform: scale(1.2);
}

.widget-slider  .ui-slider .ui-slider-range {
    /* Interval between the two specified value of a double slider */
    position: absolute;
    background: var(--jp-widgets-slider-active-handle-color);
    z-index: 0;
}

/* Shapes of Slider Handles */

.widget-hslider .ui-slider .ui-slider-handle {
    width: var(--jp-widgets-slider-handle-size);
    height: var(--jp-widgets-slider-handle-size);
    margin-top: calc((var(--jp-widgets-slider-track-thickness) - var(--jp-widgets-slider-handle-size)) / 2 - var(--jp-widgets-slider-border-width));
    margin-left: calc(var(--jp-widgets-slider-handle-size) / -2 + var(--jp-widgets-slider-border-width));
    border-radius: 50%;
    top: 0;
}

.widget-vslider .ui-slider .ui-slider-handle {
    width: var(--jp-widgets-slider-handle-size);
    height: var(--jp-widgets-slider-handle-size);
    margin-bottom: calc(var(--jp-widgets-slider-handle-size) / -2 + var(--jp-widgets-slider-border-width));
    margin-left: calc((var(--jp-widgets-slider-track-thickness) - var(--jp-widgets-slider-handle-size)) / 2 - var(--jp-widgets-slider-border-width));
    border-radius: 50%;
    left: 0;
}

.widget-hslider .ui-slider .ui-slider-range {
    height: calc( var(--jp-widgets-slider-track-thickness) * 2 );
    margin-top: calc((var(--jp-widgets-slider-track-thickness) - var(--jp-widgets-slider-track-thickness) * 2 ) / 2 - var(--jp-widgets-slider-border-width));
}

.widget-vslider .ui-slider .ui-slider-range {
    width: calc( var(--jp-widgets-slider-track-thickness) * 2 );
    margin-left: calc((var(--jp-widgets-slider-track-thickness) - var(--jp-widgets-slider-track-thickness) * 2 ) / 2 - var(--jp-widgets-slider-border-width));
}

/* Horizontal Slider */

.widget-hslider {
    width: var(--jp-widgets-inline-width);
    height: var(--jp-widgets-inline-height);
    line-height: var(--jp-widgets-inline-height);

    /* Override the align-items baseline. This way, the description and readout
    still seem to align their baseline properly, and we don't have to have
    align-self: stretch in the .slider-container. */
    align-items: center;
}

.widgets-slider .slider-container {
    overflow: visible;
}

.widget-hslider .slider-container {
    height: var(--jp-widgets-inline-height);
    margin-left: calc(var(--jp-widgets-slider-handle-size) / 2 - 2 * var(--jp-widgets-slider-border-width));
    margin-right: calc(var(--jp-widgets-slider-handle-size) / 2 - 2 * var(--jp-widgets-slider-border-width));
    flex: 1 1 var(--jp-widgets-inline-width-short);
}

.widget-hslider .ui-slider {
    /* Inner, invisible slide div */
    height: var(--jp-widgets-slider-track-thickness);
    margin-top: calc((var(--jp-widgets-inline-height) - var(--jp-widgets-slider-track-thickness)) / 2);
    width: 100%;
}

/* Vertical Slider */

.widget-vbox .widget-label {
    height: var(--jp-widgets-inline-height);
    line-height: var(--jp-widgets-inline-height);
}

.widget-vslider {
    /* Vertical Slider */
    height: var(--jp-widgets-vertical-height);
    width: var(--jp-widgets-inline-width-tiny);
}

.widget-vslider .slider-container {
    flex: 1 1 var(--jp-widgets-inline-width-short);
    margin-left: auto;
    margin-right: auto;
    margin-bottom: calc(var(--jp-widgets-slider-handle-size) / 2 - 2 * var(--jp-widgets-slider-border-width));
    margin-top: calc(var(--jp-widgets-slider-handle-size) / 2 - 2 * var(--jp-widgets-slider-border-width));
    display: flex;
    flex-direction: column;
}

.widget-vslider .ui-slider-vertical {
    /* Inner, invisible slide div */
    width: var(--jp-widgets-slider-track-thickness);
    flex-grow: 1;
    margin-left: auto;
    margin-right: auto;
}

/* Widget Progress Styling */

.progress-bar {
    -webkit-transition: none;
    -moz-transition: none;
    -ms-transition: none;
    -o-transition: none;
    transition: none;
}

.progress-bar {
    height: var(--jp-widgets-inline-height);
}

.progress-bar {
    background-color: var(--jp-brand-color1);
}

.progress-bar-success {
    background-color: var(--jp-success-color1);
}

.progress-bar-info {
    background-color: var(--jp-info-color1);
}

.progress-bar-warning {
    background-color: var(--jp-warn-color1);
}

.progress-bar-danger {
    background-color: var(--jp-error-color1);
}

.progress {
    background-color: var(--jp-layout-color2);
    border: none;
    box-shadow: none;
}

/* Horisontal Progress */

.widget-hprogress {
    /* Progress Bar */
    height: var(--jp-widgets-inline-height);
    line-height: var(--jp-widgets-inline-height);
    width: var(--jp-widgets-inline-width);
    align-items: center;

}

.widget-hprogress .progress {
    flex-grow: 1;
    margin-top: var(--jp-widgets-input-padding);
    margin-bottom: var(--jp-widgets-input-padding);
    align-self: stretch;
    /* Override bootstrap style */
    height: initial;
}

/* Vertical Progress */

.widget-vprogress {
    height: var(--jp-widgets-vertical-height);
    width: var(--jp-widgets-inline-width-tiny);
}

.widget-vprogress .progress {
    flex-grow: 1;
    width: var(--jp-widgets-progress-thickness);
    margin-left: auto;
    margin-right: auto;
    margin-bottom: 0;
}

/* Select Widget Styling */

.widget-dropdown {
    height: var(--jp-widgets-inline-height);
    width: var(--jp-widgets-inline-width);
    line-height: var(--jp-widgets-inline-height);
}

.widget-dropdown > select {
    padding-right: 20px;
    border: var(--jp-widgets-input-border-width) solid var(--jp-widgets-input-border-color);
    border-radius: 0;
    height: inherit;
    flex: 1 1 var(--jp-widgets-inline-width-short);
    min-width: 0; /* This makes it possible for the flexbox to shrink this input */
    box-sizing: border-box;
    outline: none !important;
    box-shadow: none;
    background-color: var(--jp-widgets-input-background-color);
    color: var(--jp-widgets-input-color);
    font-size: var(--jp-widgets-font-size);
    vertical-align: top;
    padding-left: calc( var(--jp-widgets-input-padding) * 2);
	appearance: none;
	-webkit-appearance: none;
	-moz-appearance: none;
    background-repeat: no-repeat;
	background-size: 20px;
	background-position: right center;
    background-image: var(--jp-widgets-dropdown-arrow);
}
.widget-dropdown > select:focus {
    border-color: var(--jp-widgets-input-focus-border-color);
}

.widget-dropdown > select:disabled {
    opacity: var(--jp-widgets-disabled-opacity);
}

/* To disable the dotted border in Firefox around select controls.
   See http://stackoverflow.com/a/18853002 */
.widget-dropdown > select:-moz-focusring {
    color: transparent;
    text-shadow: 0 0 0 #000;
}

/* Select and SelectMultiple */

.widget-select {
    width: var(--jp-widgets-inline-width);
    line-height: var(--jp-widgets-inline-height);

    /* Because Firefox defines the baseline of a select as the bottom of the
    control, we align the entire control to the top and add padding to the
    select to get an approximate first line baseline alignment. */
    align-items: flex-start;
}

.widget-select > select {
    border: var(--jp-widgets-input-border-width) solid var(--jp-widgets-input-border-color);
    background-color: var(--jp-widgets-input-background-color);
    color: var(--jp-widgets-input-color);
    font-size: var(--jp-widgets-font-size);
    flex: 1 1 var(--jp-widgets-inline-width-short);
    outline: none !important;
    overflow: auto;
    height: inherit;

    /* Because Firefox defines the baseline of a select as the bottom of the
    control, we align the entire control to the top and add padding to the
    select to get an approximate first line baseline alignment. */
    padding-top: 5px;
}

.widget-select > select:focus {
    border-color: var(--jp-widgets-input-focus-border-color);
}

.wiget-select > select > option {
    padding-left: var(--jp-widgets-input-padding);
    line-height: var(--jp-widgets-inline-height);
    /* line-height doesn't work on some browsers for select options */
    padding-top: calc(var(--jp-widgets-inline-height)-var(--jp-widgets-font-size)/2);
    padding-bottom: calc(var(--jp-widgets-inline-height)-var(--jp-widgets-font-size)/2);
}



/* Toggle Buttons Styling */

.widget-toggle-buttons {
    line-height: var(--jp-widgets-inline-height);
}

.widget-toggle-buttons .widget-toggle-button {
    margin-left: var(--jp-widgets-margin);
    margin-right: var(--jp-widgets-margin);
}

.widget-toggle-buttons .jupyter-button:disabled {
    opacity: var(--jp-widgets-disabled-opacity);
}

/* Radio Buttons Styling */

.widget-radio {
    width: var(--jp-widgets-inline-width);
    line-height: var(--jp-widgets-inline-height);
}

.widget-radio-box {
    display: flex;
    flex-direction: column;
    align-items: stretch;
    box-sizing: border-box;
    flex-grow: 1;
    margin-bottom: var(--jp-widgets-radio-item-height-adjustment);
}

.widget-radio-box label {
    height: var(--jp-widgets-radio-item-height);
    line-height: var(--jp-widgets-radio-item-height);
    font-size: var(--jp-widgets-font-size);
}

.widget-radio-box input {
    height: var(--jp-widgets-radio-item-height);
    line-height: var(--jp-widgets-radio-item-height);
    margin: 0 calc( var(--jp-widgets-input-padding) * 2 ) 0 1px;
    float: left;
}

/* Color Picker Styling */

.widget-colorpicker {
    width: var(--jp-widgets-inline-width);
    height: var(--jp-widgets-inline-height);
    line-height: var(--jp-widgets-inline-height);
}

.widget-colorpicker > .widget-colorpicker-input {
    flex-grow: 1;
    flex-shrink: 1;
    min-width: var(--jp-widgets-inline-width-tiny);
}

.widget-colorpicker input[type="color"] {
    width: var(--jp-widgets-inline-height);
    height: var(--jp-widgets-inline-height);
    padding: 0 2px; /* make the color square actually square on Chrome on OS X */
    background: var(--jp-widgets-input-background-color);
    color: var(--jp-widgets-input-color);
    border: var(--jp-widgets-input-border-width) solid var(--jp-widgets-input-border-color);
    border-left: none;
    flex-grow: 0;
    flex-shrink: 0;
    box-sizing: border-box;
    align-self: stretch;
    outline: none !important;
}

.widget-colorpicker.concise input[type="color"] {
    border-left: var(--jp-widgets-input-border-width) solid var(--jp-widgets-input-border-color);
}

.widget-colorpicker input[type="color"]:focus, .widget-colorpicker input[type="text"]:focus {
    border-color: var(--jp-widgets-input-focus-border-color);
}

.widget-colorpicker input[type="text"] {
    flex-grow: 1;
    outline: none !important;
    height: var(--jp-widgets-inline-height);
    line-height: var(--jp-widgets-inline-height);
    background: var(--jp-widgets-input-background-color);
    color: var(--jp-widgets-input-color);
    border: var(--jp-widgets-input-border-width) solid var(--jp-widgets-input-border-color);
    font-size: var(--jp-widgets-font-size);
    padding: var(--jp-widgets-input-padding) calc( var(--jp-widgets-input-padding) *  2 );
    min-width: 0; /* This makes it possible for the flexbox to shrink this input */
    flex-shrink: 1;
    box-sizing: border-box;
}

.widget-colorpicker input[type="text"]:disabled {
    opacity: var(--jp-widgets-disabled-opacity);
}

/* Date Picker Styling */

.widget-datepicker {
    width: var(--jp-widgets-inline-width);
    height: var(--jp-widgets-inline-height);
    line-height: var(--jp-widgets-inline-height);
}

.widget-datepicker input[type="date"] {
    flex-grow: 1;
    flex-shrink: 1;
    min-width: 0; /* This makes it possible for the flexbox to shrink this input */
    outline: none !important;
    height: var(--jp-widgets-inline-height);
    border: var(--jp-widgets-input-border-width) solid var(--jp-widgets-input-border-color);
    background-color: var(--jp-widgets-input-background-color);
    color: var(--jp-widgets-input-color);
    font-size: var(--jp-widgets-font-size);
    padding: var(--jp-widgets-input-padding) calc( var(--jp-widgets-input-padding) *  2 );
    box-sizing: border-box;
}

.widget-datepicker input[type="date"]:focus {
    border-color: var(--jp-widgets-input-focus-border-color);
}

.widget-datepicker input[type="date"]:invalid {
    border-color: var(--jp-warn-color1);
}

.widget-datepicker input[type="date"]:disabled {
    opacity: var(--jp-widgets-disabled-opacity);
}

/* Play Widget */

.widget-play {
    width: var(--jp-widgets-inline-width-short);
    display: flex;
    align-items: stretch;
}

.widget-play .jupyter-button {
    flex-grow: 1;
    height: auto;
}

.widget-play .jupyter-button:disabled {
    opacity: var(--jp-widgets-disabled-opacity);
}

/* Tab Widget */

.jupyter-widgets.widget-tab {
    display: flex;
    flex-direction: column;
}

.jupyter-widgets.widget-tab > .p-TabBar {
    /* Necessary so that a tab can be shifted down to overlay the border of the box below. */
    overflow-x: visible;
    overflow-y: visible;
}

.jupyter-widgets.widget-tab > .p-TabBar > .p-TabBar-content {
    /* Make sure that the tab grows from bottom up */
    align-items: flex-end;
    min-width: 0;
    min-height: 0;
}

.jupyter-widgets.widget-tab > .widget-tab-contents {
    width: 100%;
    box-sizing: border-box;
    margin: 0;
    background: var(--jp-layout-color1);
    color: var(--jp-ui-font-color1);
    border: var(--jp-border-width) solid var(--jp-border-color1);
    padding: var(--jp-widgets-container-padding);
    flex-grow: 1;
    overflow: auto;
}

.jupyter-widgets.widget-tab > .p-TabBar {
    font: var(--jp-widgets-font-size) Helvetica, Arial, sans-serif;
    min-height: calc(var(--jp-widgets-horizontal-tab-height) + var(--jp-border-width));
}

.jupyter-widgets.widget-tab > .p-TabBar .p-TabBar-tab {
    flex: 0 1 var(--jp-widgets-horizontal-tab-width);
    min-width: 35px;
    min-height: calc(var(--jp-widgets-horizontal-tab-height) + var(--jp-border-width));
    line-height: var(--jp-widgets-horizontal-tab-height);
    margin-left: calc(-1 * var(--jp-border-width));
    padding: 0px 10px;
    background: var(--jp-layout-color2);
    color: var(--jp-ui-font-color2);
    border: var(--jp-border-width) solid var(--jp-border-color1);
    border-bottom: none;
    position: relative;
}

.jupyter-widgets.widget-tab > .p-TabBar .p-TabBar-tab.p-mod-current {
    color: var(--jp-ui-font-color0);
    /* We want the background to match the tab content background */
    background: var(--jp-layout-color1);
    min-height: calc(var(--jp-widgets-horizontal-tab-height) + 2 * var(--jp-border-width));
    transform: translateY(var(--jp-border-width));
    overflow: visible;
}

.jupyter-widgets.widget-tab > .p-TabBar .p-TabBar-tab.p-mod-current:before {
    position: absolute;
    top: calc(-1 * var(--jp-border-width));
    left: calc(-1 * var(--jp-border-width));
    content: '';
    height: var(--jp-widgets-horizontal-tab-top-border);
    width: calc(100% + 2 * var(--jp-border-width));
    background: var(--jp-brand-color1);
}

.jupyter-widgets.widget-tab > .p-TabBar .p-TabBar-tab:first-child {
    margin-left: 0;
}

.jupyter-widgets.widget-tab > .p-TabBar .p-TabBar-tab:hover:not(.p-mod-current) {
    background: var(--jp-layout-color1);
    color: var(--jp-ui-font-color1);
}

.jupyter-widgets.widget-tab > .p-TabBar .p-mod-closable > .p-TabBar-tabCloseIcon {
    margin-left: 4px;
}

.jupyter-widgets.widget-tab > .p-TabBar .p-mod-closable > .p-TabBar-tabCloseIcon:before {
    font-family: FontAwesome;
    content: '\f00d'; /* close */
}

.jupyter-widgets.widget-tab > .p-TabBar .p-TabBar-tabIcon,
.jupyter-widgets.widget-tab > .p-TabBar .p-TabBar-tabLabel,
.jupyter-widgets.widget-tab > .p-TabBar .p-TabBar-tabCloseIcon {
    line-height: var(--jp-widgets-horizontal-tab-height);
}

/* Accordion Widget */

.p-Collapse {
    display: flex;
    flex-direction: column;
    align-items: stretch;
}

.p-Collapse-header {
    padding: var(--jp-widgets-input-padding);
    cursor: pointer;
    color: var(--jp-ui-font-color2);
    background-color: var(--jp-layout-color2);
    border: var(--jp-widgets-border-width) solid var(--jp-border-color1);
    padding: calc(var(--jp-widgets-container-padding) * 2 / 3) var(--jp-widgets-container-padding);
    font-weight: bold;
}

.p-Collapse-header:hover {
    background-color: var(--jp-layout-color1);
    color: var(--jp-ui-font-color1);
}

.p-Collapse-open > .p-Collapse-header {
    background-color: var(--jp-layout-color1);
    color: var(--jp-ui-font-color0);
    cursor: default;
    border-bottom: none;
}

.p-Collapse .p-Collapse-header::before {
    content: '\f0da\00A0';  /* caret-right, non-breaking space */
    display: inline-block;
    font: normal normal normal 14px/1 FontAwesome;
    font-size: inherit;
    text-rendering: auto;
    -webkit-font-smoothing: antialiased;
    -moz-osx-font-smoothing: grayscale;
}

.p-Collapse-open > .p-Collapse-header::before {
    content: '\f0d7\00A0'; /* caret-down, non-breaking space */
}

.p-Collapse-contents {
    padding: var(--jp-widgets-container-padding);
    background-color: var(--jp-layout-color1);
    color: var(--jp-ui-font-color1);
    border-left: var(--jp-widgets-border-width) solid var(--jp-border-color1);
    border-right: var(--jp-widgets-border-width) solid var(--jp-border-color1);
    border-bottom: var(--jp-widgets-border-width) solid var(--jp-border-color1);
    overflow: auto;
}

.p-Accordion {
    display: flex;
    flex-direction: column;
    align-items: stretch;
}

.p-Accordion .p-Collapse {
    margin-bottom: 0;
}

.p-Accordion .p-Collapse + .p-Collapse {
    margin-top: 4px;
}



/* HTML widget */

.widget-html, .widget-htmlmath {
    font-size: var(--jp-widgets-font-size);
}

.widget-html > .widget-html-content, .widget-htmlmath > .widget-html-content {
    /* Fill out the area in the HTML widget */
    align-self: stretch;
    flex-grow: 1;
    flex-shrink: 1;
    /* Makes sure the baseline is still aligned with other elements */
    line-height: var(--jp-widgets-inline-height);
    /* Make it possible to have absolutely-positioned elements in the html */
    position: relative;
}


/* Image widget  */

.widget-image {
    max-width: 100%;
    height: auto;
}
</style><style type="text/css">/* Copyright (c) Jupyter Development Team.
 * Distributed under the terms of the Modified BSD License.
 */
</style></head>

<body class="notebook_app command_mode" data-jupyter-api-token="6aba7be30a040c3126567e07e2df8b4c441db4e0449fa536" data-base-url="/" data-ws-url="" data-notebook-name="Air%20pollution%20prediction.ipynb" data-notebook-path="Air%20pollution%20prediction.ipynb" dir="ltr"><div style="visibility: hidden; overflow: hidden; position: absolute; top: 0px; height: 1px; width: auto; padding: 0px; border: 0px; margin: 0px; text-align: left; text-indent: 0px; text-transform: none; line-height: normal; letter-spacing: normal; word-spacing: normal;"><div id="MathJax_Hidden"></div></div><div id="MathJax_Message" style="display: none;"></div>

<noscript>
    <div id='noscript'>
      Jupyter Notebook requires JavaScript.<br>
      Please enable it to proceed. 
  </div>
</noscript>

<div id="header" role="navigation" aria-label="Top Menu" style="display: block;">
  <div id="header-container" class="container">
  <div id="ipython_notebook" class="nav navbar-brand"><a href="http://localhost:8890/tree?token=6aba7be30a040c3126567e07e2df8b4c441db4e0449fa536" title="dashboard">
      <img src="./Air pollution prediction - Jupyter Notebook _files/logo.png" alt="Jupyter Notebook">
  </a></div>

  


<span id="save_widget" class="save_widget">
    <span id="notebook_name" class="filename">Air pollution prediction</span>
    <span class="checkpoint_status" title="Fri, Feb 11, 2022 6:40 PM">Last Checkpoint: Last Friday at 6:40 PM</span>
    <span class="autosave_status">(autosaved)</span>
</span>


  

<span id="kernel_logo_widget">
  
  <img class="current_kernel_logo" alt="Current Kernel Logo" src="./Air pollution prediction - Jupyter Notebook _files/logo-64x64.png" title="Python 3 (ipykernel)" style="display: inline;">
  
</span>


  
  
  
  

    <span id="login_widget">
      
        <button id="logout" class="btn btn-sm navbar-btn">Logout</button>
      
    </span>

  

  
  
  </div>
  <div class="header-bar"></div>

  
<div id="menubar-container" class="container">
<div id="menubar">
    <div id="menus" class="navbar navbar-default" role="navigation">
        <div class="container-fluid">
            <button type="button" class="btn btn-default navbar-btn navbar-toggle" data-toggle="collapse" data-target=".navbar-collapse">
              <i class="fa fa-bars"></i>
              <span class="navbar-text">Menu</span>
            </button>
            <p id="kernel_indicator" class="navbar-text indicator_area">
              <span class="kernel_indicator_name">Python 3 (ipykernel)</span>
              <i id="kernel_indicator_icon" class="kernel_idle_icon" title="Kernel Idle"></i>
            </p>
            <i id="readonly-indicator" class="navbar-text" title="This notebook is read-only" style="display: none;">
                <span class="fa-stack">
                    <i class="fa fa-save fa-stack-1x"></i>
                    <i class="fa fa-ban fa-stack-2x text-danger"></i>
                </span>
            </i>
            <i id="modal_indicator" class="navbar-text modal_indicator" title="Command Mode"></i>
            <span id="notification_area"><div id="notification_kernel" class="notification_widget btn btn-xs navbar-btn undefined info" style="display: none;"><span></span></div><div id="notification_notebook" class="notification_widget btn btn-xs navbar-btn" style="display: none;"><span></span></div><div id="notification_trusted" class="notification_widget btn btn-xs navbar-btn" style="" role="button"><span title="Javascript disabled for notebook display">Not Trusted</span></div><div id="notification_widgets" class="notification_widget btn btn-xs navbar-btn" style="display: none;"><span></span></div></span>
            <div class="navbar-collapse collapse">
              <ul class="nav navbar-nav">
                <li class="dropdown"><a href="http://localhost:8890/notebooks/Air%20pollution%20prediction.ipynb#" class="dropdown-toggle" id="filelink" data-toggle="dropdown" aria-haspopup="true" aria-controls="file_menu">File</a>
                    <ul id="file_menu" class="dropdown-menu" role="menu" aria-labelledby="filelink">
                        <li id="new_notebook" class="menu_focus_highlight dropdown dropdown-submenu" role="none">
                            <a href="http://localhost:8890/notebooks/Air%20pollution%20prediction.ipynb#" role="menuitem" aria-haspopup="true" aria-expanded="false" class="dropdown-toggle" data-toggle="dropdown">New Notebook<span class="sr-only">Dropdown</span></a>
                            <ul class="dropdown-menu" id="menu-new-notebook-submenu" role="menu">
                            <li id="new-notebook-submenu-python3"><a href="http://localhost:8890/notebooks/Air%20pollution%20prediction.ipynb#">Python 3 (ipykernel)</a></li></ul>
                        </li>
                        <li id="open_notebook" role="none" title="Opens a new window with the Dashboard view">
                            <a href="http://localhost:8890/notebooks/Air%20pollution%20prediction.ipynb#" role="menuitem">Open...</a></li>
                        <!-- <hr/> -->
                        <li class="divider" role="none"></li>
                        <li id="copy_notebook" role="none" title="Open a copy of this notebook&#39;s contents and start a new kernel">
                            <a href="http://localhost:8890/notebooks/Air%20pollution%20prediction.ipynb#" role="menuitem">Make a Copy...</a></li>
                        <li id="save_notebook_as" role="none" title="Save a copy of the notebook&#39;s contents and start a new kernel">
                            <a href="http://localhost:8890/notebooks/Air%20pollution%20prediction.ipynb#" role="menuitem">Save as...</a></li>
                        <li id="rename_notebook" role="none"><a href="http://localhost:8890/notebooks/Air%20pollution%20prediction.ipynb#" role="menuitem">Rename...</a></li>
                        <li id="save_checkpoint" role="none"><a href="http://localhost:8890/notebooks/Air%20pollution%20prediction.ipynb#" role="menuitem" class="menu-shortcut-container"><span class="action">Save and Checkpoint</span><span class="kb"><kbd>Ctrl-S</kbd></span></a></li>
                        <!-- <hr/> -->
                        <li class="divider" role="none"></li>
                        <li id="restore_checkpoint" class="menu_focus_highlight dropdown-submenu" role="none"><a href="http://localhost:8890/notebooks/Air%20pollution%20prediction.ipynb#" role="menuitem" aria-haspopup="true" aria-expanded="false" class="dropdown-toggle" data-toggle="dropdown">Revert to Checkpoint<span class="sr-only">Dropdown</span></a>
                          <ul class="dropdown-menu"><li><a href="http://localhost:8890/notebooks/Air%20pollution%20prediction.ipynb#">Friday, February 11, 2022 6:40 PM</a></li></ul>
                        </li>
                        <li class="divider" role="none"></li>
                        <li id="print_preview" role="none"><a href="http://localhost:8890/notebooks/Air%20pollution%20prediction.ipynb#" role="menuitem">Print Preview</a></li>
                        <li class="dropdown-submenu menu_focus_highlight" role="none"><a href="http://localhost:8890/notebooks/Air%20pollution%20prediction.ipynb#" role="menuitem" aria-haspopup="true" aria-expanded="false" class="dropdown-toggle" data-toggle="dropdown">Download as<span class="sr-only">Dropdown</span></a>
                            <ul id="download_menu" class="dropdown-menu">
                                
                                <li id="download_asciidoc">
                                    <a href="http://localhost:8890/notebooks/Air%20pollution%20prediction.ipynb#">AsciiDoc (.asciidoc)</a>
                                </li>
                                
                                <li id="download_html">
                                    <a href="http://localhost:8890/notebooks/Air%20pollution%20prediction.ipynb#">HTML (.html)</a>
                                </li>
                                
                                <li id="download_latex">
                                    <a href="http://localhost:8890/notebooks/Air%20pollution%20prediction.ipynb#">LaTeX (.tex)</a>
                                </li>
                                
                                <li id="download_markdown">
                                    <a href="http://localhost:8890/notebooks/Air%20pollution%20prediction.ipynb#">Markdown (.md)</a>
                                </li>
                                
                                <li id="download_notebook">
                                    <a href="http://localhost:8890/notebooks/Air%20pollution%20prediction.ipynb#">Notebook (.ipynb)</a>
                                </li>
                                
                                <li id="download_pdf">
                                    <a href="http://localhost:8890/notebooks/Air%20pollution%20prediction.ipynb#">PDF via LaTeX (.pdf)</a>
                                </li>
                                
                                <li id="download_rst">
                                    <a href="http://localhost:8890/notebooks/Air%20pollution%20prediction.ipynb#">reST (.rst)</a>
                                </li>
                                
                                <li id="download_script">
                                    <a href="http://localhost:8890/notebooks/Air%20pollution%20prediction.ipynb#">Python (.py)</a>
                                </li>
                                
                                <li id="download_slides">
                                    <a href="http://localhost:8890/notebooks/Air%20pollution%20prediction.ipynb#">Reveal.js slides (.slides.html)</a>
                                </li>
                                
                                <li id="download_webpdf">
                                    <a href="http://localhost:8890/notebooks/Air%20pollution%20prediction.ipynb#">PDF via HTML (.pdf)</a>
                                </li>
                                
                            </ul>
                        </li>
                        <li class="dropdown-submenu hidden" role="none"><a href="http://localhost:8890/notebooks/Air%20pollution%20prediction.ipynb#" role="menuitem">Deploy as</a>
                            <ul id="deploy_menu" class="dropdown-menu"></ul>
                        </li>
                        <li class="divider" role="none"></li>
                        <li id="trust_notebook" role="none" title="Trust the output of this notebook">
                            <a href="http://localhost:8890/notebooks/Air%20pollution%20prediction.ipynb#" role="menuitem">Trust Notebook</a></li>
                        <li class="divider" role="none"></li>
                        <li id="close_and_halt" role="none" title="Shutdown this notebook&#39;s kernel, and close this window">
                            <a href="http://localhost:8890/notebooks/Air%20pollution%20prediction.ipynb#" role="menuitem">Close and Halt</a></li>
                    </ul>
                </li>

                <li class="dropdown"><a href="http://localhost:8890/notebooks/Air%20pollution%20prediction.ipynb#" class="dropdown-toggle" id="editlink" data-toggle="dropdown" aria-haspopup="true" aria-controls="edit_menu">Edit</a>
                    <ul id="edit_menu" class="dropdown-menu" role="menu" aria-labelledby="editlink">
                        <li id="cut_cell" role="none"><a href="http://localhost:8890/notebooks/Air%20pollution%20prediction.ipynb#" role="menuitem" class="menu-shortcut-container"><span class="action">Cut Cells</span><span class="kb"><kbd>X</kbd></span></a></li>
                        <li id="copy_cell" role="none"><a href="http://localhost:8890/notebooks/Air%20pollution%20prediction.ipynb#" role="menuitem" class="menu-shortcut-container"><span class="action">Copy Cells</span><span class="kb"><kbd>C</kbd></span></a></li>
                        <li id="paste_cell_above" class="disabled" role="none"><a href="http://localhost:8890/notebooks/Air%20pollution%20prediction.ipynb#" role="menuitem" aria-disabled="true" class="menu-shortcut-container"><span class="action">Paste Cells Above</span><span class="kb"><kbd>Shift-V</kbd></span></a></li>
                        <li id="paste_cell_below" class="disabled" role="none"><a href="http://localhost:8890/notebooks/Air%20pollution%20prediction.ipynb#" role="menuitem" aria-disabled="true" class="menu-shortcut-container"><span class="action">Paste Cells Below</span><span class="kb"><kbd>V</kbd></span></a></li>
                        <li id="paste_cell_replace" class="disabled" role="none"><a href="http://localhost:8890/notebooks/Air%20pollution%20prediction.ipynb#" role="menuitem" aria-disabled="true">Paste Cells &amp; Replace</a></li>
                        <li id="delete_cell" role="none"><a href="http://localhost:8890/notebooks/Air%20pollution%20prediction.ipynb#" role="menuitem" class="menu-shortcut-container"><span class="action">Delete Cells</span><span class="kb"><kbd>D</kbd>,<kbd>D</kbd></span></a></li>
                        <li id="undelete_cell" class="disabled" role="none"><a href="http://localhost:8890/notebooks/Air%20pollution%20prediction.ipynb#" role="menuitem" aria-disabled="true" class="menu-shortcut-container"><span class="action">Undo Delete Cells</span><span class="kb"><kbd>Z</kbd></span></a></li>
                        <li class="divider" role="none"></li>
                        <li id="split_cell" role="none"><a href="http://localhost:8890/notebooks/Air%20pollution%20prediction.ipynb#" role="menuitem" class="menu-shortcut-container"><span class="action">Split Cell</span><span class="kb"><kbd>Ctrl-Shift-Minus</kbd></span></a></li>
                        <li id="merge_cell_above" role="none"><a href="http://localhost:8890/notebooks/Air%20pollution%20prediction.ipynb#" role="menuitem">Merge Cell Above</a></li>
                        <li id="merge_cell_below" role="none"><a href="http://localhost:8890/notebooks/Air%20pollution%20prediction.ipynb#" role="menuitem">Merge Cell Below</a></li>
                        <li class="divider" role="none"></li>
                        <li id="move_cell_up" role="none"><a href="http://localhost:8890/notebooks/Air%20pollution%20prediction.ipynb#" role="menuitem">Move Cell Up</a></li>
                        <li id="move_cell_down" role="none"><a href="http://localhost:8890/notebooks/Air%20pollution%20prediction.ipynb#" role="menuitem">Move Cell Down</a></li>
                        <li class="divider" role="none"></li>
                        <li id="edit_nb_metadata" role="none"><a href="http://localhost:8890/notebooks/Air%20pollution%20prediction.ipynb#" role="menuitem">Edit Notebook Metadata</a></li>
                        <li class="divider" role="none"></li>
                        <li id="find_and_replace" role="none"><a href="http://localhost:8890/notebooks/Air%20pollution%20prediction.ipynb#" role="menuitem"> Find and Replace </a></li>
                        <li class="divider" role="none"></li>
                        <li id="cut_cell_attachments" role="none"><a href="http://localhost:8890/notebooks/Air%20pollution%20prediction.ipynb#" role="menuitem">Cut Cell Attachments</a></li>
                        <li id="copy_cell_attachments" role="none"><a href="http://localhost:8890/notebooks/Air%20pollution%20prediction.ipynb#" role="menuitem">Copy Cell Attachments</a></li>
                        <li id="paste_cell_attachments" class="disabled" role="none"><a href="http://localhost:8890/notebooks/Air%20pollution%20prediction.ipynb#" role="menuitem" aria-disabled="true">Paste Cell Attachments</a></li>
                        <li class="divider" role="none"></li>
                        <li id="insert_image" class="disabled" role="none"><a href="http://localhost:8890/notebooks/Air%20pollution%20prediction.ipynb#" role="menuitem" aria-disabled="true">  Insert Image </a></li>
                    </ul>
                </li>
                <li class="dropdown"><a href="http://localhost:8890/notebooks/Air%20pollution%20prediction.ipynb#" class="dropdown-toggle" id="viewlink" data-toggle="dropdown" aria-haspopup="true" aria-controls="view_menu">View</a>
                    <ul id="view_menu" class="dropdown-menu" role="menu" aria-labelledby="viewlink">
                        <li id="toggle_header" role="none" title="Show/Hide the logo and notebook title (above menu bar)">
                            <a href="http://localhost:8890/notebooks/Air%20pollution%20prediction.ipynb#" role="menuitem">Toggle Header</a>
                        </li>
                        <li id="toggle_toolbar" role="none" title="Show/Hide the action icons (below menu bar)">
                            <a href="http://localhost:8890/notebooks/Air%20pollution%20prediction.ipynb#" role="menuitem">Toggle Toolbar</a>
                        </li>
                        <li id="toggle_line_numbers" role="none" title="Show/Hide line numbers in cells">
                            <a href="http://localhost:8890/notebooks/Air%20pollution%20prediction.ipynb#" role="menuitem" class="menu-shortcut-container"><span class="action">Toggle Line Numbers</span><span class="kb"><kbd>Shift-L</kbd></span></a>
                        </li>
                        <li id="menu-cell-toolbar" class="menu_focus_highlight dropdown-submenu" role="none">
                            <a href="http://localhost:8890/notebooks/Air%20pollution%20prediction.ipynb#" role="menuitem" aria-haspopup="true" aria-expanded="false" class="dropdown-toggle" data-toggle="dropdown">Cell Toolbar</a>
                            <ul class="dropdown-menu" id="menu-cell-toolbar-submenu"><li data-name="None"><a href="http://localhost:8890/notebooks/Air%20pollution%20prediction.ipynb#">None</a></li><li data-name="Edit%20Metadata"><a href="http://localhost:8890/notebooks/Air%20pollution%20prediction.ipynb#">Edit Metadata</a></li><li data-name="Raw%20Cell%20Format"><a href="http://localhost:8890/notebooks/Air%20pollution%20prediction.ipynb#">Raw Cell Format</a></li><li data-name="Slideshow"><a href="http://localhost:8890/notebooks/Air%20pollution%20prediction.ipynb#">Slideshow</a></li><li data-name="Attachments"><a href="http://localhost:8890/notebooks/Air%20pollution%20prediction.ipynb#">Attachments</a></li><li data-name="Tags"><a href="http://localhost:8890/notebooks/Air%20pollution%20prediction.ipynb#">Tags</a></li></ul>
                        </li>
                    </ul>
                </li>
                <li class="dropdown"><a href="http://localhost:8890/notebooks/Air%20pollution%20prediction.ipynb#" class="dropdown-toggle" id="insertlink" data-toggle="dropdown" aria-haspopup="true" aria-controls="insert_menu">Insert</a>
                    <ul id="insert_menu" class="dropdown-menu" role="menu" aria-labelledby="insertlink">
                        <li id="insert_cell_above" role="none" title="Insert an empty Code cell above the currently active cell">
                            <a href="http://localhost:8890/notebooks/Air%20pollution%20prediction.ipynb#" role="menuitem" class="menu-shortcut-container"><span class="action">Insert Cell Above</span><span class="kb"><kbd>A</kbd></span></a></li>
                        <li id="insert_cell_below" role="none" title="Insert an empty Code cell below the currently active cell">
                            <a href="http://localhost:8890/notebooks/Air%20pollution%20prediction.ipynb#" role="menuitem" class="menu-shortcut-container"><span class="action">Insert Cell Below</span><span class="kb"><kbd>B</kbd></span></a></li>
                    </ul>
                </li>
                <li class="dropdown"><a href="http://localhost:8890/notebooks/Air%20pollution%20prediction.ipynb#" class="dropdown-toggle" id="celllink" data-toggle="dropdown" aria-haspopup="true" aria-controls="cell_menu">Cell</a>
                    <ul id="cell_menu" class="dropdown-menu" role="menu" aria-labelledby="celllink">
                        <li id="run_cell" role="none" title="Run this cell, and move cursor to the next one">
                            <a role="menuitem" href="http://localhost:8890/notebooks/Air%20pollution%20prediction.ipynb#" class="menu-shortcut-container"><span class="action">Run Cells</span><span class="kb"><kbd>Ctrl-Enter</kbd></span></a></li>
                        <li id="run_cell_select_below" role="none" title="Run this cell, select below">
                            <a href="http://localhost:8890/notebooks/Air%20pollution%20prediction.ipynb#" role="menuitem" class="menu-shortcut-container"><span class="action">Run Cells and Select Below</span><span class="kb"><kbd>Shift-Enter</kbd></span></a></li>
                        <li id="run_cell_insert_below" role="none" title="Run this cell, insert below">
                            <a href="http://localhost:8890/notebooks/Air%20pollution%20prediction.ipynb#" role="menuitem" class="menu-shortcut-container"><span class="action">Run Cells and Insert Below</span><span class="kb"><kbd>Alt-Enter</kbd></span></a></li>
                        <li id="run_all_cells" role="none" title="Run all cells in the notebook">
                            <a href="http://localhost:8890/notebooks/Air%20pollution%20prediction.ipynb#" role="menuitem">Run All</a></li>
                        <li id="run_all_cells_above" role="none" title="Run all cells above (but not including) this cell">
                            <a href="http://localhost:8890/notebooks/Air%20pollution%20prediction.ipynb#" role="menuitem">Run All Above</a></li>
                        <li id="run_all_cells_below" role="none" title="Run this cell and all cells below it">
                            <a href="http://localhost:8890/notebooks/Air%20pollution%20prediction.ipynb#" role="menuitem">Run All Below</a></li>
                        <li class="divider" role="none"></li>
                        <li id="change_cell_type" class="menu_focus_highlight dropdown-submenu" role="none" title="All cells in the notebook have a cell type. By default, new cells are created as &#39;Code&#39; cells">
                            <a href="http://localhost:8890/notebooks/Air%20pollution%20prediction.ipynb#" role="menuitem" aria-haspopup="true" aria-expanded="false" class="dropdown-toggle" data-toggle="dropdown">Cell Type</a>
                            <ul class="dropdown-menu" role="menu">
                              <li id="to_code" role="none" title="Contents will be sent to the kernel for execution, and output will display in the footer of cell">
                                  <a href="http://localhost:8890/notebooks/Air%20pollution%20prediction.ipynb#" class="menu-shortcut-container"><span class="action">Code</span><span class="kb"><kbd>Y</kbd></span></a></li>
                              <li id="to_markdown" title="Contents will be rendered as HTML and serve as explanatory text">
                                  <a href="http://localhost:8890/notebooks/Air%20pollution%20prediction.ipynb#" class="menu-shortcut-container"><span class="action">Markdown</span><span class="kb"><kbd>M</kbd></span></a></li>
                              <li id="to_raw" title="Contents will pass through nbconvert unmodified">
                                  <a href="http://localhost:8890/notebooks/Air%20pollution%20prediction.ipynb#" class="menu-shortcut-container"><span class="action">Raw NBConvert</span><span class="kb"><kbd>R</kbd></span></a></li>
                            </ul>
                        </li>
                        <li class="divider" role="none"></li>
                        <li id="current_outputs" class="menu_focus_highlight dropdown-submenu" role="none"><a href="http://localhost:8890/notebooks/Air%20pollution%20prediction.ipynb#" role="menuitem" aria-haspopup="true" aria-expanded="false" class="dropdown-toggle" data-toggle="dropdown">Current Outputs</a>
                            <ul class="dropdown-menu" role="menu">
                                <li id="toggle_current_output" role="none" title="Hide/Show the output of the current cell">
                                    <a href="http://localhost:8890/notebooks/Air%20pollution%20prediction.ipynb#" class="menu-shortcut-container"><span class="action">Toggle</span><span class="kb"><kbd>O</kbd></span></a>
                                </li>
                                <li id="toggle_current_output_scroll" title="Scroll the output of the current cell">
                                    <a href="http://localhost:8890/notebooks/Air%20pollution%20prediction.ipynb#" class="menu-shortcut-container"><span class="action">Toggle Scrolling</span><span class="kb"><kbd>Shift-O</kbd></span></a>
                                </li>
                                <li id="clear_current_output" title="Clear the output of the current cell">
                                    <a href="http://localhost:8890/notebooks/Air%20pollution%20prediction.ipynb#">Clear</a>
                                </li>
                            </ul>
                        </li>
                        <li id="all_outputs" class="menu_focus_highlight dropdown-submenu" role="none"><a href="http://localhost:8890/notebooks/Air%20pollution%20prediction.ipynb#" role="menuitem" aria-haspopup="true" aria-expanded="false" class="dropdown-toggle" data-toggle="dropdown">All Output</a>
                            <ul class="dropdown-menu" role="menu">
                                <li id="toggle_all_output" role="none" title="Hide/Show the output of all cells">
                                    <a href="http://localhost:8890/notebooks/Air%20pollution%20prediction.ipynb#">Toggle</a>
                                </li>
                                <li id="toggle_all_output_scroll" title="Scroll the output of all cells">
                                    <a href="http://localhost:8890/notebooks/Air%20pollution%20prediction.ipynb#">Toggle Scrolling</a>
                                </li>
                                <li id="clear_all_output" title="Clear the output of all cells">
                                    <a href="http://localhost:8890/notebooks/Air%20pollution%20prediction.ipynb#">Clear</a>
                                </li>
                            </ul>
                        </li>
                    </ul>
                </li>
                <li class="dropdown"><a href="http://localhost:8890/notebooks/Air%20pollution%20prediction.ipynb#" class="dropdown-toggle" data-toggle="dropdown" id="kernellink">Kernel</a>
                    <ul id="kernel_menu" class="dropdown-menu" aria-labelledby="kernellink">
                        <li id="int_kernel" title="Send Keyboard Interrupt (CTRL-C) to the Kernel">
                            <a href="http://localhost:8890/notebooks/Air%20pollution%20prediction.ipynb#" class="menu-shortcut-container"><span class="action">Interrupt</span><span class="kb"><kbd>I</kbd>,<kbd>I</kbd></span></a>
                        </li>
                        <li id="restart_kernel" title="Restart the Kernel">
                            <a href="http://localhost:8890/notebooks/Air%20pollution%20prediction.ipynb#" class="menu-shortcut-container"><span class="action">Restart</span><span class="kb"><kbd>0</kbd>,<kbd>0</kbd></span></a>
                        </li>
                        <li id="restart_clear_output" title="Restart the Kernel and clear all output">
                            <a href="http://localhost:8890/notebooks/Air%20pollution%20prediction.ipynb#">Restart &amp; Clear Output</a>
                        </li>
                        <li id="restart_run_all" title="Restart the Kernel and re-run the notebook">
                            <a href="http://localhost:8890/notebooks/Air%20pollution%20prediction.ipynb#">Restart &amp; Run All</a>
                        </li>
                        <li id="reconnect_kernel" title="Reconnect to the Kernel">
                            <a href="http://localhost:8890/notebooks/Air%20pollution%20prediction.ipynb#">Reconnect</a>
                        </li>
                        <li id="shutdown_kernel" title="Shutdown the Kernel">
                            <a href="http://localhost:8890/notebooks/Air%20pollution%20prediction.ipynb#">Shutdown</a>
                        </li>
                        <li class="divider" role="none"></li>
                        <li id="menu-change-kernel" class="menu_focus_highlight dropdown-submenu" role="menuitem">
                            <a href="http://localhost:8890/notebooks/Air%20pollution%20prediction.ipynb#" role="menuitem" aria-haspopup="true" aria-expanded="false" class="dropdown-toggle" data-toggle="dropdown">Change kernel</a>
                            <ul class="dropdown-menu" id="menu-change-kernel-submenu"><li id="kernel-submenu-python3"><a href="http://localhost:8890/notebooks/Air%20pollution%20prediction.ipynb#">Python 3 (ipykernel)</a></li></ul>
                        </li>
                    </ul>
                </li>
                <li class="dropdown"><a href="http://localhost:8890/notebooks/Air%20pollution%20prediction.ipynb#" data-toggle="dropdown" class="dropdown-toggle">Widgets</a><ul id="widget-submenu" class="dropdown-menu"><li title="Save the notebook with the widget state information for static rendering"><a href="http://localhost:8890/notebooks/Air%20pollution%20prediction.ipynb#">Save Notebook Widget State</a></li><li title="Clear the widget state information from the notebook"><a href="http://localhost:8890/notebooks/Air%20pollution%20prediction.ipynb#">Clear Notebook Widget State</a></li><ul class="divider"></ul><li title="Download the widget state as a JSON file"><a href="http://localhost:8890/notebooks/Air%20pollution%20prediction.ipynb#">Download Widget State</a></li><li title="Embed interactive widgets"><a href="http://localhost:8890/notebooks/Air%20pollution%20prediction.ipynb#">Embed Widgets</a></li></ul></li><li class="dropdown"><a href="http://localhost:8890/notebooks/Air%20pollution%20prediction.ipynb#" class="dropdown-toggle" data-toggle="dropdown">Help</a>
                    <ul id="help_menu" class="dropdown-menu">
                        
                        <li id="notebook_tour" title="A quick tour of the notebook user interface"><a href="http://localhost:8890/notebooks/Air%20pollution%20prediction.ipynb#">User Interface Tour</a></li>
                        <li id="keyboard_shortcuts" title="Opens a tooltip with all keyboard shortcuts"><a href="http://localhost:8890/notebooks/Air%20pollution%20prediction.ipynb#" class="menu-shortcut-container"><span class="action">Keyboard Shortcuts</span><span class="kb"><kbd>H</kbd></span></a></li>
                        <li id="edit_keyboard_shortcuts" title="Opens a dialog allowing you to edit Keyboard shortcuts"><a href="http://localhost:8890/notebooks/Air%20pollution%20prediction.ipynb#">Edit Keyboard Shortcuts</a></li>
                        <li class="divider"></li>
                        

						
                        
                            
                                <li><a rel="noreferrer" href="http://nbviewer.jupyter.org/github/ipython/ipython/blob/3.x/examples/Notebook/Index.ipynb" target="_blank" title="Opens in a new window">
                                
                                    <i class="fa fa-external-link menu-icon pull-right"></i>
                                

                                Notebook Help
                                </a></li>
                            
                                <li><a rel="noreferrer" href="https://help.github.com/articles/markdown-basics/" target="_blank" title="Opens in a new window">
                                
                                    <i class="fa fa-external-link menu-icon pull-right"></i>
                                

                                Markdown
                                </a></li>
                            
                            
                        
                        <li id="kernel-help-links" class="divider"></li><li><a target="_blank" title="Opens in a new window" href="https://docs.python.org/3.9?v=20220217180346"><i class="fa fa-external-link menu-icon pull-right"></i><span>Python Reference</span></a></li><li><a target="_blank" title="Opens in a new window" href="https://ipython.org/documentation.html?v=20220217180346"><i class="fa fa-external-link menu-icon pull-right"></i><span>IPython Reference</span></a></li><li><a target="_blank" title="Opens in a new window" href="https://docs.scipy.org/doc/numpy/reference/?v=20220217180346"><i class="fa fa-external-link menu-icon pull-right"></i><span>NumPy Reference</span></a></li><li><a target="_blank" title="Opens in a new window" href="https://docs.scipy.org/doc/scipy/reference/?v=20220217180346"><i class="fa fa-external-link menu-icon pull-right"></i><span>SciPy Reference</span></a></li><li><a target="_blank" title="Opens in a new window" href="https://matplotlib.org/contents.html?v=20220217180346"><i class="fa fa-external-link menu-icon pull-right"></i><span>Matplotlib Reference</span></a></li><li><a target="_blank" title="Opens in a new window" href="http://docs.sympy.org/latest/index.html?v=20220217180346"><i class="fa fa-external-link menu-icon pull-right"></i><span>SymPy Reference</span></a></li><li><a target="_blank" title="Opens in a new window" href="https://pandas.pydata.org/pandas-docs/stable/?v=20220217180346"><i class="fa fa-external-link menu-icon pull-right"></i><span>pandas Reference</span></a></li><li class="divider"></li>
                        <li title="About Jupyter Notebook"><a id="notebook_about" href="http://localhost:8890/notebooks/Air%20pollution%20prediction.ipynb#">About</a></li>
                        
                    </ul>
                </li>
              </ul>
            </div>
        </div>
    </div>
</div>

<div id="maintoolbar" class="navbar">
  <div class="toolbar-inner navbar-inner navbar-nobg">
    <div id="maintoolbar-container" class="container toolbar"><div class="btn-group" id="save-notbook"><button class="btn btn-default" title="Save and Checkpoint" data-jupyter-action="jupyter-notebook:save-notebook"><i class="fa-save fa"></i></button></div><div class="btn-group" id="insert_above_below"><button class="btn btn-default" title="insert cell below" data-jupyter-action="jupyter-notebook:insert-cell-below"><i class="fa-plus fa"></i></button></div><div class="btn-group" id="cut_copy_paste"><button class="btn btn-default" title="cut selected cells" data-jupyter-action="jupyter-notebook:cut-cell"><i class="fa-cut fa"></i></button><button class="btn btn-default" title="copy selected cells" data-jupyter-action="jupyter-notebook:copy-cell"><i class="fa-copy fa"></i></button><button class="btn btn-default" title="paste cells below" data-jupyter-action="jupyter-notebook:paste-cell-below"><i class="fa-paste fa"></i></button></div><div class="btn-group" id="move_up_down"><button class="btn btn-default" title="move selected cells up" data-jupyter-action="jupyter-notebook:move-cell-up"><i class="fa-arrow-up fa"></i></button><button class="btn btn-default" title="move selected cells down" data-jupyter-action="jupyter-notebook:move-cell-down"><i class="fa-arrow-down fa"></i></button></div><div class="btn-group" id="run_int"><button class="btn btn-default" aria-label="Run" title="run cell, select below" data-jupyter-action="jupyter-notebook:run-cell-and-select-next"><i class="fa-play fa"></i><span class="toolbar-btn-label">Run</span></button><button class="btn btn-default" title="interrupt the kernel" data-jupyter-action="jupyter-notebook:interrupt-kernel"><i class="fa-stop fa"></i></button><button class="btn btn-default" title="restart the kernel (with dialog)" data-jupyter-action="jupyter-notebook:confirm-restart-kernel"><i class="fa-repeat fa"></i></button><button class="btn btn-default" title="restart the kernel, then re-run the whole notebook (with dialog)" data-jupyter-action="jupyter-notebook:confirm-restart-kernel-and-run-all-cells"><i class="fa-forward fa"></i></button></div><select id="cell_type" aria-label="combobox, select cell type" role="combobox" class="form-control select-xs"><option value="code">Code</option><option value="markdown">Markdown</option><option value="raw">Raw NBConvert</option><option value="heading">Heading</option><option value="multiselect" disabled="disabled" style="display: none;">-</option></select><div class="btn-group" id="cmd_palette"><button class="btn btn-default" title="open the command palette" data-jupyter-action="jupyter-notebook:show-command-palette"><i class="fa-keyboard-o fa"></i></button></div></div>
  </div>
</div>
</div>

<div class="lower-header-bar"></div>

</div>

<div id="site" style="display: block; height: 583.875px;">


<div id="ipython-main-app">
    <div id="notebook_panel">
        <div id="notebook" tabindex="-1"><div class="container" id="notebook-container"><div class="cell text_cell rendered selected" tabindex="2"><div class="prompt input_prompt"></div><div class="inner_cell"><div class="ctb_hideshow"><div class="celltoolbar"></div></div><div class="input_area" aria-label="Edit Markup Text here"><div class="CodeMirror cm-s-default CodeMirror-wrap"><div style="overflow: hidden; position: relative; width: 3px; height: 0px; top: 5.59375px; left: 4px;"><textarea autocorrect="off" autocapitalize="off" spellcheck="false" tabindex="0" style="position: absolute; bottom: -1em; padding: 0px; width: 1000px; height: 1em; outline: none;"></textarea></div><div class="CodeMirror-vscrollbar" tabindex="-1" cm-not-content="true" style="bottom: 0px;"><div style="min-width: 1px; height: 0px;"></div></div><div class="CodeMirror-hscrollbar" tabindex="-1" cm-not-content="true"><div style="height: 100%; min-height: 1px; width: 0px;"></div></div><div class="CodeMirror-scrollbar-filler" cm-not-content="true"></div><div class="CodeMirror-gutter-filler" cm-not-content="true"></div><div class="CodeMirror-scroll" tabindex="-1"><div class="CodeMirror-sizer" style="margin-left: 0px; padding-right: 0px; padding-bottom: 0px; margin-bottom: -17px; border-right-width: 33px; min-height: 32px;"><div style="position: relative; top: 0px;"><div class="CodeMirror-lines" role="presentation"><div role="presentation" style="position: relative; outline: none;"><div class="CodeMirror-measure"><pre class="CodeMirror-line-like"><span>xxxxxxxxxx</span></pre></div><div class="CodeMirror-measure"></div><div style="position: relative; z-index: 1;"></div><div class="CodeMirror-cursors"><div class="CodeMirror-cursor" style="left: 4px; top: 0px; height: 21px;">&nbsp;</div></div><div class="CodeMirror-code" role="presentation"><pre class=" CodeMirror-line " role="presentation"><span role="presentation" style="padding-right: 0.1px;"><span class="cm-header cm-header-1"># Importing Libraries</span></span></pre></div></div></div></div></div><div style="position: absolute; height: 33px; width: 1px; border-bottom: 0px solid transparent; top: 32px;"></div><div class="CodeMirror-gutters" style="display: none; height: 65px;"></div></div></div></div><div class="text_cell_render rendered_html" tabindex="-1" dir="ltr"><h1 id="Importing-Libraries">Importing Libraries<a class="anchor-link" href="http://localhost:8890/notebooks/Air%20pollution%20prediction.ipynb#Importing-Libraries">¶</a></h1>
</div></div></div><div class="cell code_cell unselected rendered" tabindex="2"><div class="input"><div class="prompt_container"><div class="prompt input_prompt"><bdi>In</bdi>&nbsp;[1]:</div><div class="run_this_cell" title="Run this cell"><i class="fa-step-forward fa"></i></div></div><div class="inner_cell"><div class="ctb_hideshow"><div class="celltoolbar"></div></div><div class="input_area" aria-label="Edit code here"><div class="CodeMirror cm-s-ipython"><div style="overflow: hidden; position: relative; width: 3px; height: 0px; top: 5.59375px; left: 4px;"><textarea autocorrect="off" autocapitalize="off" spellcheck="false" tabindex="0" style="position: absolute; bottom: -1em; padding: 0px; width: 1000px; height: 1em; outline: none;"></textarea></div><div class="CodeMirror-vscrollbar" tabindex="-1" cm-not-content="true" style="bottom: 0px;"><div style="min-width: 1px; height: 0px;"></div></div><div class="CodeMirror-hscrollbar" tabindex="-1" cm-not-content="true"><div style="height: 100%; min-height: 1px; width: 0px;"></div></div><div class="CodeMirror-scrollbar-filler" cm-not-content="true"></div><div class="CodeMirror-gutter-filler" cm-not-content="true"></div><div class="CodeMirror-scroll" tabindex="-1"><div class="CodeMirror-sizer" style="margin-left: 0px; min-width: 584.375px; margin-bottom: -17px; border-right-width: 33px; min-height: 232px; padding-right: 0px; padding-bottom: 0px;"><div style="position: relative; top: 0px;"><div class="CodeMirror-lines" role="presentation"><div role="presentation" style="position: relative; outline: none;"><div class="CodeMirror-measure"><pre class="CodeMirror-line-like"><span>xxxxxxxxxx</span></pre></div><div class="CodeMirror-measure"></div><div style="position: relative; z-index: 1;"></div><div class="CodeMirror-cursors"><div class="CodeMirror-cursor" style="left: 4px; top: 0px; height: 17px;">&nbsp;</div></div><div class="CodeMirror-code" role="presentation" style=""><pre class=" CodeMirror-line " role="presentation"><span role="presentation" style="padding-right: 0.1px;"><span class="cm-keyword">import</span> <span class="cm-variable">pandas</span> <span class="cm-keyword">as</span> <span class="cm-variable">pd</span></span></pre><pre class=" CodeMirror-line " role="presentation"><span role="presentation" style="padding-right: 0.1px;"><span class="cm-keyword">import</span> <span class="cm-variable">numpy</span> <span class="cm-keyword">as</span> <span class="cm-variable">np</span></span></pre><pre class=" CodeMirror-line " role="presentation"><span role="presentation" style="padding-right: 0.1px;"><span class="cm-keyword">import</span> <span class="cm-variable">matplotlib</span>.<span class="cm-property">pyplot</span> <span class="cm-keyword">as</span> <span class="cm-variable">plt</span></span></pre><pre class=" CodeMirror-line " role="presentation"><span role="presentation" style="padding-right: 0.1px;"><span class="cm-keyword">import</span> <span class="cm-variable">seaborn</span> <span class="cm-keyword">as</span> <span class="cm-variable">sns</span></span></pre><pre class=" CodeMirror-line " role="presentation"><span role="presentation" style="padding-right: 0.1px;"><span class="cm-keyword">from</span> <span class="cm-variable">sklearn</span>.<span class="cm-property">linear_model</span> <span class="cm-keyword">import</span> <span class="cm-variable">LinearRegression</span></span></pre><pre class=" CodeMirror-line " role="presentation"><span role="presentation" style="padding-right: 0.1px;"><span class="cm-keyword">from</span> <span class="cm-variable">sklearn</span>.<span class="cm-property">metrics</span> <span class="cm-keyword">import</span> <span class="cm-variable">mean_squared_error</span>,<span class="cm-variable">mean_absolute_error</span>,<span class="cm-variable">r2_score</span></span></pre><pre class=" CodeMirror-line " role="presentation"><span role="presentation" style="padding-right: 0.1px;"><span class="cm-keyword">from</span> <span class="cm-variable">sklearn</span>.<span class="cm-property">model_selection</span> <span class="cm-keyword">import</span> <span class="cm-variable">train_test_split</span></span></pre><pre class=" CodeMirror-line " role="presentation"><span role="presentation" style="padding-right: 0.1px;"><span class="cm-keyword">from</span> <span class="cm-variable">sklearn</span>.<span class="cm-property">neighbors</span> <span class="cm-keyword">import</span> <span class="cm-variable">KNeighborsRegressor</span></span></pre><pre class=" CodeMirror-line " role="presentation"><span role="presentation" style="padding-right: 0.1px;"><span class="cm-keyword">from</span> <span class="cm-variable">sklearn</span> <span class="cm-keyword">import</span> <span class="cm-variable">tree</span></span></pre><pre class=" CodeMirror-line " role="presentation"><span role="presentation" style="padding-right: 0.1px;"><span class="cm-keyword">from</span> <span class="cm-variable">sklearn</span>.<span class="cm-property">svm</span> <span class="cm-keyword">import</span> <span class="cm-variable">SVR</span></span></pre><pre class=" CodeMirror-line " role="presentation"><span role="presentation" style="padding-right: 0.1px;"><span class="cm-keyword">import</span> <span class="cm-variable">warnings</span></span></pre><pre class=" CodeMirror-line " role="presentation"><span role="presentation" style="padding-right: 0.1px;"><span class="cm-variable">warnings</span>.<span class="cm-property">filterwarnings</span>(<span class="cm-string">'ignore'</span>)</span></pre><pre class=" CodeMirror-line " role="presentation"><span role="presentation" style="padding-right: 0.1px;"><span class="cm-variable">sns</span>.<span class="cm-property">set</span>()</span></pre></div></div></div></div></div><div style="position: absolute; height: 33px; width: 1px; border-bottom: 0px solid transparent; top: 232px;"></div><div class="CodeMirror-gutters" style="display: none; height: 265px;"></div></div></div></div></div></div><div class="output_wrapper"><div class="out_prompt_overlay prompt" title="click to expand output; double click to hide output"></div><div class="output"></div><div class="btn btn-default output_collapsed" title="click to expand output" style="display: none;">. . .</div></div></div><div class="cell text_cell unselected rendered" tabindex="2"><div class="prompt input_prompt"></div><div class="inner_cell"><div class="ctb_hideshow"><div class="celltoolbar"></div></div><div class="input_area" aria-label="Edit Markup Text here"><div class="CodeMirror cm-s-default CodeMirror-wrap"><div style="overflow: hidden; position: relative; width: 3px; height: 0px; top: 5.59375px; left: 4px;"><textarea autocorrect="off" autocapitalize="off" spellcheck="false" tabindex="0" style="position: absolute; bottom: -1em; padding: 0px; width: 1000px; height: 1em; outline: none;"></textarea></div><div class="CodeMirror-vscrollbar" tabindex="-1" cm-not-content="true" style="bottom: 0px;"><div style="min-width: 1px; height: 0px;"></div></div><div class="CodeMirror-hscrollbar" tabindex="-1" cm-not-content="true"><div style="height: 100%; min-height: 1px; width: 0px;"></div></div><div class="CodeMirror-scrollbar-filler" cm-not-content="true"></div><div class="CodeMirror-gutter-filler" cm-not-content="true"></div><div class="CodeMirror-scroll" tabindex="-1"><div class="CodeMirror-sizer" style="margin-left: 0px; padding-right: 0px; padding-bottom: 0px; margin-bottom: -17px; border-right-width: 33px; min-height: 32px;"><div style="position: relative; top: 0px;"><div class="CodeMirror-lines" role="presentation"><div role="presentation" style="position: relative; outline: none;"><div class="CodeMirror-measure"><pre class="CodeMirror-line-like"><span>xxxxxxxxxx</span></pre></div><div class="CodeMirror-measure"></div><div style="position: relative; z-index: 1;"></div><div class="CodeMirror-cursors"><div class="CodeMirror-cursor" style="left: 4px; top: 0px; height: 21px;">&nbsp;</div></div><div class="CodeMirror-code" role="presentation"><pre class=" CodeMirror-line " role="presentation"><span role="presentation" style="padding-right: 0.1px;"><span class="cm-header cm-header-1"># Loading the Dataset</span></span></pre></div></div></div></div></div><div style="position: absolute; height: 33px; width: 1px; border-bottom: 0px solid transparent; top: 32px;"></div><div class="CodeMirror-gutters" style="display: none; height: 65px;"></div></div></div></div><div class="text_cell_render rendered_html" tabindex="-1" dir="ltr"><h1 id="Loading-the-Dataset">Loading the Dataset<a class="anchor-link" href="http://localhost:8890/notebooks/Air%20pollution%20prediction.ipynb#Loading-the-Dataset">¶</a></h1>
</div></div></div><div class="cell code_cell unselected rendered" tabindex="2"><div class="input"><div class="prompt_container"><div class="prompt input_prompt"><bdi>In</bdi>&nbsp;[2]:</div><div class="run_this_cell" title="Run this cell"><i class="fa-step-forward fa"></i></div></div><div class="inner_cell"><div class="ctb_hideshow"><div class="celltoolbar"></div></div><div class="input_area" aria-label="Edit code here"><div class="CodeMirror cm-s-ipython"><div style="overflow: hidden; position: relative; width: 3px; height: 0px; top: 5.59375px; left: 4px;"><textarea autocorrect="off" autocapitalize="off" spellcheck="false" tabindex="0" style="position: absolute; bottom: -1em; padding: 0px; width: 1000px; height: 1em; outline: none;"></textarea></div><div class="CodeMirror-vscrollbar" tabindex="-1" cm-not-content="true"><div style="min-width: 1px; height: 0px;"></div></div><div class="CodeMirror-hscrollbar" tabindex="-1" cm-not-content="true"><div style="height: 100%; min-height: 1px; width: 0px;"></div></div><div class="CodeMirror-scrollbar-filler" cm-not-content="true"></div><div class="CodeMirror-gutter-filler" cm-not-content="true"></div><div class="CodeMirror-scroll" tabindex="-1"><div class="CodeMirror-sizer" style="margin-left: 0px; min-width: 284.156px; margin-bottom: -17px; border-right-width: 33px; min-height: 62px; padding-right: 0px; padding-bottom: 0px;"><div style="position: relative; top: 0px;"><div class="CodeMirror-lines" role="presentation"><div role="presentation" style="position: relative; outline: none;"><div class="CodeMirror-measure"><pre class="CodeMirror-line-like"><span>xxxxxxxxxx</span></pre></div><div class="CodeMirror-measure"></div><div style="position: relative; z-index: 1;"></div><div class="CodeMirror-cursors"><div class="CodeMirror-cursor" style="left: 4px; top: 0px; height: 17px;">&nbsp;</div></div><div class="CodeMirror-code" role="presentation"><pre class=" CodeMirror-line " role="presentation"><span role="presentation" style="padding-right: 0.1px;"><span class="cm-variable">data</span> <span class="cm-operator">=</span> <span class="cm-variable">pd</span>.<span class="cm-property">read_csv</span>(<span class="cm-string">"airQuality.csv"</span>)</span></pre><pre class=" CodeMirror-line " role="presentation"><span role="presentation" style="padding-right: 0.1px;"><span class="cm-variable">data</span>.<span class="cm-property">sample</span>(<span class="cm-number">10</span>)</span></pre><pre class=" CodeMirror-line " role="presentation"><span role="presentation" style="padding-right: 0.1px;"><span cm-text="">​</span></span></pre></div></div></div></div></div><div style="position: absolute; height: 33px; width: 1px; border-bottom: 0px solid transparent; top: 62px;"></div><div class="CodeMirror-gutters" style="display: none; height: 95px;"></div></div></div></div></div></div><div class="output_wrapper"><div class="out_prompt_overlay prompt" title="click to expand output; double click to hide output"></div><div class="output"><div class="output_area"><div class="run_this_cell"></div><div class="prompt output_prompt"><bdi>Out[2]:</bdi></div><div class="output_subarea output_html rendered_html output_result" dir="auto"><div>

<table border="1" class="dataframe">
  <thead>
    <tr style="undefined:undefined">
      <th></th>
      <th>Temperature</th>
      <th>Humidity</th>
      <th>Wind.Speed..km.h.</th>
      <th>Visibility</th>
      <th>Pressure</th>
      <th>so2</th>
      <th>no2</th>
      <th>Rainfall</th>
      <th>PM10</th>
      <th>AQI</th>
      <th>PM25</th>
    </tr>
  </thead>
  <tbody>
    <tr>
      <th>735</th>
      <td>4.950000</td>
      <td>0.92</td>
      <td>12.6224</td>
      <td>11.2700</td>
      <td>1008.95</td>
      <td>11.3</td>
      <td>36.3</td>
      <td>57.7</td>
      <td>78</td>
      <td>163</td>
      <td>78.0</td>
    </tr>
    <tr>
      <th>3801</th>
      <td>7.161111</td>
      <td>0.73</td>
      <td>13.4435</td>
      <td>9.9820</td>
      <td>1022.44</td>
      <td>5.7</td>
      <td>30.2</td>
      <td>95.7</td>
      <td>15</td>
      <td>60</td>
      <td>16.3</td>
    </tr>
    <tr>
      <th>409</th>
      <td>7.805556</td>
      <td>0.96</td>
      <td>3.1717</td>
      <td>14.9086</td>
      <td>1020.12</td>
      <td>20.7</td>
      <td>34.0</td>
      <td>64.1</td>
      <td>115</td>
      <td>169</td>
      <td>90.0</td>
    </tr>
    <tr>
      <th>2110</th>
      <td>-1.572222</td>
      <td>0.95</td>
      <td>10.7548</td>
      <td>2.8819</td>
      <td>1019.26</td>
      <td>20.0</td>
      <td>20.3</td>
      <td>78.2</td>
      <td>4</td>
      <td>24</td>
      <td>5.8</td>
    </tr>
    <tr>
      <th>6885</th>
      <td>8.366666</td>
      <td>0.89</td>
      <td>10.5616</td>
      <td>6.1824</td>
      <td>1017.75</td>
      <td>5.2</td>
      <td>30.0</td>
      <td>68.2</td>
      <td>51</td>
      <td>133</td>
      <td>48.4</td>
    </tr>
    <tr>
      <th>6777</th>
      <td>18.688889</td>
      <td>0.53</td>
      <td>15.1662</td>
      <td>9.6761</td>
      <td>1020.16</td>
      <td>5.0</td>
      <td>28.7</td>
      <td>85.1</td>
      <td>61</td>
      <td>157</td>
      <td>66.5</td>
    </tr>
    <tr>
      <th>6623</th>
      <td>13.688889</td>
      <td>0.93</td>
      <td>10.2050</td>
      <td>15.8263</td>
      <td>1033.31</td>
      <td>7.1</td>
      <td>27.6</td>
      <td>59.6</td>
      <td>20</td>
      <td>80</td>
      <td>25.4</td>
    </tr>
    <tr>
      <th>981</th>
      <td>14.933333</td>
      <td>0.80</td>
      <td>4.6207</td>
      <td>9.9820</td>
      <td>1017.94</td>
      <td>2.7</td>
      <td>22.4</td>
      <td>80.0</td>
      <td>55</td>
      <td>151</td>
      <td>56.1</td>
    </tr>
    <tr>
      <th>88</th>
      <td>12.222222</td>
      <td>0.76</td>
      <td>25.3414</td>
      <td>11.2700</td>
      <td>1004.00</td>
      <td>136.1</td>
      <td>162.2</td>
      <td>73.9</td>
      <td>51</td>
      <td>152</td>
      <td>56.5</td>
    </tr>
    <tr>
      <th>3664</th>
      <td>2.150000</td>
      <td>0.97</td>
      <td>13.7494</td>
      <td>9.9820</td>
      <td>1020.68</td>
      <td>4.0</td>
      <td>9.2</td>
      <td>53.7</td>
      <td>5</td>
      <td>30</td>
      <td>7.3</td>
    </tr>
  </tbody>
</table>
</div></div></div></div><div class="btn btn-default output_collapsed" title="click to expand output" style="display: none;">. . .</div></div></div><div class="cell code_cell unselected rendered" tabindex="2"><div class="input"><div class="prompt_container"><div class="prompt input_prompt"><bdi>In</bdi>&nbsp;[3]:</div><div class="run_this_cell" title="Run this cell"><i class="fa-step-forward fa"></i></div></div><div class="inner_cell"><div class="ctb_hideshow"><div class="celltoolbar"></div></div><div class="input_area" aria-label="Edit code here"><div class="CodeMirror cm-s-ipython"><div style="overflow: hidden; position: relative; width: 3px; height: 0px; top: 5.59375px; left: 4px;"><textarea autocorrect="off" autocapitalize="off" spellcheck="false" tabindex="0" style="position: absolute; bottom: -1em; padding: 0px; width: 1000px; height: 1em; outline: none;"></textarea></div><div class="CodeMirror-vscrollbar" tabindex="-1" cm-not-content="true"><div style="min-width: 1px; height: 0px;"></div></div><div class="CodeMirror-hscrollbar" tabindex="-1" cm-not-content="true"><div style="height: 100%; min-height: 1px; width: 0px;"></div></div><div class="CodeMirror-scrollbar-filler" cm-not-content="true"></div><div class="CodeMirror-gutter-filler" cm-not-content="true"></div><div class="CodeMirror-scroll" tabindex="-1"><div class="CodeMirror-sizer" style="margin-left: 0px; min-width: 84px; margin-bottom: -17px; border-right-width: 33px; min-height: 28px; padding-right: 0px; padding-bottom: 0px;"><div style="position: relative; top: 0px;"><div class="CodeMirror-lines" role="presentation"><div role="presentation" style="position: relative; outline: none;"><div class="CodeMirror-measure"><pre class="CodeMirror-line-like"><span>xxxxxxxxxx</span></pre></div><div class="CodeMirror-measure"></div><div style="position: relative; z-index: 1;"></div><div class="CodeMirror-cursors"><div class="CodeMirror-cursor" style="left: 4px; top: 0px; height: 17px;">&nbsp;</div></div><div class="CodeMirror-code" role="presentation"><pre class=" CodeMirror-line " role="presentation"><span role="presentation" style="padding-right: 0.1px;"><span class="cm-variable">data</span>.<span class="cm-property">shape</span></span></pre></div></div></div></div></div><div style="position: absolute; height: 33px; width: 1px; border-bottom: 0px solid transparent; top: 28px;"></div><div class="CodeMirror-gutters" style="display: none; height: 61px;"></div></div></div></div></div></div><div class="output_wrapper"><div class="out_prompt_overlay prompt" title="click to expand output; double click to hide output"></div><div class="output"><div class="output_area"><div class="run_this_cell"></div><div class="prompt output_prompt"><bdi>Out[3]:</bdi></div><div class="output_subarea output_text output_result" dir="auto"><pre>(7288, 11)</pre></div></div></div><div class="btn btn-default output_collapsed" title="click to expand output" style="display: none;">. . .</div></div></div><div class="cell text_cell unselected rendered" tabindex="2"><div class="prompt input_prompt"></div><div class="inner_cell"><div class="ctb_hideshow"><div class="celltoolbar"></div></div><div class="input_area" aria-label="Edit Markup Text here"><div class="CodeMirror cm-s-default CodeMirror-wrap"><div style="overflow: hidden; position: relative; width: 3px; height: 0px; top: 5.59375px; left: 4px;"><textarea autocorrect="off" autocapitalize="off" spellcheck="false" tabindex="0" style="position: absolute; bottom: -1em; padding: 0px; width: 1000px; height: 1em; outline: none;"></textarea></div><div class="CodeMirror-vscrollbar" tabindex="-1" cm-not-content="true" style="bottom: 0px;"><div style="min-width: 1px; height: 0px;"></div></div><div class="CodeMirror-hscrollbar" tabindex="-1" cm-not-content="true"><div style="height: 100%; min-height: 1px; width: 0px;"></div></div><div class="CodeMirror-scrollbar-filler" cm-not-content="true"></div><div class="CodeMirror-gutter-filler" cm-not-content="true"></div><div class="CodeMirror-scroll" tabindex="-1"><div class="CodeMirror-sizer" style="margin-left: 0px; padding-right: 0px; padding-bottom: 0px; margin-bottom: -17px; border-right-width: 33px; min-height: 32px;"><div style="position: relative; top: 0px;"><div class="CodeMirror-lines" role="presentation"><div role="presentation" style="position: relative; outline: none;"><div class="CodeMirror-measure"><pre class="CodeMirror-line-like"><span>xxxxxxxxxx</span></pre></div><div class="CodeMirror-measure"></div><div style="position: relative; z-index: 1;"></div><div class="CodeMirror-cursors"><div class="CodeMirror-cursor" style="left: 4px; top: 0px; height: 21px;">&nbsp;</div></div><div class="CodeMirror-code" role="presentation"><pre class=" CodeMirror-line " role="presentation"><span role="presentation" style="padding-right: 0.1px;"><span class="cm-header cm-header-1"># Data Preprocessing</span></span></pre></div></div></div></div></div><div style="position: absolute; height: 33px; width: 1px; border-bottom: 0px solid transparent; top: 32px;"></div><div class="CodeMirror-gutters" style="display: none; height: 65px;"></div></div></div></div><div class="text_cell_render rendered_html" tabindex="-1" dir="ltr"><h1 id="Data-Preprocessing">Data Preprocessing<a class="anchor-link" href="http://localhost:8890/notebooks/Air%20pollution%20prediction.ipynb#Data-Preprocessing">¶</a></h1>
</div></div></div><div class="cell text_cell unselected rendered" tabindex="2"><div class="prompt input_prompt"></div><div class="inner_cell"><div class="ctb_hideshow"><div class="celltoolbar"></div></div><div class="input_area" aria-label="Edit Markup Text here"><div class="CodeMirror cm-s-default CodeMirror-wrap"><div style="overflow: hidden; position: relative; width: 3px; height: 0px; top: 5.59375px; left: 4px;"><textarea autocorrect="off" autocapitalize="off" spellcheck="false" tabindex="0" style="position: absolute; bottom: -1em; padding: 0px; width: 1000px; height: 1em; outline: none;"></textarea></div><div class="CodeMirror-vscrollbar" tabindex="-1" cm-not-content="true" style="bottom: 0px;"><div style="min-width: 1px; height: 0px;"></div></div><div class="CodeMirror-hscrollbar" tabindex="-1" cm-not-content="true"><div style="height: 100%; min-height: 1px; width: 0px;"></div></div><div class="CodeMirror-scrollbar-filler" cm-not-content="true"></div><div class="CodeMirror-gutter-filler" cm-not-content="true"></div><div class="CodeMirror-scroll" tabindex="-1"><div class="CodeMirror-sizer" style="margin-left: 0px; padding-right: 0px; padding-bottom: 0px; margin-bottom: -17px; border-right-width: 33px; min-height: 31px;"><div style="position: relative; top: 0px;"><div class="CodeMirror-lines" role="presentation"><div role="presentation" style="position: relative; outline: none;"><div class="CodeMirror-measure"><pre class="CodeMirror-line-like"><span>xxxxxxxxxx</span></pre></div><div class="CodeMirror-measure"></div><div style="position: relative; z-index: 1;"></div><div class="CodeMirror-cursors"><div class="CodeMirror-cursor" style="left: 4px; top: 0px; height: 20px;">&nbsp;</div></div><div class="CodeMirror-code" role="presentation"><pre class=" CodeMirror-line " role="presentation"><span role="presentation" style="padding-right: 0.1px;"><span class="cm-header cm-header-2">## 1.Checking for the null values</span></span></pre></div></div></div></div></div><div style="position: absolute; height: 33px; width: 1px; border-bottom: 0px solid transparent; top: 31px;"></div><div class="CodeMirror-gutters" style="display: none; height: 64px;"></div></div></div></div><div class="text_cell_render rendered_html" tabindex="-1" dir="ltr"><h2 id="1.Checking-for-the-null-values">1.Checking for the null values<a class="anchor-link" href="http://localhost:8890/notebooks/Air%20pollution%20prediction.ipynb#1.Checking-for-the-null-values">¶</a></h2>
</div></div></div><div class="cell code_cell unselected rendered" tabindex="2"><div class="input"><div class="prompt_container"><div class="prompt input_prompt"><bdi>In</bdi>&nbsp;[4]:</div><div class="run_this_cell" title="Run this cell"><i class="fa-step-forward fa"></i></div></div><div class="inner_cell"><div class="ctb_hideshow"><div class="celltoolbar"></div></div><div class="input_area" aria-label="Edit code here"><div class="CodeMirror cm-s-ipython"><div style="overflow: hidden; position: relative; width: 3px; height: 0px; top: 5.59375px; left: 4px;"><textarea autocorrect="off" autocapitalize="off" spellcheck="false" tabindex="0" style="position: absolute; bottom: -1em; padding: 0px; width: 1000px; height: 1em; outline: none;"></textarea></div><div class="CodeMirror-vscrollbar" tabindex="-1" cm-not-content="true"><div style="min-width: 1px; height: 0px;"></div></div><div class="CodeMirror-hscrollbar" tabindex="-1" cm-not-content="true"><div style="height: 100%; min-height: 1px; width: 0px;"></div></div><div class="CodeMirror-scrollbar-filler" cm-not-content="true"></div><div class="CodeMirror-gutter-filler" cm-not-content="true"></div><div class="CodeMirror-scroll" tabindex="-1"><div class="CodeMirror-sizer" style="margin-left: 0px; min-width: 153.281px; margin-bottom: -17px; border-right-width: 33px; min-height: 28px; padding-right: 0px; padding-bottom: 0px;"><div style="position: relative; top: 0px;"><div class="CodeMirror-lines" role="presentation"><div role="presentation" style="position: relative; outline: none;"><div class="CodeMirror-measure"><pre class="CodeMirror-line-like"><span>xxxxxxxxxx</span></pre></div><div class="CodeMirror-measure"></div><div style="position: relative; z-index: 1;"></div><div class="CodeMirror-cursors"><div class="CodeMirror-cursor" style="left: 4px; top: 0px; height: 17px;">&nbsp;</div></div><div class="CodeMirror-code" role="presentation"><pre class=" CodeMirror-line " role="presentation"><span role="presentation" style="padding-right: 0.1px;"><span class="cm-variable">data</span>.<span class="cm-property">isnull</span>().<span class="cm-property">sum</span>()</span></pre></div></div></div></div></div><div style="position: absolute; height: 33px; width: 1px; border-bottom: 0px solid transparent; top: 28px;"></div><div class="CodeMirror-gutters" style="display: none; height: 61px;"></div></div></div></div></div></div><div class="output_wrapper"><div class="out_prompt_overlay prompt" title="click to expand output; double click to hide output"></div><div class="output"><div class="output_area"><div class="run_this_cell"></div><div class="prompt output_prompt"><bdi>Out[4]:</bdi></div><div class="output_subarea output_text output_result" dir="auto"><pre>Temperature          0
Humidity             0
Wind.Speed..km.h.    0
Visibility           0
Pressure             0
so2                  0
no2                  0
Rainfall             0
PM10                 0
AQI                  0
PM25                 0
dtype: int64</pre></div></div></div><div class="btn btn-default output_collapsed" title="click to expand output" style="display: none;">. . .</div></div></div><div class="cell text_cell unselected rendered" tabindex="2"><div class="prompt input_prompt"></div><div class="inner_cell"><div class="ctb_hideshow"><div class="celltoolbar"></div></div><div class="input_area" aria-label="Edit Markup Text here"><div class="CodeMirror cm-s-default CodeMirror-wrap"><div style="overflow: hidden; position: relative; width: 3px; height: 0px; top: 5.59375px; left: 4px;"><textarea autocorrect="off" autocapitalize="off" spellcheck="false" tabindex="0" style="position: absolute; bottom: -1em; padding: 0px; width: 1000px; height: 1em; outline: none;"></textarea></div><div class="CodeMirror-vscrollbar" tabindex="-1" cm-not-content="true" style="bottom: 0px;"><div style="min-width: 1px; height: 0px;"></div></div><div class="CodeMirror-hscrollbar" tabindex="-1" cm-not-content="true"><div style="height: 100%; min-height: 1px; width: 0px;"></div></div><div class="CodeMirror-scrollbar-filler" cm-not-content="true"></div><div class="CodeMirror-gutter-filler" cm-not-content="true"></div><div class="CodeMirror-scroll" tabindex="-1"><div class="CodeMirror-sizer" style="margin-left: 0px; padding-right: 0px; padding-bottom: 0px; margin-bottom: -17px; border-right-width: 33px; min-height: 31px;"><div style="position: relative; top: 0px;"><div class="CodeMirror-lines" role="presentation"><div role="presentation" style="position: relative; outline: none;"><div class="CodeMirror-measure"><pre class="CodeMirror-line-like"><span>xxxxxxxxxx</span></pre></div><div class="CodeMirror-measure"></div><div style="position: relative; z-index: 1;"></div><div class="CodeMirror-cursors"><div class="CodeMirror-cursor" style="left: 4px; top: 0px; height: 20px;">&nbsp;</div></div><div class="CodeMirror-code" role="presentation"><pre class=" CodeMirror-line " role="presentation"><span role="presentation" style="padding-right: 0.1px;"><span class="cm-header cm-header-2">## 2.Checking the Correlation</span></span></pre></div></div></div></div></div><div style="position: absolute; height: 33px; width: 1px; border-bottom: 0px solid transparent; top: 31px;"></div><div class="CodeMirror-gutters" style="display: none; height: 64px;"></div></div></div></div><div class="text_cell_render rendered_html" tabindex="-1" dir="ltr"><h2 id="2.Checking-the-Correlation">2.Checking the Correlation<a class="anchor-link" href="http://localhost:8890/notebooks/Air%20pollution%20prediction.ipynb#2.Checking-the-Correlation">¶</a></h2>
</div></div></div><div class="cell code_cell unselected rendered" tabindex="2"><div class="input"><div class="prompt_container"><div class="prompt input_prompt"><bdi>In</bdi>&nbsp;[5]:</div><div class="run_this_cell" title="Run this cell"><i class="fa-step-forward fa"></i></div></div><div class="inner_cell"><div class="ctb_hideshow"><div class="celltoolbar"></div></div><div class="input_area" aria-label="Edit code here"><div class="CodeMirror cm-s-ipython"><div style="overflow: hidden; position: relative; width: 3px; height: 0px; top: 5.59375px; left: 4px;"><textarea autocorrect="off" autocapitalize="off" spellcheck="false" tabindex="0" style="position: absolute; bottom: -1em; padding: 0px; width: 1000px; height: 1em; outline: none;"></textarea></div><div class="CodeMirror-vscrollbar" tabindex="-1" cm-not-content="true"><div style="min-width: 1px; height: 0px;"></div></div><div class="CodeMirror-hscrollbar" tabindex="-1" cm-not-content="true"><div style="height: 100%; min-height: 1px; width: 0px;"></div></div><div class="CodeMirror-scrollbar-filler" cm-not-content="true"></div><div class="CodeMirror-gutter-filler" cm-not-content="true"></div><div class="CodeMirror-scroll" tabindex="-1"><div class="CodeMirror-sizer" style="margin-left: 0px; min-width: 338.125px; margin-bottom: -17px; border-right-width: 33px; min-height: 62px; padding-right: 0px; padding-bottom: 0px;"><div style="position: relative; top: 0px;"><div class="CodeMirror-lines" role="presentation"><div role="presentation" style="position: relative; outline: none;"><div class="CodeMirror-measure"><pre class="CodeMirror-line-like"><span>xxxxxxxxxx</span></pre></div><div class="CodeMirror-measure"></div><div style="position: relative; z-index: 1;"></div><div class="CodeMirror-cursors"><div class="CodeMirror-cursor" style="left: 4px; top: 0px; height: 17px;">&nbsp;</div></div><div class="CodeMirror-code" role="presentation"><pre class=" CodeMirror-line " role="presentation"><span role="presentation" style="padding-right: 0.1px;"><span class="cm-variable">Df</span> <span class="cm-operator">=</span> <span class="cm-variable">data</span>.<span class="cm-property">drop</span>([<span class="cm-string">"AQI"</span>,<span class="cm-string">'Rainfall'</span>],<span class="cm-variable">axis</span> <span class="cm-operator">=</span> <span class="cm-number">1</span>)</span></pre><pre class=" CodeMirror-line " role="presentation"><span role="presentation" style="padding-right: 0.1px;"><span class="cm-variable">x_corr</span> <span class="cm-operator">=</span> <span class="cm-variable">Df</span>.<span class="cm-property">corr</span>()</span></pre><pre class=" CodeMirror-line " role="presentation"><span role="presentation" style="padding-right: 0.1px;"><span class="cm-variable">x_corr</span></span></pre></div></div></div></div></div><div style="position: absolute; height: 33px; width: 1px; border-bottom: 0px solid transparent; top: 62px;"></div><div class="CodeMirror-gutters" style="display: none; height: 95px;"></div></div></div></div></div></div><div class="output_wrapper"><div class="out_prompt_overlay prompt" title="click to expand output; double click to hide output"></div><div class="output"><div class="output_area"><div class="run_this_cell"></div><div class="prompt output_prompt"><bdi>Out[5]:</bdi></div><div class="output_subarea output_html rendered_html output_result" dir="auto"><div>

<table border="1" class="dataframe">
  <thead>
    <tr style="undefined:undefined">
      <th></th>
      <th>Temperature</th>
      <th>Humidity</th>
      <th>Wind.Speed..km.h.</th>
      <th>Visibility</th>
      <th>Pressure</th>
      <th>so2</th>
      <th>no2</th>
      <th>PM10</th>
      <th>PM25</th>
    </tr>
  </thead>
  <tbody>
    <tr>
      <th>Temperature</th>
      <td>1.000000</td>
      <td>-0.640853</td>
      <td>-0.007853</td>
      <td>0.108522</td>
      <td>-0.008497</td>
      <td>0.093858</td>
      <td>0.072414</td>
      <td>0.018393</td>
      <td>0.122030</td>
    </tr>
    <tr>
      <th>Humidity</th>
      <td>-0.640853</td>
      <td>1.000000</td>
      <td>-0.041377</td>
      <td>0.057076</td>
      <td>0.004141</td>
      <td>-0.091301</td>
      <td>-0.021266</td>
      <td>-0.047126</td>
      <td>-0.119834</td>
    </tr>
    <tr>
      <th>Wind.Speed..km.h.</th>
      <td>-0.007853</td>
      <td>-0.041377</td>
      <td>1.000000</td>
      <td>0.107416</td>
      <td>-0.058970</td>
      <td>-0.079710</td>
      <td>-0.072865</td>
      <td>-0.003909</td>
      <td>-0.015770</td>
    </tr>
    <tr>
      <th>Visibility</th>
      <td>0.108522</td>
      <td>0.057076</td>
      <td>0.107416</td>
      <td>1.000000</td>
      <td>-0.006730</td>
      <td>0.035780</td>
      <td>-0.051422</td>
      <td>0.036917</td>
      <td>0.117586</td>
    </tr>
    <tr>
      <th>Pressure</th>
      <td>-0.008497</td>
      <td>0.004141</td>
      <td>-0.058970</td>
      <td>-0.006730</td>
      <td>1.000000</td>
      <td>0.049736</td>
      <td>0.039073</td>
      <td>0.008507</td>
      <td>0.008915</td>
    </tr>
    <tr>
      <th>so2</th>
      <td>0.093858</td>
      <td>-0.091301</td>
      <td>-0.079710</td>
      <td>0.035780</td>
      <td>0.049736</td>
      <td>1.000000</td>
      <td>0.351815</td>
      <td>0.090637</td>
      <td>0.226010</td>
    </tr>
    <tr>
      <th>no2</th>
      <td>0.072414</td>
      <td>-0.021266</td>
      <td>-0.072865</td>
      <td>-0.051422</td>
      <td>0.039073</td>
      <td>0.351815</td>
      <td>1.000000</td>
      <td>0.004923</td>
      <td>0.007830</td>
    </tr>
    <tr>
      <th>PM10</th>
      <td>0.018393</td>
      <td>-0.047126</td>
      <td>-0.003909</td>
      <td>0.036917</td>
      <td>0.008507</td>
      <td>0.090637</td>
      <td>0.004923</td>
      <td>1.000000</td>
      <td>0.592303</td>
    </tr>
    <tr>
      <th>PM25</th>
      <td>0.122030</td>
      <td>-0.119834</td>
      <td>-0.015770</td>
      <td>0.117586</td>
      <td>0.008915</td>
      <td>0.226010</td>
      <td>0.007830</td>
      <td>0.592303</td>
      <td>1.000000</td>
    </tr>
  </tbody>
</table>
</div></div></div></div><div class="btn btn-default output_collapsed" title="click to expand output" style="display: none;">. . .</div></div></div><div class="cell code_cell unselected rendered" tabindex="2"><div class="input"><div class="prompt_container"><div class="prompt input_prompt"><bdi>In</bdi>&nbsp;[6]:</div><div class="run_this_cell" title="Run this cell"><i class="fa-step-forward fa"></i></div></div><div class="inner_cell"><div class="ctb_hideshow"><div class="celltoolbar"></div></div><div class="input_area" aria-label="Edit code here"><div class="CodeMirror cm-s-ipython"><div style="overflow: hidden; position: relative; width: 3px; height: 0px; top: 5.59375px; left: 4px;"><textarea autocorrect="off" autocapitalize="off" spellcheck="false" tabindex="0" style="position: absolute; bottom: -1em; padding: 0px; width: 1000px; height: 1em; outline: none;"></textarea></div><div class="CodeMirror-vscrollbar" tabindex="-1" cm-not-content="true"><div style="min-width: 1px; height: 0px;"></div></div><div class="CodeMirror-hscrollbar" tabindex="-1" cm-not-content="true"><div style="height: 100%; min-height: 1px; width: 0px;"></div></div><div class="CodeMirror-scrollbar-filler" cm-not-content="true"></div><div class="CodeMirror-gutter-filler" cm-not-content="true"></div><div class="CodeMirror-scroll" tabindex="-1"><div class="CodeMirror-sizer" style="margin-left: 0px; min-width: 669.156px; margin-bottom: -17px; border-right-width: 33px; min-height: 62px; padding-right: 0px; padding-bottom: 0px;"><div style="position: relative; top: 0px;"><div class="CodeMirror-lines" role="presentation"><div role="presentation" style="position: relative; outline: none;"><div class="CodeMirror-measure"><pre class="CodeMirror-line-like"><span>xxxxxxxxxx</span></pre></div><div class="CodeMirror-measure"></div><div style="position: relative; z-index: 1;"></div><div class="CodeMirror-cursors"><div class="CodeMirror-cursor" style="left: 4px; top: 0px; height: 17px;">&nbsp;</div></div><div class="CodeMirror-code" role="presentation"><pre class=" CodeMirror-line " role="presentation"><span role="presentation" style="padding-right: 0.1px;"><span class="cm-variable">UPPER</span> <span class="cm-operator">=</span> <span class="cm-variable">x_corr</span>.<span class="cm-property">where</span>(<span class="cm-variable">np</span>.<span class="cm-property">triu</span>(<span class="cm-variable">np</span>.<span class="cm-property">ones</span>(<span class="cm-variable">x_corr</span>.<span class="cm-property">shape</span>), <span class="cm-variable">k</span><span class="cm-operator">=</span><span class="cm-number">1</span>).<span class="cm-property">astype</span>(<span class="cm-variable">np</span>.<span class="cm-property">bool</span>))</span></pre><pre class=" CodeMirror-line " role="presentation"><span role="presentation" style="padding-right: 0.1px;"><span class="cm-variable">correlated_features</span> <span class="cm-operator">=</span> [<span class="cm-variable">column</span> <span class="cm-keyword">for</span> <span class="cm-variable">column</span> <span class="cm-keyword">in</span> <span class="cm-variable">UPPER</span>.<span class="cm-property">columns</span> <span class="cm-keyword">if</span> <span class="cm-builtin">any</span>(<span class="cm-variable">UPPER</span>[<span class="cm-variable">column</span>] <span class="cm-operator">&gt;</span><span class="cm-number">0.75</span>)]</span></pre><pre class=" CodeMirror-line " role="presentation"><span role="presentation" style="padding-right: 0.1px;"><span class="cm-variable">x</span> <span class="cm-operator">=</span> <span class="cm-variable">Df</span>.<span class="cm-property">drop</span>(<span class="cm-variable">correlated_features</span>,<span class="cm-variable">axis</span> <span class="cm-operator">=</span> <span class="cm-number">1</span>)<span class="cm-comment">#independent features</span></span></pre></div></div></div></div></div><div style="position: absolute; height: 33px; width: 1px; border-bottom: 0px solid transparent; top: 62px;"></div><div class="CodeMirror-gutters" style="display: none; height: 95px;"></div></div></div></div></div></div><div class="output_wrapper"><div class="out_prompt_overlay prompt" title="click to expand output; double click to hide output"></div><div class="output"></div><div class="btn btn-default output_collapsed" title="click to expand output" style="display: none;">. . .</div></div></div><div class="cell text_cell unselected rendered" tabindex="2"><div class="prompt input_prompt"></div><div class="inner_cell"><div class="ctb_hideshow"><div class="celltoolbar"></div></div><div class="input_area" aria-label="Edit Markup Text here"><div class="CodeMirror cm-s-default CodeMirror-wrap"><div style="overflow: hidden; position: relative; width: 3px; height: 0px; top: 5.59375px; left: 4px;"><textarea autocorrect="off" autocapitalize="off" spellcheck="false" tabindex="0" style="position: absolute; bottom: -1em; padding: 0px; width: 1000px; height: 1em; outline: none;"></textarea></div><div class="CodeMirror-vscrollbar" tabindex="-1" cm-not-content="true" style="bottom: 0px;"><div style="min-width: 1px; height: 0px;"></div></div><div class="CodeMirror-hscrollbar" tabindex="-1" cm-not-content="true"><div style="height: 100%; min-height: 1px; width: 0px;"></div></div><div class="CodeMirror-scrollbar-filler" cm-not-content="true"></div><div class="CodeMirror-gutter-filler" cm-not-content="true"></div><div class="CodeMirror-scroll" tabindex="-1"><div class="CodeMirror-sizer" style="margin-left: 0px; padding-right: 0px; padding-bottom: 0px; margin-bottom: -17px; border-right-width: 33px; min-height: 31px;"><div style="position: relative; top: 0px;"><div class="CodeMirror-lines" role="presentation"><div role="presentation" style="position: relative; outline: none;"><div class="CodeMirror-measure"><pre class="CodeMirror-line-like"><span>xxxxxxxxxx</span></pre></div><div class="CodeMirror-measure"></div><div style="position: relative; z-index: 1;"></div><div class="CodeMirror-cursors"><div class="CodeMirror-cursor" style="left: 4px; top: 0px; height: 20px;">&nbsp;</div></div><div class="CodeMirror-code" role="presentation"><pre class=" CodeMirror-line " role="presentation"><span role="presentation" style="padding-right: 0.1px;"><span class="cm-header cm-header-2">## 3.Checking the categorical features</span></span></pre></div></div></div></div></div><div style="position: absolute; height: 33px; width: 1px; border-bottom: 0px solid transparent; top: 31px;"></div><div class="CodeMirror-gutters" style="display: none; height: 64px;"></div></div></div></div><div class="text_cell_render rendered_html" tabindex="-1" dir="ltr"><h2 id="3.Checking-the-categorical-features">3.Checking the categorical features<a class="anchor-link" href="http://localhost:8890/notebooks/Air%20pollution%20prediction.ipynb#3.Checking-the-categorical-features">¶</a></h2>
</div></div></div><div class="cell code_cell unselected rendered" tabindex="2"><div class="input"><div class="prompt_container"><div class="prompt input_prompt"><bdi>In</bdi>&nbsp;[7]:</div><div class="run_this_cell" title="Run this cell"><i class="fa-step-forward fa"></i></div></div><div class="inner_cell"><div class="ctb_hideshow"><div class="celltoolbar"></div></div><div class="input_area" aria-label="Edit code here"><div class="CodeMirror cm-s-ipython"><div style="overflow: hidden; position: relative; width: 3px; height: 0px; top: 5.59375px; left: 4px;"><textarea autocorrect="off" autocapitalize="off" spellcheck="false" tabindex="0" style="position: absolute; bottom: -1em; padding: 0px; width: 1000px; height: 1em; outline: none;"></textarea></div><div class="CodeMirror-vscrollbar" tabindex="-1" cm-not-content="true"><div style="min-width: 1px; height: 0px;"></div></div><div class="CodeMirror-hscrollbar" tabindex="-1" cm-not-content="true"><div style="height: 100%; min-height: 1px; width: 0px;"></div></div><div class="CodeMirror-scrollbar-filler" cm-not-content="true"></div><div class="CodeMirror-gutter-filler" cm-not-content="true"></div><div class="CodeMirror-scroll" tabindex="-1"><div class="CodeMirror-sizer" style="margin-left: 0px; min-width: 438.141px; margin-bottom: -17px; border-right-width: 33px; min-height: 28px; padding-right: 0px; padding-bottom: 0px;"><div style="position: relative; top: 0px;"><div class="CodeMirror-lines" role="presentation"><div role="presentation" style="position: relative; outline: none;"><div class="CodeMirror-measure"><pre class="CodeMirror-line-like"><span>xxxxxxxxxx</span></pre></div><div class="CodeMirror-measure"></div><div style="position: relative; z-index: 1;"></div><div class="CodeMirror-cursors"><div class="CodeMirror-cursor" style="left: 4px; top: 0px; height: 17px;">&nbsp;</div></div><div class="CodeMirror-code" role="presentation"><pre class=" CodeMirror-line " role="presentation"><span role="presentation" style="padding-right: 0.1px;"><span class="cm-builtin">sum</span>(<span class="cm-variable">Df</span>.<span class="cm-property">select_dtypes</span>(<span class="cm-variable">include</span><span class="cm-operator">=</span>[<span class="cm-string">'object'</span>]).<span class="cm-property">columns</span>.<span class="cm-property">values</span>)</span></pre></div></div></div></div></div><div style="position: absolute; height: 33px; width: 1px; border-bottom: 0px solid transparent; top: 28px;"></div><div class="CodeMirror-gutters" style="display: none; height: 61px;"></div></div></div></div></div></div><div class="output_wrapper"><div class="out_prompt_overlay prompt" title="click to expand output; double click to hide output"></div><div class="output"><div class="output_area"><div class="run_this_cell"></div><div class="prompt output_prompt"><bdi>Out[7]:</bdi></div><div class="output_subarea output_text output_result" dir="auto"><pre>0</pre></div></div></div><div class="btn btn-default output_collapsed" title="click to expand output" style="display: none;">. . .</div></div></div><div class="cell code_cell unselected rendered" tabindex="2"><div class="input"><div class="prompt_container"><div class="prompt input_prompt"><bdi>In</bdi>&nbsp;[8]:</div><div class="run_this_cell" title="Run this cell"><i class="fa-step-forward fa"></i></div></div><div class="inner_cell"><div class="ctb_hideshow"><div class="celltoolbar"></div></div><div class="input_area" aria-label="Edit code here"><div class="CodeMirror cm-s-ipython"><div style="overflow: hidden; position: relative; width: 3px; height: 0px; top: 5.59375px; left: 4px;"><textarea autocorrect="off" autocapitalize="off" spellcheck="false" tabindex="0" style="position: absolute; bottom: -1em; padding: 0px; width: 1000px; height: 1em; outline: none;"></textarea></div><div class="CodeMirror-vscrollbar" tabindex="-1" cm-not-content="true"><div style="min-width: 1px; height: 0px;"></div></div><div class="CodeMirror-hscrollbar" tabindex="-1" cm-not-content="true"><div style="height: 100%; min-height: 1px; width: 0px;"></div></div><div class="CodeMirror-scrollbar-filler" cm-not-content="true"></div><div class="CodeMirror-gutter-filler" cm-not-content="true"></div><div class="CodeMirror-scroll" tabindex="-1"><div class="CodeMirror-sizer" style="margin-left: 0px; min-width: 237.984px; margin-bottom: -17px; border-right-width: 33px; min-height: 28px; padding-right: 0px; padding-bottom: 0px;"><div style="position: relative; top: 0px;"><div class="CodeMirror-lines" role="presentation"><div role="presentation" style="position: relative; outline: none;"><div class="CodeMirror-measure"><pre class="CodeMirror-line-like"><span>xxxxxxxxxx</span></pre></div><div class="CodeMirror-measure"></div><div style="position: relative; z-index: 1;"></div><div class="CodeMirror-cursors"><div class="CodeMirror-cursor" style="left: 4px; top: 0px; height: 17px;">&nbsp;</div></div><div class="CodeMirror-code" role="presentation"><pre class=" CodeMirror-line " role="presentation"><span role="presentation" style="padding-right: 0.1px;"><span class="cm-variable">y</span> <span class="cm-operator">=</span> <span class="cm-variable">data</span>[<span class="cm-string">"AQI"</span>]<span class="cm-comment">#target feature</span></span></pre></div></div></div></div></div><div style="position: absolute; height: 33px; width: 1px; border-bottom: 0px solid transparent; top: 28px;"></div><div class="CodeMirror-gutters" style="display: none; height: 61px;"></div></div></div></div></div></div><div class="output_wrapper"><div class="out_prompt_overlay prompt" title="click to expand output; double click to hide output"></div><div class="output"></div><div class="btn btn-default output_collapsed" title="click to expand output" style="display: none;">. . .</div></div></div><div class="cell text_cell unselected rendered" tabindex="2"><div class="prompt input_prompt"></div><div class="inner_cell"><div class="ctb_hideshow"><div class="celltoolbar"></div></div><div class="input_area" aria-label="Edit Markup Text here"><div class="CodeMirror cm-s-default CodeMirror-wrap"><div style="overflow: hidden; position: relative; width: 3px; height: 0px; top: 5.59375px; left: 4px;"><textarea autocorrect="off" autocapitalize="off" spellcheck="false" tabindex="0" style="position: absolute; bottom: -1em; padding: 0px; width: 1000px; height: 1em; outline: none;"></textarea></div><div class="CodeMirror-vscrollbar" tabindex="-1" cm-not-content="true" style="bottom: 0px;"><div style="min-width: 1px; height: 0px;"></div></div><div class="CodeMirror-hscrollbar" tabindex="-1" cm-not-content="true"><div style="height: 100%; min-height: 1px; width: 0px;"></div></div><div class="CodeMirror-scrollbar-filler" cm-not-content="true"></div><div class="CodeMirror-gutter-filler" cm-not-content="true"></div><div class="CodeMirror-scroll" tabindex="-1"><div class="CodeMirror-sizer" style="margin-left: 0px; padding-right: 0px; padding-bottom: 0px; margin-bottom: -17px; border-right-width: 33px; min-height: 31px;"><div style="position: relative; top: 0px;"><div class="CodeMirror-lines" role="presentation"><div role="presentation" style="position: relative; outline: none;"><div class="CodeMirror-measure"><pre class="CodeMirror-line-like"><span>xxxxxxxxxx</span></pre></div><div class="CodeMirror-measure"></div><div style="position: relative; z-index: 1;"></div><div class="CodeMirror-cursors"><div class="CodeMirror-cursor" style="left: 4px; top: 0px; height: 20px;">&nbsp;</div></div><div class="CodeMirror-code" role="presentation"><pre class=" CodeMirror-line " role="presentation"><span role="presentation" style="padding-right: 0.1px;"><span class="cm-header cm-header-2">## 4.Plooting the scatter plots</span></span></pre></div></div></div></div></div><div style="position: absolute; height: 33px; width: 1px; border-bottom: 0px solid transparent; top: 31px;"></div><div class="CodeMirror-gutters" style="display: none; height: 64px;"></div></div></div></div><div class="text_cell_render rendered_html" tabindex="-1" dir="ltr"><h2 id="4.Plooting-the-scatter-plots">4.Plooting the scatter plots<a class="anchor-link" href="http://localhost:8890/notebooks/Air%20pollution%20prediction.ipynb#4.Plooting-the-scatter-plots">¶</a></h2>
</div></div></div><div class="cell code_cell unselected rendered" tabindex="2"><div class="input"><div class="prompt_container"><div class="prompt input_prompt"><bdi>In</bdi>&nbsp;[9]:</div><div class="run_this_cell" title="Run this cell"><i class="fa-step-forward fa"></i></div></div><div class="inner_cell"><div class="ctb_hideshow"><div class="celltoolbar"></div></div><div class="input_area" aria-label="Edit code here"><div class="CodeMirror cm-s-ipython"><div style="overflow: hidden; position: relative; width: 3px; height: 0px; top: 5.59375px; left: 4px;"><textarea autocorrect="off" autocapitalize="off" spellcheck="false" tabindex="0" style="position: absolute; bottom: -1em; padding: 0px; width: 1000px; height: 1em; outline: none;"></textarea></div><div class="CodeMirror-vscrollbar" tabindex="-1" cm-not-content="true"><div style="min-width: 1px; height: 0px;"></div></div><div class="CodeMirror-hscrollbar" tabindex="-1" cm-not-content="true"><div style="height: 100%; min-height: 1px; width: 0px;"></div></div><div class="CodeMirror-scrollbar-filler" cm-not-content="true"></div><div class="CodeMirror-gutter-filler" cm-not-content="true"></div><div class="CodeMirror-scroll" tabindex="-1"><div class="CodeMirror-sizer" style="margin-left: 0px; min-width: 184.109px; margin-bottom: -17px; border-right-width: 33px; min-height: 62px; padding-right: 0px; padding-bottom: 0px;"><div style="position: relative; top: 0px;"><div class="CodeMirror-lines" role="presentation"><div role="presentation" style="position: relative; outline: none;"><div class="CodeMirror-measure"><pre class="CodeMirror-line-like"><span>xxxxxxxxxx</span></pre></div><div class="CodeMirror-measure"></div><div style="position: relative; z-index: 1;"></div><div class="CodeMirror-cursors"><div class="CodeMirror-cursor" style="left: 4px; top: 0px; height: 17px;">&nbsp;</div></div><div class="CodeMirror-code" role="presentation"><pre class=" CodeMirror-line " role="presentation"><span role="presentation" style="padding-right: 0.1px;"><span class="cm-variable">plt</span>.<span class="cm-property">scatter</span>(<span class="cm-variable">x</span>[<span class="cm-string">'so2'</span>],<span class="cm-variable">y</span>)</span></pre><pre class=" CodeMirror-line " role="presentation"><span role="presentation" style="padding-right: 0.1px;"><span class="cm-variable">plt</span>.<span class="cm-property">xlabel</span>(<span class="cm-string">'So2'</span>)</span></pre><pre class=" CodeMirror-line " role="presentation"><span role="presentation" style="padding-right: 0.1px;"><span class="cm-variable">plt</span>.<span class="cm-property">ylabel</span>(<span class="cm-string">'AQI'</span>)</span></pre></div></div></div></div></div><div style="position: absolute; height: 33px; width: 1px; border-bottom: 0px solid transparent; top: 62px;"></div><div class="CodeMirror-gutters" style="display: none; height: 95px;"></div></div></div></div></div></div><div class="output_wrapper"><div class="out_prompt_overlay prompt" title="click to expand output; double click to hide output"></div><div class="output"><div class="output_area"><div class="run_this_cell"></div><div class="prompt output_prompt"><bdi>Out[9]:</bdi></div><div class="output_subarea output_text output_result" dir="auto"><pre>Text(0, 0.5, 'AQI')</pre></div></div><div class="output_area"><div class="run_this_cell"></div><div class="prompt"></div><div class="output_subarea output_png" dir="auto"><img src="data:image/png;base64,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"></div></div></div><div class="btn btn-default output_collapsed" title="click to expand output" style="display: none;">. . .</div></div></div><div class="cell code_cell unselected rendered" tabindex="2"><div class="input"><div class="prompt_container"><div class="prompt input_prompt"><bdi>In</bdi>&nbsp;[10]:</div><div class="run_this_cell" title="Run this cell"><i class="fa-step-forward fa"></i></div></div><div class="inner_cell"><div class="ctb_hideshow"><div class="celltoolbar"></div></div><div class="input_area" aria-label="Edit code here"><div class="CodeMirror cm-s-ipython"><div style="overflow: hidden; position: relative; width: 3px; height: 0px; top: 5.59375px; left: 4px;"><textarea autocorrect="off" autocapitalize="off" spellcheck="false" tabindex="0" style="position: absolute; bottom: -1em; padding: 0px; width: 1000px; height: 1em; outline: none;"></textarea></div><div class="CodeMirror-vscrollbar" tabindex="-1" cm-not-content="true"><div style="min-width: 1px; height: 0px;"></div></div><div class="CodeMirror-hscrollbar" tabindex="-1" cm-not-content="true"><div style="height: 100%; min-height: 1px; width: 0px;"></div></div><div class="CodeMirror-scrollbar-filler" cm-not-content="true"></div><div class="CodeMirror-gutter-filler" cm-not-content="true"></div><div class="CodeMirror-scroll" tabindex="-1"><div class="CodeMirror-sizer" style="margin-left: 0px; min-width: 184.109px; margin-bottom: -17px; border-right-width: 33px; min-height: 62px; padding-right: 0px; padding-bottom: 0px;"><div style="position: relative; top: 0px;"><div class="CodeMirror-lines" role="presentation"><div role="presentation" style="position: relative; outline: none;"><div class="CodeMirror-measure"><pre class="CodeMirror-line-like"><span>xxxxxxxxxx</span></pre></div><div class="CodeMirror-measure"></div><div style="position: relative; z-index: 1;"></div><div class="CodeMirror-cursors"><div class="CodeMirror-cursor" style="left: 4px; top: 0px; height: 17px;">&nbsp;</div></div><div class="CodeMirror-code" role="presentation"><pre class=" CodeMirror-line " role="presentation"><span role="presentation" style="padding-right: 0.1px;"><span class="cm-variable">plt</span>.<span class="cm-property">scatter</span>(<span class="cm-variable">x</span>[<span class="cm-string">'no2'</span>],<span class="cm-variable">y</span>)</span></pre><pre class=" CodeMirror-line " role="presentation"><span role="presentation" style="padding-right: 0.1px;"><span class="cm-variable">plt</span>.<span class="cm-property">xlabel</span>(<span class="cm-string">'No2'</span>)</span></pre><pre class=" CodeMirror-line " role="presentation"><span role="presentation" style="padding-right: 0.1px;"><span class="cm-variable">plt</span>.<span class="cm-property">ylabel</span>(<span class="cm-string">'AQI'</span>)</span></pre></div></div></div></div></div><div style="position: absolute; height: 33px; width: 1px; border-bottom: 0px solid transparent; top: 62px;"></div><div class="CodeMirror-gutters" style="display: none; height: 95px;"></div></div></div></div></div></div><div class="output_wrapper"><div class="out_prompt_overlay prompt" title="click to expand output; double click to hide output"></div><div class="output"><div class="output_area"><div class="run_this_cell"></div><div class="prompt output_prompt"><bdi>Out[10]:</bdi></div><div class="output_subarea output_text output_result" dir="auto"><pre>Text(0, 0.5, 'AQI')</pre></div></div><div class="output_area"><div class="run_this_cell"></div><div class="prompt"></div><div class="output_subarea output_png" dir="auto"><img src="data:image/png;base64,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"></div></div></div><div class="btn btn-default output_collapsed" title="click to expand output" style="display: none;">. . .</div></div></div><div class="cell code_cell unselected rendered" tabindex="2"><div class="input"><div class="prompt_container"><div class="prompt input_prompt"><bdi>In</bdi>&nbsp;[11]:</div><div class="run_this_cell" title="Run this cell"><i class="fa-step-forward fa"></i></div></div><div class="inner_cell"><div class="ctb_hideshow"><div class="celltoolbar"></div></div><div class="input_area" aria-label="Edit code here"><div class="CodeMirror cm-s-ipython"><div style="overflow: hidden; position: relative; width: 3px; height: 0px; top: 5.59375px; left: 4px;"><textarea autocorrect="off" autocapitalize="off" spellcheck="false" tabindex="0" style="position: absolute; bottom: -1em; padding: 0px; width: 1000px; height: 1em; outline: none;"></textarea></div><div class="CodeMirror-vscrollbar" tabindex="-1" cm-not-content="true"><div style="min-width: 1px; height: 0px;"></div></div><div class="CodeMirror-hscrollbar" tabindex="-1" cm-not-content="true"><div style="height: 100%; min-height: 1px; width: 0px;"></div></div><div class="CodeMirror-scrollbar-filler" cm-not-content="true"></div><div class="CodeMirror-gutter-filler" cm-not-content="true"></div><div class="CodeMirror-scroll" tabindex="-1"><div class="CodeMirror-sizer" style="margin-left: 0px; min-width: 191.797px; margin-bottom: -17px; border-right-width: 33px; min-height: 62px; padding-right: 0px; padding-bottom: 0px;"><div style="position: relative; top: 0px;"><div class="CodeMirror-lines" role="presentation"><div role="presentation" style="position: relative; outline: none;"><div class="CodeMirror-measure"><pre class="CodeMirror-line-like"><span>xxxxxxxxxx</span></pre></div><div class="CodeMirror-measure"></div><div style="position: relative; z-index: 1;"></div><div class="CodeMirror-cursors"><div class="CodeMirror-cursor" style="left: 4px; top: 0px; height: 17px;">&nbsp;</div></div><div class="CodeMirror-code" role="presentation"><pre class=" CodeMirror-line " role="presentation"><span role="presentation" style="padding-right: 0.1px;"><span class="cm-variable">plt</span>.<span class="cm-property">scatter</span>(<span class="cm-variable">x</span>[<span class="cm-string">'PM10'</span>],<span class="cm-variable">y</span>)</span></pre><pre class=" CodeMirror-line " role="presentation"><span role="presentation" style="padding-right: 0.1px;"><span class="cm-variable">plt</span>.<span class="cm-property">xlabel</span>(<span class="cm-string">'PM 10'</span>)</span></pre><pre class=" CodeMirror-line " role="presentation"><span role="presentation" style="padding-right: 0.1px;"><span class="cm-variable">plt</span>.<span class="cm-property">ylabel</span>(<span class="cm-string">'AQI'</span>)</span></pre></div></div></div></div></div><div style="position: absolute; height: 33px; width: 1px; border-bottom: 0px solid transparent; top: 62px;"></div><div class="CodeMirror-gutters" style="display: none; height: 95px;"></div></div></div></div></div></div><div class="output_wrapper"><div class="out_prompt_overlay prompt" title="click to expand output; double click to hide output"></div><div class="output"><div class="output_area"><div class="run_this_cell"></div><div class="prompt output_prompt"><bdi>Out[11]:</bdi></div><div class="output_subarea output_text output_result" dir="auto"><pre>Text(0, 0.5, 'AQI')</pre></div></div><div class="output_area"><div class="run_this_cell"></div><div class="prompt"></div><div class="output_subarea output_png" dir="auto"><img src="data:image/png;base64,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"></div></div></div><div class="btn btn-default output_collapsed" title="click to expand output" style="display: none;">. . .</div></div></div><div class="cell code_cell unselected rendered" tabindex="2"><div class="input"><div class="prompt_container"><div class="prompt input_prompt"><bdi>In</bdi>&nbsp;[12]:</div><div class="run_this_cell" title="Run this cell"><i class="fa-step-forward fa"></i></div></div><div class="inner_cell"><div class="ctb_hideshow"><div class="celltoolbar"></div></div><div class="input_area" aria-label="Edit code here"><div class="CodeMirror cm-s-ipython"><div style="overflow: hidden; position: relative; width: 3px; height: 0px; top: 5.59375px; left: 4px;"><textarea autocorrect="off" autocapitalize="off" spellcheck="false" tabindex="0" style="position: absolute; bottom: -1em; padding: 0px; width: 1000px; height: 1em; outline: none;"></textarea></div><div class="CodeMirror-vscrollbar" tabindex="-1" cm-not-content="true"><div style="min-width: 1px; height: 0px;"></div></div><div class="CodeMirror-hscrollbar" tabindex="-1" cm-not-content="true"><div style="height: 100%; min-height: 1px; width: 0px;"></div></div><div class="CodeMirror-scrollbar-filler" cm-not-content="true"></div><div class="CodeMirror-gutter-filler" cm-not-content="true"></div><div class="CodeMirror-scroll" tabindex="-1"><div class="CodeMirror-sizer" style="margin-left: 0px; min-width: 191.797px; margin-bottom: -17px; border-right-width: 33px; min-height: 62px; padding-right: 0px; padding-bottom: 0px;"><div style="position: relative; top: 0px;"><div class="CodeMirror-lines" role="presentation"><div role="presentation" style="position: relative; outline: none;"><div class="CodeMirror-measure"><pre class="CodeMirror-line-like"><span>xxxxxxxxxx</span></pre></div><div class="CodeMirror-measure"></div><div style="position: relative; z-index: 1;"></div><div class="CodeMirror-cursors"><div class="CodeMirror-cursor" style="left: 4px; top: 0px; height: 17px;">&nbsp;</div></div><div class="CodeMirror-code" role="presentation"><pre class=" CodeMirror-line " role="presentation"><span role="presentation" style="padding-right: 0.1px;"><span class="cm-variable">plt</span>.<span class="cm-property">scatter</span>(<span class="cm-variable">x</span>[<span class="cm-string">'PM25'</span>],<span class="cm-variable">y</span>)</span></pre><pre class=" CodeMirror-line " role="presentation"><span role="presentation" style="padding-right: 0.1px;"><span class="cm-variable">plt</span>.<span class="cm-property">xlabel</span>(<span class="cm-string">'PM 2.5'</span>)</span></pre><pre class=" CodeMirror-line " role="presentation"><span role="presentation" style="padding-right: 0.1px;"><span class="cm-variable">plt</span>.<span class="cm-property">ylabel</span>(<span class="cm-string">'AQI'</span>)</span></pre></div></div></div></div></div><div style="position: absolute; height: 33px; width: 1px; border-bottom: 0px solid transparent; top: 62px;"></div><div class="CodeMirror-gutters" style="display: none; height: 95px;"></div></div></div></div></div></div><div class="output_wrapper"><div class="out_prompt_overlay prompt" title="click to expand output; double click to hide output"></div><div class="output"><div class="output_area"><div class="run_this_cell"></div><div class="prompt output_prompt"><bdi>Out[12]:</bdi></div><div class="output_subarea output_text output_result" dir="auto"><pre>Text(0, 0.5, 'AQI')</pre></div></div><div class="output_area"><div class="run_this_cell"></div><div class="prompt"></div><div class="output_subarea output_png" dir="auto"><img src="data:image/png;base64,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"></div></div></div><div class="btn btn-default output_collapsed" title="click to expand output" style="display: none;">. . .</div></div></div><div class="cell text_cell unselected rendered" tabindex="2"><div class="prompt input_prompt"></div><div class="inner_cell"><div class="ctb_hideshow"><div class="celltoolbar"></div></div><div class="input_area" aria-label="Edit Markup Text here"><div class="CodeMirror cm-s-default CodeMirror-wrap"><div style="overflow: hidden; position: relative; width: 3px; height: 0px; top: 5.59375px; left: 4px;"><textarea autocorrect="off" autocapitalize="off" spellcheck="false" tabindex="0" style="position: absolute; bottom: -1em; padding: 0px; width: 1000px; height: 1em; outline: none;"></textarea></div><div class="CodeMirror-vscrollbar" tabindex="-1" cm-not-content="true" style="bottom: 0px;"><div style="min-width: 1px; height: 0px;"></div></div><div class="CodeMirror-hscrollbar" tabindex="-1" cm-not-content="true"><div style="height: 100%; min-height: 1px; width: 0px;"></div></div><div class="CodeMirror-scrollbar-filler" cm-not-content="true"></div><div class="CodeMirror-gutter-filler" cm-not-content="true"></div><div class="CodeMirror-scroll" tabindex="-1"><div class="CodeMirror-sizer" style="margin-left: 0px; padding-right: 0px; padding-bottom: 0px; margin-bottom: -17px; border-right-width: 33px; min-height: 31px;"><div style="position: relative; top: 0px;"><div class="CodeMirror-lines" role="presentation"><div role="presentation" style="position: relative; outline: none;"><div class="CodeMirror-measure"><pre class="CodeMirror-line-like"><span>xxxxxxxxxx</span></pre></div><div class="CodeMirror-measure"></div><div style="position: relative; z-index: 1;"></div><div class="CodeMirror-cursors"><div class="CodeMirror-cursor" style="left: 4px; top: 0px; height: 20px;">&nbsp;</div></div><div class="CodeMirror-code" role="presentation"><pre class=" CodeMirror-line " role="presentation"><span role="presentation" style="padding-right: 0.1px;"><span class="cm-header cm-header-2">## 5.Standardizing the features</span></span></pre></div></div></div></div></div><div style="position: absolute; height: 33px; width: 1px; border-bottom: 0px solid transparent; top: 31px;"></div><div class="CodeMirror-gutters" style="display: none; height: 64px;"></div></div></div></div><div class="text_cell_render rendered_html" tabindex="-1" dir="ltr"><h2 id="5.Standardizing-the-features">5.Standardizing the features<a class="anchor-link" href="http://localhost:8890/notebooks/Air%20pollution%20prediction.ipynb#5.Standardizing-the-features">¶</a></h2>
</div></div></div><div class="cell code_cell unselected rendered" tabindex="2"><div class="input"><div class="prompt_container"><div class="prompt input_prompt"><bdi>In</bdi>&nbsp;[13]:</div><div class="run_this_cell" title="Run this cell"><i class="fa-step-forward fa"></i></div></div><div class="inner_cell"><div class="ctb_hideshow"><div class="celltoolbar"></div></div><div class="input_area" aria-label="Edit code here"><div class="CodeMirror cm-s-ipython"><div style="overflow: hidden; position: relative; width: 3px; height: 0px; top: 5.59375px; left: 4px;"><textarea autocorrect="off" autocapitalize="off" spellcheck="false" tabindex="0" style="position: absolute; bottom: -1em; padding: 0px; width: 1000px; height: 1em; outline: none;"></textarea></div><div class="CodeMirror-vscrollbar" tabindex="-1" cm-not-content="true"><div style="min-width: 1px; height: 0px;"></div></div><div class="CodeMirror-hscrollbar" tabindex="-1" cm-not-content="true"><div style="height: 100%; min-height: 1px; width: 0px;"></div></div><div class="CodeMirror-scrollbar-filler" cm-not-content="true"></div><div class="CodeMirror-gutter-filler" cm-not-content="true"></div><div class="CodeMirror-scroll" tabindex="-1"><div class="CodeMirror-sizer" style="margin-left: 0px; min-width: 376.531px; margin-bottom: -17px; border-right-width: 33px; min-height: 130px; padding-right: 0px; padding-bottom: 0px;"><div style="position: relative; top: 0px;"><div class="CodeMirror-lines" role="presentation"><div role="presentation" style="position: relative; outline: none;"><div class="CodeMirror-measure"><pre class="CodeMirror-line-like"><span>xxxxxxxxxx</span></pre></div><div class="CodeMirror-measure"></div><div style="position: relative; z-index: 1;"></div><div class="CodeMirror-cursors"><div class="CodeMirror-cursor" style="left: 4px; top: 0px; height: 17px;">&nbsp;</div></div><div class="CodeMirror-code" role="presentation" style=""><pre class=" CodeMirror-line " role="presentation"><span role="presentation" style="padding-right: 0.1px;"><span class="cm-keyword">from</span> <span class="cm-variable">sklearn</span>.<span class="cm-property">preprocessing</span> <span class="cm-keyword">import</span> <span class="cm-variable">StandardScaler</span></span></pre><pre class=" CodeMirror-line " role="presentation"><span role="presentation" style="padding-right: 0.1px;"><span class="cm-variable">scaler</span> <span class="cm-operator">=</span> <span class="cm-variable">StandardScaler</span>()</span></pre><pre class=" CodeMirror-line " role="presentation"><span role="presentation" style="padding-right: 0.1px;"><span class="cm-variable">scaler</span>.<span class="cm-property">fit</span>(<span class="cm-variable">x</span>)</span></pre><pre class=" CodeMirror-line " role="presentation"><span role="presentation" style="padding-right: 0.1px;"><span class="cm-variable">df</span> <span class="cm-operator">=</span> <span class="cm-variable">scaler</span>.<span class="cm-property">transform</span>(<span class="cm-variable">x</span>)</span></pre><pre class=" CodeMirror-line " role="presentation"><span role="presentation" style="padding-right: 0.1px;"><span class="cm-variable">df</span> <span class="cm-operator">=</span> <span class="cm-variable">pd</span>.<span class="cm-property">DataFrame</span>(<span class="cm-variable">df</span>,<span class="cm-variable">columns</span> <span class="cm-operator">=</span> <span class="cm-variable">Df</span>.<span class="cm-property">columns</span>)</span></pre><pre class=" CodeMirror-line " role="presentation"><span role="presentation" style="padding-right: 0.1px;"><span class="cm-variable">x</span> <span class="cm-operator">=</span> <span class="cm-variable">df</span>.<span class="cm-property">iloc</span>[:,:]</span></pre><pre class=" CodeMirror-line " role="presentation"><span role="presentation" style="padding-right: 0.1px;"><span class="cm-variable">x</span>.<span class="cm-property">values</span></span></pre></div></div></div></div></div><div style="position: absolute; height: 33px; width: 1px; border-bottom: 0px solid transparent; top: 130px;"></div><div class="CodeMirror-gutters" style="display: none; height: 163px;"></div></div></div></div></div></div><div class="output_wrapper"><div class="out_prompt_overlay prompt" title="click to expand output; double click to hide output"></div><div class="output"><div class="output_area"><div class="run_this_cell"></div><div class="prompt output_prompt"><bdi>Out[13]:</bdi></div><div class="output_subarea output_text output_result" dir="auto"><pre>array([[ 0.21390466,  0.92949046,  0.57663776, ..., -0.79589057,
         0.91842747,  2.36383617],
       [ 0.32328842,  0.92949046,  0.59839614, ..., -1.56482906,
         1.51172814,  3.02354567],
       [ 0.41543181,  0.71216205, -0.9537013 , ...,  0.02480339,
         1.05403905,  2.81034687],
       ...,
       [-0.87161026,  0.54916575,  0.12454708, ..., -0.97333792,
         0.29122391,  0.81915049],
       [-0.91976289,  0.65782995, -0.27677407, ..., -0.95855064,
         0.25732102,  0.78294692],
       [-0.95840389,  0.76649416,  0.16806383, ..., -0.97333792,
         0.18951523,  0.71053978]])</pre></div></div></div><div class="btn btn-default output_collapsed" title="click to expand output" style="display: none;">. . .</div></div></div><div class="cell text_cell unselected rendered" tabindex="2"><div class="prompt input_prompt"></div><div class="inner_cell"><div class="ctb_hideshow"><div class="celltoolbar"></div></div><div class="input_area" aria-label="Edit Markup Text here"><div class="CodeMirror cm-s-default CodeMirror-wrap"><div style="overflow: hidden; position: relative; width: 3px; height: 0px; top: 5.59375px; left: 4px;"><textarea autocorrect="off" autocapitalize="off" spellcheck="false" tabindex="0" style="position: absolute; bottom: -1em; padding: 0px; width: 1000px; height: 1em; outline: none;"></textarea></div><div class="CodeMirror-vscrollbar" tabindex="-1" cm-not-content="true" style="bottom: 0px;"><div style="min-width: 1px; height: 0px;"></div></div><div class="CodeMirror-hscrollbar" tabindex="-1" cm-not-content="true"><div style="height: 100%; min-height: 1px; width: 0px;"></div></div><div class="CodeMirror-scrollbar-filler" cm-not-content="true"></div><div class="CodeMirror-gutter-filler" cm-not-content="true"></div><div class="CodeMirror-scroll" tabindex="-1"><div class="CodeMirror-sizer" style="margin-left: 0px; padding-right: 0px; padding-bottom: 0px; margin-bottom: -17px; border-right-width: 33px; min-height: 29px;"><div style="position: relative; top: 0px;"><div class="CodeMirror-lines" role="presentation"><div role="presentation" style="position: relative; outline: none;"><div class="CodeMirror-measure"><pre class="CodeMirror-line-like"><span>xxxxxxxxxx</span></pre></div><div class="CodeMirror-measure"></div><div style="position: relative; z-index: 1;"></div><div class="CodeMirror-cursors"><div class="CodeMirror-cursor" style="left: 4px; top: 0px; height: 18px;">&nbsp;</div></div><div class="CodeMirror-code" role="presentation"><pre class=" CodeMirror-line " role="presentation"><span role="presentation" style="padding-right: 0.1px;"><span class="cm-header cm-header-3">### Splitting the dataset into training and testing</span></span></pre></div></div></div></div></div><div style="position: absolute; height: 33px; width: 1px; border-bottom: 0px solid transparent; top: 29px;"></div><div class="CodeMirror-gutters" style="display: none; height: 62px;"></div></div></div></div><div class="text_cell_render rendered_html" tabindex="-1" dir="ltr"><h3 id="Splitting-the-dataset-into-training-and-testing">Splitting the dataset into training and testing<a class="anchor-link" href="http://localhost:8890/notebooks/Air%20pollution%20prediction.ipynb#Splitting-the-dataset-into-training-and-testing">¶</a></h3>
</div></div></div><div class="cell code_cell unselected rendered" tabindex="2"><div class="input"><div class="prompt_container"><div class="prompt input_prompt"><bdi>In</bdi>&nbsp;[14]:</div><div class="run_this_cell" title="Run this cell"><i class="fa-step-forward fa"></i></div></div><div class="inner_cell"><div class="ctb_hideshow"><div class="celltoolbar"></div></div><div class="input_area" aria-label="Edit code here"><div class="CodeMirror cm-s-ipython"><div style="overflow: hidden; position: relative; width: 3px; height: 0px; top: 5.59375px; left: 4px;"><textarea autocorrect="off" autocapitalize="off" spellcheck="false" tabindex="0" style="position: absolute; bottom: -1em; padding: 0px; width: 1000px; height: 1em; outline: none;"></textarea></div><div class="CodeMirror-vscrollbar" tabindex="-1" cm-not-content="true"><div style="min-width: 1px; height: 0px;"></div></div><div class="CodeMirror-hscrollbar" tabindex="-1" cm-not-content="true"><div style="height: 100%; min-height: 1px; width: 0px;"></div></div><div class="CodeMirror-scrollbar-filler" cm-not-content="true"></div><div class="CodeMirror-gutter-filler" cm-not-content="true"></div><div class="CodeMirror-scroll" tabindex="-1"><div class="CodeMirror-sizer" style="margin-left: 0px; min-width: 676.828px; margin-bottom: -17px; border-right-width: 33px; min-height: 28px; padding-right: 0px; padding-bottom: 0px;"><div style="position: relative; top: 0px;"><div class="CodeMirror-lines" role="presentation"><div role="presentation" style="position: relative; outline: none;"><div class="CodeMirror-measure"><pre class="CodeMirror-line-like"><span>xxxxxxxxxx</span></pre></div><div class="CodeMirror-measure"></div><div style="position: relative; z-index: 1;"></div><div class="CodeMirror-cursors"><div class="CodeMirror-cursor" style="left: 4px; top: 0px; height: 17px;">&nbsp;</div></div><div class="CodeMirror-code" role="presentation"><pre class=" CodeMirror-line " role="presentation"><span role="presentation" style="padding-right: 0.1px;"><span class="cm-variable">x_train</span>,<span class="cm-variable">x_test</span>,<span class="cm-variable">y_train</span>,<span class="cm-variable">y_test</span> <span class="cm-operator">=</span> <span class="cm-variable">train_test_split</span>(<span class="cm-variable">x</span>,<span class="cm-variable">y</span>,<span class="cm-variable">test_size</span> <span class="cm-operator">=</span> <span class="cm-number">0.20</span>,<span class="cm-variable">random_state</span> <span class="cm-operator">=</span> <span class="cm-number">2</span>)</span></pre></div></div></div></div></div><div style="position: absolute; height: 33px; width: 1px; border-bottom: 0px solid transparent; top: 28px;"></div><div class="CodeMirror-gutters" style="display: none; height: 61px;"></div></div></div></div></div></div><div class="output_wrapper"><div class="out_prompt_overlay prompt" title="click to expand output; double click to hide output"></div><div class="output"></div><div class="btn btn-default output_collapsed" title="click to expand output" style="display: none;">. . .</div></div></div><div class="cell text_cell unselected rendered" tabindex="2"><div class="prompt input_prompt"></div><div class="inner_cell"><div class="ctb_hideshow"><div class="celltoolbar"></div></div><div class="input_area" aria-label="Edit Markup Text here"><div class="CodeMirror cm-s-default CodeMirror-wrap"><div style="overflow: hidden; position: relative; width: 3px; height: 0px; top: 5.59375px; left: 4px;"><textarea autocorrect="off" autocapitalize="off" spellcheck="false" tabindex="0" style="position: absolute; bottom: -1em; padding: 0px; width: 1000px; height: 1em; outline: none;"></textarea></div><div class="CodeMirror-vscrollbar" tabindex="-1" cm-not-content="true" style="bottom: 0px;"><div style="min-width: 1px; height: 0px;"></div></div><div class="CodeMirror-hscrollbar" tabindex="-1" cm-not-content="true"><div style="height: 100%; min-height: 1px; width: 0px;"></div></div><div class="CodeMirror-scrollbar-filler" cm-not-content="true"></div><div class="CodeMirror-gutter-filler" cm-not-content="true"></div><div class="CodeMirror-scroll" tabindex="-1"><div class="CodeMirror-sizer" style="margin-left: 0px; padding-right: 0px; padding-bottom: 0px; margin-bottom: -17px; border-right-width: 33px; min-height: 31px;"><div style="position: relative; top: 0px;"><div class="CodeMirror-lines" role="presentation"><div role="presentation" style="position: relative; outline: none;"><div class="CodeMirror-measure"><pre class="CodeMirror-line-like"><span>xxxxxxxxxx</span></pre></div><div class="CodeMirror-measure"></div><div style="position: relative; z-index: 1;"></div><div class="CodeMirror-cursors"><div class="CodeMirror-cursor" style="left: 4px; top: 0px; height: 20px;">&nbsp;</div></div><div class="CodeMirror-code" role="presentation"><pre class=" CodeMirror-line " role="presentation"><span role="presentation" style="padding-right: 0.1px;"><span class="cm-header cm-header-2">## Algorithms</span></span></pre></div></div></div></div></div><div style="position: absolute; height: 33px; width: 1px; border-bottom: 0px solid transparent; top: 31px;"></div><div class="CodeMirror-gutters" style="display: none; height: 64px;"></div></div></div></div><div class="text_cell_render rendered_html" tabindex="-1" dir="ltr"><h2 id="Algorithms">Algorithms<a class="anchor-link" href="http://localhost:8890/notebooks/Air%20pollution%20prediction.ipynb#Algorithms">¶</a></h2>
</div></div></div><div class="cell text_cell unselected rendered" tabindex="2"><div class="prompt input_prompt"></div><div class="inner_cell"><div class="ctb_hideshow"><div class="celltoolbar"></div></div><div class="input_area" aria-label="Edit Markup Text here"><div class="CodeMirror cm-s-default CodeMirror-wrap"><div style="overflow: hidden; position: relative; width: 3px; height: 0px; top: 5.59375px; left: 4px;"><textarea autocorrect="off" autocapitalize="off" spellcheck="false" tabindex="0" style="position: absolute; bottom: -1em; padding: 0px; width: 1000px; height: 1em; outline: none;"></textarea></div><div class="CodeMirror-vscrollbar" tabindex="-1" cm-not-content="true" style="bottom: 0px;"><div style="min-width: 1px; height: 0px;"></div></div><div class="CodeMirror-hscrollbar" tabindex="-1" cm-not-content="true"><div style="height: 100%; min-height: 1px; width: 0px;"></div></div><div class="CodeMirror-scrollbar-filler" cm-not-content="true"></div><div class="CodeMirror-gutter-filler" cm-not-content="true"></div><div class="CodeMirror-scroll" tabindex="-1"><div class="CodeMirror-sizer" style="margin-left: 0px; padding-right: 0px; padding-bottom: 0px; margin-bottom: -17px; border-right-width: 33px; min-height: 29px;"><div style="position: relative; top: 0px;"><div class="CodeMirror-lines" role="presentation"><div role="presentation" style="position: relative; outline: none;"><div class="CodeMirror-measure"><pre class="CodeMirror-line-like"><span>xxxxxxxxxx</span></pre></div><div class="CodeMirror-measure"></div><div style="position: relative; z-index: 1;"></div><div class="CodeMirror-cursors"><div class="CodeMirror-cursor" style="left: 4px; top: 0px; height: 18px;">&nbsp;</div></div><div class="CodeMirror-code" role="presentation"><pre class=" CodeMirror-line " role="presentation"><span role="presentation" style="padding-right: 0.1px;"><span class="cm-header cm-header-3">### 1.Multiple Linear Regression</span></span></pre></div></div></div></div></div><div style="position: absolute; height: 33px; width: 1px; border-bottom: 0px solid transparent; top: 29px;"></div><div class="CodeMirror-gutters" style="display: none; height: 62px;"></div></div></div></div><div class="text_cell_render rendered_html" tabindex="-1" dir="ltr"><h3 id="1.Multiple-Linear-Regression">1.Multiple Linear Regression<a class="anchor-link" href="http://localhost:8890/notebooks/Air%20pollution%20prediction.ipynb#1.Multiple-Linear-Regression">¶</a></h3>
</div></div></div><div class="cell code_cell unselected rendered" tabindex="2"><div class="input"><div class="prompt_container"><div class="prompt input_prompt"><bdi>In</bdi>&nbsp;[15]:</div><div class="run_this_cell" title="Run this cell"><i class="fa-step-forward fa"></i></div></div><div class="inner_cell"><div class="ctb_hideshow"><div class="celltoolbar"></div></div><div class="input_area" aria-label="Edit code here"><div class="CodeMirror cm-s-ipython"><div style="overflow: hidden; position: relative; width: 3px; height: 0px; top: 5.59375px; left: 4px;"><textarea autocorrect="off" autocapitalize="off" spellcheck="false" tabindex="0" style="position: absolute; bottom: -1em; padding: 0px; width: 1000px; height: 1em; outline: none;"></textarea></div><div class="CodeMirror-vscrollbar" tabindex="-1" cm-not-content="true"><div style="min-width: 1px; height: 0px;"></div></div><div class="CodeMirror-hscrollbar" tabindex="-1" cm-not-content="true"><div style="height: 100%; min-height: 1px; width: 0px;"></div></div><div class="CodeMirror-scrollbar-filler" cm-not-content="true"></div><div class="CodeMirror-gutter-filler" cm-not-content="true"></div><div class="CodeMirror-scroll" tabindex="-1"><div class="CodeMirror-sizer" style="margin-left: 0px; min-width: 245.656px; margin-bottom: -17px; border-right-width: 33px; min-height: 45px; padding-right: 0px; padding-bottom: 0px;"><div style="position: relative; top: 0px;"><div class="CodeMirror-lines" role="presentation"><div role="presentation" style="position: relative; outline: none;"><div class="CodeMirror-measure"><pre class="CodeMirror-line-like"><span>xxxxxxxxxx</span></pre></div><div class="CodeMirror-measure"></div><div style="position: relative; z-index: 1;"></div><div class="CodeMirror-cursors"><div class="CodeMirror-cursor" style="left: 4px; top: 0px; height: 17px;">&nbsp;</div></div><div class="CodeMirror-code" role="presentation"><pre class=" CodeMirror-line " role="presentation"><span role="presentation" style="padding-right: 0.1px;"><span class="cm-variable">linear_reg</span> <span class="cm-operator">=</span> <span class="cm-variable">LinearRegression</span>()</span></pre><pre class=" CodeMirror-line " role="presentation"><span role="presentation" style="padding-right: 0.1px;"><span class="cm-variable">linear_reg</span>.<span class="cm-property">fit</span>(<span class="cm-variable">x_train</span>,<span class="cm-variable">y_train</span>)</span></pre></div></div></div></div></div><div style="position: absolute; height: 33px; width: 1px; border-bottom: 0px solid transparent; top: 45px;"></div><div class="CodeMirror-gutters" style="display: none; height: 78px;"></div></div></div></div></div></div><div class="output_wrapper"><div class="out_prompt_overlay prompt" title="click to expand output; double click to hide output"></div><div class="output"><div class="output_area"><div class="run_this_cell"></div><div class="prompt output_prompt"><bdi>Out[15]:</bdi></div><div class="output_subarea output_text output_result" dir="auto"><pre>LinearRegression()</pre></div></div></div><div class="btn btn-default output_collapsed" title="click to expand output" style="display: none;">. . .</div></div></div><div class="cell code_cell unselected rendered" tabindex="2"><div class="input"><div class="prompt_container"><div class="prompt input_prompt"><bdi>In</bdi>&nbsp;[16]:</div><div class="run_this_cell" title="Run this cell"><i class="fa-step-forward fa"></i></div></div><div class="inner_cell"><div class="ctb_hideshow"><div class="celltoolbar"></div></div><div class="input_area" aria-label="Edit code here"><div class="CodeMirror cm-s-ipython"><div style="overflow: hidden; position: relative; width: 3px; height: 0px; top: 5.59375px; left: 4px;"><textarea autocorrect="off" autocapitalize="off" spellcheck="false" tabindex="0" style="position: absolute; bottom: -1em; padding: 0px; width: 1000px; height: 1em; outline: none;"></textarea></div><div class="CodeMirror-vscrollbar" tabindex="-1" cm-not-content="true"><div style="min-width: 1px; height: 0px;"></div></div><div class="CodeMirror-hscrollbar" tabindex="-1" cm-not-content="true"><div style="height: 100%; min-height: 1px; width: 0px;"></div></div><div class="CodeMirror-scrollbar-filler" cm-not-content="true"></div><div class="CodeMirror-gutter-filler" cm-not-content="true"></div><div class="CodeMirror-scroll" tabindex="-1"><div class="CodeMirror-sizer" style="margin-left: 0px; min-width: 345.75px; margin-bottom: -17px; border-right-width: 33px; min-height: 45px; padding-right: 0px; padding-bottom: 0px;"><div style="position: relative; top: 0px;"><div class="CodeMirror-lines" role="presentation"><div role="presentation" style="position: relative; outline: none;"><div class="CodeMirror-measure"><pre class="CodeMirror-line-like"><span>xxxxxxxxxx</span></pre></div><div class="CodeMirror-measure"></div><div style="position: relative; z-index: 1;"></div><div class="CodeMirror-cursors"><div class="CodeMirror-cursor" style="left: 4px; top: 0px; height: 17px;">&nbsp;</div></div><div class="CodeMirror-code" role="presentation"><pre class=" CodeMirror-line " role="presentation"><span role="presentation" style="padding-right: 0.1px;"><span class="cm-variable">linear_reg_pred</span> <span class="cm-operator">=</span> <span class="cm-variable">linear_reg</span>.<span class="cm-property">predict</span>(<span class="cm-variable">x_test</span>)</span></pre><pre class=" CodeMirror-line " role="presentation"><span role="presentation" style="padding-right: 0.1px;"><span class="cm-variable">linear_reg_pred</span></span></pre></div></div></div></div></div><div style="position: absolute; height: 33px; width: 1px; border-bottom: 0px solid transparent; top: 45px;"></div><div class="CodeMirror-gutters" style="display: none; height: 78px;"></div></div></div></div></div></div><div class="output_wrapper"><div class="out_prompt_overlay prompt" title="click to expand output; double click to hide output"></div><div class="output"><div class="output_area"><div class="run_this_cell"></div><div class="prompt output_prompt"><bdi>Out[16]:</bdi></div><div class="output_subarea output_text output_result" dir="auto"><pre>array([ 78.50758987, 114.72589108,  50.46659669, ...,  57.41083472,
        73.25508042, 118.92940253])</pre></div></div></div><div class="btn btn-default output_collapsed" title="click to expand output" style="display: none;">. . .</div></div></div><div class="cell text_cell unselected rendered" tabindex="2"><div class="prompt input_prompt"></div><div class="inner_cell"><div class="ctb_hideshow"><div class="celltoolbar"></div></div><div class="input_area" aria-label="Edit Markup Text here"><div class="CodeMirror cm-s-default CodeMirror-wrap"><div style="overflow: hidden; position: relative; width: 3px; height: 0px; top: 5.59375px; left: 4px;"><textarea autocorrect="off" autocapitalize="off" spellcheck="false" tabindex="0" style="position: absolute; bottom: -1em; padding: 0px; width: 1000px; height: 1em; outline: none;"></textarea></div><div class="CodeMirror-vscrollbar" tabindex="-1" cm-not-content="true" style="bottom: 0px;"><div style="min-width: 1px; height: 0px;"></div></div><div class="CodeMirror-hscrollbar" tabindex="-1" cm-not-content="true"><div style="height: 100%; min-height: 1px; width: 0px;"></div></div><div class="CodeMirror-scrollbar-filler" cm-not-content="true"></div><div class="CodeMirror-gutter-filler" cm-not-content="true"></div><div class="CodeMirror-scroll" tabindex="-1"><div class="CodeMirror-sizer" style="margin-left: 0px; padding-right: 0px; padding-bottom: 0px; margin-bottom: -17px; border-right-width: 33px; min-height: 29px;"><div style="position: relative; top: 0px;"><div class="CodeMirror-lines" role="presentation"><div role="presentation" style="position: relative; outline: none;"><div class="CodeMirror-measure"><pre class="CodeMirror-line-like"><span>xxxxxxxxxx</span></pre></div><div class="CodeMirror-measure"></div><div style="position: relative; z-index: 1;"></div><div class="CodeMirror-cursors"><div class="CodeMirror-cursor" style="left: 4px; top: 0px; height: 18px;">&nbsp;</div></div><div class="CodeMirror-code" role="presentation"><pre class=" CodeMirror-line " role="presentation"><span role="presentation" style="padding-right: 0.1px;"><span class="cm-header cm-header-3">### Accurary and Overfitting or Underfitting</span></span></pre></div></div></div></div></div><div style="position: absolute; height: 33px; width: 1px; border-bottom: 0px solid transparent; top: 29px;"></div><div class="CodeMirror-gutters" style="display: none; height: 62px;"></div></div></div></div><div class="text_cell_render rendered_html" tabindex="-1" dir="ltr"><h3 id="Accurary-and-Overfitting-or-Underfitting">Accurary and Overfitting or Underfitting<a class="anchor-link" href="http://localhost:8890/notebooks/Air%20pollution%20prediction.ipynb#Accurary-and-Overfitting-or-Underfitting">¶</a></h3>
</div></div></div><div class="cell code_cell unselected rendered" tabindex="2"><div class="input"><div class="prompt_container"><div class="prompt input_prompt"><bdi>In</bdi>&nbsp;[17]:</div><div class="run_this_cell" title="Run this cell"><i class="fa-step-forward fa"></i></div></div><div class="inner_cell"><div class="ctb_hideshow"><div class="celltoolbar"></div></div><div class="input_area" aria-label="Edit code here"><div class="CodeMirror cm-s-ipython"><div style="overflow: hidden; position: relative; width: 3px; height: 0px; top: 5.59375px; left: 4px;"><textarea autocorrect="off" autocapitalize="off" spellcheck="false" tabindex="0" style="position: absolute; bottom: -1em; padding: 0px; width: 1000px; height: 1em; outline: none;"></textarea></div><div class="CodeMirror-vscrollbar" tabindex="-1" cm-not-content="true"><div style="min-width: 1px; height: 0px;"></div></div><div class="CodeMirror-hscrollbar" tabindex="-1" cm-not-content="true"><div style="height: 100%; min-height: 1px; width: 0px;"></div></div><div class="CodeMirror-scrollbar-filler" cm-not-content="true"></div><div class="CodeMirror-gutter-filler" cm-not-content="true"></div><div class="CodeMirror-scroll" tabindex="-1"><div class="CodeMirror-sizer" style="margin-left: 0px; min-width: 592.094px; margin-bottom: -17px; border-right-width: 33px; min-height: 45px; padding-right: 0px; padding-bottom: 0px;"><div style="position: relative; top: 0px;"><div class="CodeMirror-lines" role="presentation"><div role="presentation" style="position: relative; outline: none;"><div class="CodeMirror-measure"><pre class="CodeMirror-line-like"><span>xxxxxxxxxx</span></pre></div><div class="CodeMirror-measure"></div><div style="position: relative; z-index: 1;"></div><div class="CodeMirror-cursors"><div class="CodeMirror-cursor" style="left: 4px; top: 0px; height: 17px;">&nbsp;</div></div><div class="CodeMirror-code" role="presentation"><pre class=" CodeMirror-line " role="presentation"><span role="presentation" style="padding-right: 0.1px;"><span class="cm-builtin">print</span>(<span class="cm-string">"Accuracy Score on training data: "</span>,<span class="cm-variable">linear_reg</span>.<span class="cm-property">score</span>(<span class="cm-variable">x_train</span>,<span class="cm-variable">y_train</span>))</span></pre><pre class=" CodeMirror-line " role="presentation"><span role="presentation" style="padding-right: 0.1px;"><span class="cm-builtin">print</span>(<span class="cm-string">"Accuracy Score on testing data: "</span>,<span class="cm-variable">linear_reg</span>.<span class="cm-property">score</span>(<span class="cm-variable">x_test</span>,<span class="cm-variable">y_test</span>))</span></pre></div></div></div></div></div><div style="position: absolute; height: 33px; width: 1px; border-bottom: 0px solid transparent; top: 45px;"></div><div class="CodeMirror-gutters" style="display: none; height: 78px;"></div></div></div></div></div></div><div class="output_wrapper"><div class="out_prompt_overlay prompt" title="click to expand output; double click to hide output"></div><div class="output"><div class="output_area"><div class="run_this_cell"></div><div class="prompt"></div><div class="output_subarea output_text output_stream output_stdout" dir="auto"><pre>Accuracy Score on training data:  0.9091700278614888
Accuracy Score on testing data:  0.9004564246820818
</pre></div></div></div><div class="btn btn-default output_collapsed" title="click to expand output" style="display: none;">. . .</div></div></div><div class="cell code_cell unselected rendered" tabindex="2"><div class="input"><div class="prompt_container"><div class="prompt input_prompt"><bdi>In</bdi>&nbsp;[18]:</div><div class="run_this_cell" title="Run this cell"><i class="fa-step-forward fa"></i></div></div><div class="inner_cell"><div class="ctb_hideshow"><div class="celltoolbar"></div></div><div class="input_area" aria-label="Edit code here"><div class="CodeMirror cm-s-ipython"><div style="overflow: hidden; position: relative; width: 3px; height: 0px; top: 5.59375px; left: 4px;"><textarea autocorrect="off" autocapitalize="off" spellcheck="false" tabindex="0" style="position: absolute; bottom: -1em; padding: 0px; width: 1000px; height: 1em; outline: none;"></textarea></div><div class="CodeMirror-vscrollbar" tabindex="-1" cm-not-content="true"><div style="min-width: 1px; height: 0px;"></div></div><div class="CodeMirror-hscrollbar" tabindex="-1" cm-not-content="true" style="display: block; right: 0px; left: 0px;"><div style="height: 100%; min-height: 1px; width: 1454px;"></div></div><div class="CodeMirror-scrollbar-filler" cm-not-content="true"></div><div class="CodeMirror-gutter-filler" cm-not-content="true"></div><div class="CodeMirror-scroll" tabindex="-1"><div class="CodeMirror-sizer" style="margin-left: 0px; min-width: 1454.28px; margin-bottom: -17px; border-right-width: 33px; min-height: 45px; padding-right: 0px; padding-bottom: 17px;"><div style="position: relative; top: 0px;"><div class="CodeMirror-lines" role="presentation"><div role="presentation" style="position: relative; outline: none;"><div class="CodeMirror-measure"><pre class="CodeMirror-line-like"><span>xxxxxxxxxx</span></pre></div><div class="CodeMirror-measure"></div><div style="position: relative; z-index: 1;"></div><div class="CodeMirror-cursors"><div class="CodeMirror-cursor" style="left: 4px; top: 0px; height: 17px;">&nbsp;</div></div><div class="CodeMirror-code" role="presentation"><pre class=" CodeMirror-line " role="presentation"><span role="presentation" style="padding-right: 0.1px;"><span class="cm-builtin">print</span>(<span class="cm-string">f"Mean squared error: </span>{<span class="cm-variable">mean_squared_error</span>(<span class="cm-variable">y_test</span>,<span class="cm-variable">linear_reg_pred</span>)}<span class="cm-string">\nMean absolute error: </span>{<span class="cm-variable">mean_absolute_error</span>(<span class="cm-variable">y_test</span>,<span class="cm-variable">linear_reg_pred</span>)}<span class="cm-string">\nr2 score: </span>{<span class="cm-variable">r2_score</span>(<span class="cm-variable">y_test</span>,<span class="cm-variable">linear_reg_pred</span>)}<span class="cm-string">"</span>)</span></pre><pre class=" CodeMirror-line " role="presentation"><span role="presentation" style="padding-right: 0.1px;"><span cm-text="">​</span></span></pre></div></div></div></div></div><div style="position: absolute; height: 33px; width: 1px; border-bottom: 17px solid transparent; top: 45px;"></div><div class="CodeMirror-gutters" style="display: none; height: 95px;"></div></div></div></div></div></div><div class="output_wrapper"><div class="out_prompt_overlay prompt" title="click to expand output; double click to hide output"></div><div class="output"><div class="output_area"><div class="run_this_cell"></div><div class="prompt"></div><div class="output_subarea output_text output_stream output_stdout" dir="auto"><pre>Mean squared error: 180.94626313261497
Mean absolute error: 8.076691051444556
r2 score: 0.9004564246820818
</pre></div></div></div><div class="btn btn-default output_collapsed" title="click to expand output" style="display: none;">. . .</div></div></div><div class="cell code_cell unselected rendered" tabindex="2"><div class="input"><div class="prompt_container"><div class="prompt input_prompt"><bdi>In</bdi>&nbsp;[19]:</div><div class="run_this_cell" title="Run this cell"><i class="fa-step-forward fa"></i></div></div><div class="inner_cell"><div class="ctb_hideshow"><div class="celltoolbar"></div></div><div class="input_area" aria-label="Edit code here"><div class="CodeMirror cm-s-ipython"><div style="overflow: hidden; position: relative; width: 3px; height: 0px; top: 5.59375px; left: 4px;"><textarea autocorrect="off" autocapitalize="off" spellcheck="false" tabindex="0" style="position: absolute; bottom: -1em; padding: 0px; width: 1000px; height: 1em; outline: none;"></textarea></div><div class="CodeMirror-vscrollbar" tabindex="-1" cm-not-content="true"><div style="min-width: 1px; height: 0px;"></div></div><div class="CodeMirror-hscrollbar" tabindex="-1" cm-not-content="true"><div style="height: 100%; min-height: 1px; width: 0px;"></div></div><div class="CodeMirror-scrollbar-filler" cm-not-content="true"></div><div class="CodeMirror-gutter-filler" cm-not-content="true"></div><div class="CodeMirror-scroll" tabindex="-1"><div class="CodeMirror-sizer" style="margin-left: 0px; min-width: 630.656px; margin-bottom: -17px; border-right-width: 33px; min-height: 62px; padding-right: 0px; padding-bottom: 0px;"><div style="position: relative; top: 0px;"><div class="CodeMirror-lines" role="presentation"><div role="presentation" style="position: relative; outline: none;"><div class="CodeMirror-measure"><pre class="CodeMirror-line-like"><span>xxxxxxxxxx</span></pre></div><div class="CodeMirror-measure"></div><div style="position: relative; z-index: 1;"></div><div class="CodeMirror-cursors"><div class="CodeMirror-cursor" style="left: 4px; top: 0px; height: 17px;">&nbsp;</div></div><div class="CodeMirror-code" role="presentation"><pre class=" CodeMirror-line " role="presentation"><span role="presentation" style="padding-right: 0.1px;"><span class="cm-comment">#creating summary table</span></span></pre><pre class=" CodeMirror-line " role="presentation"><span role="presentation" style="padding-right: 0.1px;"><span class="cm-variable">linear_reg_summary</span> <span class="cm-operator">=</span> <span class="cm-variable">pd</span>.<span class="cm-property">DataFrame</span>(<span class="cm-variable">data</span> <span class="cm-operator">=</span> <span class="cm-variable">x</span>.<span class="cm-property">columns</span>.<span class="cm-property">values</span>,<span class="cm-variable">columns</span> <span class="cm-operator">=</span> [<span class="cm-string">'Features'</span>])</span></pre><pre class=" CodeMirror-line " role="presentation"><span role="presentation" style="padding-right: 0.1px;"><span class="cm-variable">linear_reg_summary</span>[<span class="cm-string">'Cofficient'</span>] <span class="cm-operator">=</span> <span class="cm-variable">linear_reg</span>.<span class="cm-property">coef_</span></span></pre></div></div></div></div></div><div style="position: absolute; height: 33px; width: 1px; border-bottom: 0px solid transparent; top: 62px;"></div><div class="CodeMirror-gutters" style="display: none; height: 95px;"></div></div></div></div></div></div><div class="output_wrapper"><div class="out_prompt_overlay prompt" title="click to expand output; double click to hide output"></div><div class="output"></div><div class="btn btn-default output_collapsed" title="click to expand output" style="display: none;">. . .</div></div></div><div class="cell text_cell unselected rendered" tabindex="2"><div class="prompt input_prompt"></div><div class="inner_cell"><div class="ctb_hideshow"><div class="celltoolbar"></div></div><div class="input_area" aria-label="Edit Markup Text here"><div class="CodeMirror cm-s-default CodeMirror-wrap"><div style="overflow: hidden; position: relative; width: 3px; height: 0px; top: 5.59375px; left: 4px;"><textarea autocorrect="off" autocapitalize="off" spellcheck="false" tabindex="0" style="position: absolute; bottom: -1em; padding: 0px; width: 1000px; height: 1em; outline: none;"></textarea></div><div class="CodeMirror-vscrollbar" tabindex="-1" cm-not-content="true" style="bottom: 0px;"><div style="min-width: 1px; height: 0px;"></div></div><div class="CodeMirror-hscrollbar" tabindex="-1" cm-not-content="true"><div style="height: 100%; min-height: 1px; width: 0px;"></div></div><div class="CodeMirror-scrollbar-filler" cm-not-content="true"></div><div class="CodeMirror-gutter-filler" cm-not-content="true"></div><div class="CodeMirror-scroll" tabindex="-1"><div class="CodeMirror-sizer" style="margin-left: 0px; padding-right: 0px; padding-bottom: 0px; margin-bottom: -17px; border-right-width: 33px; min-height: 29px;"><div style="position: relative; top: 0px;"><div class="CodeMirror-lines" role="presentation"><div role="presentation" style="position: relative; outline: none;"><div class="CodeMirror-measure"><pre class="CodeMirror-line-like"><span>xxxxxxxxxx</span></pre></div><div class="CodeMirror-measure"></div><div style="position: relative; z-index: 1;"></div><div class="CodeMirror-cursors"><div class="CodeMirror-cursor" style="left: 4px; top: 0px; height: 18px;">&nbsp;</div></div><div class="CodeMirror-code" role="presentation"><pre class=" CodeMirror-line " role="presentation"><span role="presentation" style="padding-right: 0.1px;"><span class="cm-header cm-header-3">### Checking for the p-value</span></span></pre></div></div></div></div></div><div style="position: absolute; height: 33px; width: 1px; border-bottom: 0px solid transparent; top: 29px;"></div><div class="CodeMirror-gutters" style="display: none; height: 62px;"></div></div></div></div><div class="text_cell_render rendered_html" tabindex="-1" dir="ltr"><h3 id="Checking-for-the-p-value">Checking for the p-value<a class="anchor-link" href="http://localhost:8890/notebooks/Air%20pollution%20prediction.ipynb#Checking-for-the-p-value">¶</a></h3>
</div></div></div><div class="cell code_cell unselected rendered" tabindex="2"><div class="input"><div class="prompt_container"><div class="prompt input_prompt"><bdi>In</bdi>&nbsp;[20]:</div><div class="run_this_cell" title="Run this cell"><i class="fa-step-forward fa"></i></div></div><div class="inner_cell"><div class="ctb_hideshow"><div class="celltoolbar"></div></div><div class="input_area" aria-label="Edit code here"><div class="CodeMirror cm-s-ipython"><div style="overflow: hidden; position: relative; width: 3px; height: 0px; top: 5.59375px; left: 4px;"><textarea autocorrect="off" autocapitalize="off" spellcheck="false" tabindex="0" style="position: absolute; bottom: -1em; padding: 0px; width: 1000px; height: 1em; outline: none;"></textarea></div><div class="CodeMirror-vscrollbar" tabindex="-1" cm-not-content="true"><div style="min-width: 1px; height: 0px;"></div></div><div class="CodeMirror-hscrollbar" tabindex="-1" cm-not-content="true"><div style="height: 100%; min-height: 1px; width: 0px;"></div></div><div class="CodeMirror-scrollbar-filler" cm-not-content="true"></div><div class="CodeMirror-gutter-filler" cm-not-content="true"></div><div class="CodeMirror-scroll" tabindex="-1"><div class="CodeMirror-sizer" style="margin-left: 0px; min-width: 391.922px; margin-bottom: -17px; border-right-width: 33px; min-height: 62px; padding-right: 0px; padding-bottom: 0px;"><div style="position: relative; top: 0px;"><div class="CodeMirror-lines" role="presentation"><div role="presentation" style="position: relative; outline: none;"><div class="CodeMirror-measure"><pre class="CodeMirror-line-like"><span>xxxxxxxxxx</span></pre></div><div class="CodeMirror-measure"></div><div style="position: relative; z-index: 1;"></div><div class="CodeMirror-cursors"><div class="CodeMirror-cursor" style="left: 4px; top: 0px; height: 17px;">&nbsp;</div></div><div class="CodeMirror-code" role="presentation"><pre class=" CodeMirror-line " role="presentation"><span role="presentation" style="padding-right: 0.1px;"><span class="cm-keyword">from</span> <span class="cm-variable">sklearn</span>.<span class="cm-property">feature_selection</span> <span class="cm-keyword">import</span> <span class="cm-variable">f_regression</span></span></pre><pre class=" CodeMirror-line " role="presentation"><span role="presentation" style="padding-right: 0.1px;"><span class="cm-variable">p_value</span> <span class="cm-operator">=</span> <span class="cm-variable">f_regression</span>(<span class="cm-variable">x</span>,<span class="cm-variable">y</span>)[<span class="cm-number">1</span>]</span></pre><pre class=" CodeMirror-line " role="presentation"><span role="presentation" style="padding-right: 0.1px;"><span class="cm-variable">p_value</span></span></pre></div></div></div></div></div><div style="position: absolute; height: 33px; width: 1px; border-bottom: 0px solid transparent; top: 62px;"></div><div class="CodeMirror-gutters" style="display: none; height: 95px;"></div></div></div></div></div></div><div class="output_wrapper"><div class="out_prompt_overlay prompt" title="click to expand output; double click to hide output"></div><div class="output"><div class="output_area"><div class="run_this_cell"></div><div class="prompt output_prompt"><bdi>Out[20]:</bdi></div><div class="output_subarea output_text output_result" dir="auto"><pre>array([3.97697741e-047, 9.86812087e-035, 7.32563693e-003, 3.25313967e-029,
       9.72623428e-001, 2.56827964e-102, 3.40067211e-002, 0.00000000e+000,
       0.00000000e+000])</pre></div></div></div><div class="btn btn-default output_collapsed" title="click to expand output" style="display: none;">. . .</div></div></div><div class="cell code_cell unselected rendered" tabindex="2"><div class="input"><div class="prompt_container"><div class="prompt input_prompt"><bdi>In</bdi>&nbsp;[21]:</div><div class="run_this_cell" title="Run this cell"><i class="fa-step-forward fa"></i></div></div><div class="inner_cell"><div class="ctb_hideshow"><div class="celltoolbar"></div></div><div class="input_area" aria-label="Edit code here"><div class="CodeMirror cm-s-ipython"><div style="overflow: hidden; position: relative; width: 3px; height: 0px; top: 5.59375px; left: 4px;"><textarea autocorrect="off" autocapitalize="off" spellcheck="false" tabindex="0" style="position: absolute; bottom: -1em; padding: 0px; width: 1000px; height: 1em; outline: none;"></textarea></div><div class="CodeMirror-vscrollbar" tabindex="-1" cm-not-content="true"><div style="min-width: 1px; height: 0px;"></div></div><div class="CodeMirror-hscrollbar" tabindex="-1" cm-not-content="true"><div style="height: 100%; min-height: 1px; width: 0px;"></div></div><div class="CodeMirror-scrollbar-filler" cm-not-content="true"></div><div class="CodeMirror-gutter-filler" cm-not-content="true"></div><div class="CodeMirror-scroll" tabindex="-1"><div class="CodeMirror-sizer" style="margin-left: 0px; min-width: 376.562px; margin-bottom: -17px; border-right-width: 33px; min-height: 45px; padding-right: 0px; padding-bottom: 0px;"><div style="position: relative; top: 0px;"><div class="CodeMirror-lines" role="presentation"><div role="presentation" style="position: relative; outline: none;"><div class="CodeMirror-measure"><pre class="CodeMirror-line-like"><span>xxxxxxxxxx</span></pre></div><div class="CodeMirror-measure"></div><div style="position: relative; z-index: 1;"></div><div class="CodeMirror-cursors"><div class="CodeMirror-cursor" style="left: 4px; top: 0px; height: 17px;">&nbsp;</div></div><div class="CodeMirror-code" role="presentation"><pre class=" CodeMirror-line " role="presentation"><span role="presentation" style="padding-right: 0.1px;"><span class="cm-variable">linear_reg_summary</span>[<span class="cm-string">'p-value'</span>] <span class="cm-operator">=</span> <span class="cm-variable">p_value</span>.<span class="cm-property">round</span>(<span class="cm-number">3</span>)</span></pre><pre class=" CodeMirror-line " role="presentation"><span role="presentation" style="padding-right: 0.1px;"><span class="cm-variable">linear_reg_summary</span></span></pre></div></div></div></div></div><div style="position: absolute; height: 33px; width: 1px; border-bottom: 0px solid transparent; top: 45px;"></div><div class="CodeMirror-gutters" style="display: none; height: 78px;"></div></div></div></div></div></div><div class="output_wrapper"><div class="out_prompt_overlay prompt" title="click to expand output; double click to hide output"></div><div class="output"><div class="output_area"><div class="run_this_cell"></div><div class="prompt output_prompt"><bdi>Out[21]:</bdi></div><div class="output_subarea output_html rendered_html output_result" dir="auto"><div>

<table border="1" class="dataframe">
  <thead>
    <tr style="undefined:undefined">
      <th></th>
      <th>Features</th>
      <th>Cofficient</th>
      <th>p-value</th>
    </tr>
  </thead>
  <tbody>
    <tr>
      <th>0</th>
      <td>Temperature</td>
      <td>1.937906</td>
      <td>0.000</td>
    </tr>
    <tr>
      <th>1</th>
      <td>Humidity</td>
      <td>0.147695</td>
      <td>0.000</td>
    </tr>
    <tr>
      <th>2</th>
      <td>Wind.Speed..km.h.</td>
      <td>-0.629838</td>
      <td>0.007</td>
    </tr>
    <tr>
      <th>3</th>
      <td>Visibility</td>
      <td>0.578356</td>
      <td>0.000</td>
    </tr>
    <tr>
      <th>4</th>
      <td>Pressure</td>
      <td>-0.482726</td>
      <td>0.973</td>
    </tr>
    <tr>
      <th>5</th>
      <td>so2</td>
      <td>1.144300</td>
      <td>0.000</td>
    </tr>
    <tr>
      <th>6</th>
      <td>no2</td>
      <td>0.224959</td>
      <td>0.034</td>
    </tr>
    <tr>
      <th>7</th>
      <td>PM10</td>
      <td>-3.144861</td>
      <td>0.000</td>
    </tr>
    <tr>
      <th>8</th>
      <td>PM25</td>
      <td>41.898905</td>
      <td>0.000</td>
    </tr>
  </tbody>
</table>
</div></div></div></div><div class="btn btn-default output_collapsed" title="click to expand output" style="display: none;">. . .</div></div></div><div class="cell text_cell unselected rendered" tabindex="2"><div class="prompt input_prompt"></div><div class="inner_cell"><div class="ctb_hideshow"><div class="celltoolbar"></div></div><div class="input_area" aria-label="Edit Markup Text here"><div class="CodeMirror cm-s-default CodeMirror-wrap"><div style="overflow: hidden; position: relative; width: 3px; height: 0px; top: 5.59375px; left: 4px;"><textarea autocorrect="off" autocapitalize="off" spellcheck="false" tabindex="0" style="position: absolute; bottom: -1em; padding: 0px; width: 1000px; height: 1em; outline: none;"></textarea></div><div class="CodeMirror-vscrollbar" tabindex="-1" cm-not-content="true" style="bottom: 0px;"><div style="min-width: 1px; height: 0px;"></div></div><div class="CodeMirror-hscrollbar" tabindex="-1" cm-not-content="true"><div style="height: 100%; min-height: 1px; width: 0px;"></div></div><div class="CodeMirror-scrollbar-filler" cm-not-content="true"></div><div class="CodeMirror-gutter-filler" cm-not-content="true"></div><div class="CodeMirror-scroll" tabindex="-1"><div class="CodeMirror-sizer" style="margin-left: 0px; padding-right: 0px; padding-bottom: 0px; margin-bottom: -17px; border-right-width: 33px; min-height: 29px;"><div style="position: relative; top: 0px;"><div class="CodeMirror-lines" role="presentation"><div role="presentation" style="position: relative; outline: none;"><div class="CodeMirror-measure"><pre class="CodeMirror-line-like"><span>xxxxxxxxxx</span></pre></div><div class="CodeMirror-measure"></div><div style="position: relative; z-index: 1;"></div><div class="CodeMirror-cursors"><div class="CodeMirror-cursor" style="left: 4px; top: 0px; height: 18px;">&nbsp;</div></div><div class="CodeMirror-code" role="presentation"><pre class=" CodeMirror-line " role="presentation"><span role="presentation" style="padding-right: 0.1px;"><span class="cm-header cm-header-3">### Prediction</span></span></pre></div></div></div></div></div><div style="position: absolute; height: 33px; width: 1px; border-bottom: 0px solid transparent; top: 29px;"></div><div class="CodeMirror-gutters" style="display: none; height: 62px;"></div></div></div></div><div class="text_cell_render rendered_html" tabindex="-1" dir="ltr"><h3 id="Prediction">Prediction<a class="anchor-link" href="http://localhost:8890/notebooks/Air%20pollution%20prediction.ipynb#Prediction">¶</a></h3>
</div></div></div><div class="cell code_cell unselected rendered" tabindex="2"><div class="input"><div class="prompt_container"><div class="prompt input_prompt"><bdi>In</bdi>&nbsp;[22]:</div><div class="run_this_cell" title="Run this cell"><i class="fa-step-forward fa"></i></div></div><div class="inner_cell"><div class="ctb_hideshow"><div class="celltoolbar"></div></div><div class="input_area" aria-label="Edit code here"><div class="CodeMirror cm-s-ipython"><div style="overflow: hidden; position: relative; width: 3px; height: 0px; top: 5.59375px; left: 4px;"><textarea autocorrect="off" autocapitalize="off" spellcheck="false" tabindex="0" style="position: absolute; bottom: -1em; padding: 0px; width: 1000px; height: 1em; outline: none;"></textarea></div><div class="CodeMirror-vscrollbar" tabindex="-1" cm-not-content="true"><div style="min-width: 1px; height: 0px;"></div></div><div class="CodeMirror-hscrollbar" tabindex="-1" cm-not-content="true"><div style="height: 100%; min-height: 1px; width: 0px;"></div></div><div class="CodeMirror-scrollbar-filler" cm-not-content="true"></div><div class="CodeMirror-gutter-filler" cm-not-content="true"></div><div class="CodeMirror-scroll" tabindex="-1"><div class="CodeMirror-sizer" style="margin-left: 0px; min-width: 407.312px; margin-bottom: -17px; border-right-width: 33px; min-height: 79px; padding-right: 0px; padding-bottom: 0px;"><div style="position: relative; top: 0px;"><div class="CodeMirror-lines" role="presentation"><div role="presentation" style="position: relative; outline: none;"><div class="CodeMirror-measure"><pre class="CodeMirror-line-like"><span>xxxxxxxxxx</span></pre></div><div class="CodeMirror-measure"></div><div style="position: relative; z-index: 1;"></div><div class="CodeMirror-cursors"><div class="CodeMirror-cursor" style="left: 4px; top: 0px; height: 17px;">&nbsp;</div></div><div class="CodeMirror-code" role="presentation"><pre class=" CodeMirror-line " role="presentation"><span role="presentation" style="padding-right: 0.1px;"><span class="cm-variable">linear_prediction</span> <span class="cm-operator">=</span> <span class="cm-variable">x_test</span>.<span class="cm-property">copy</span>()</span></pre><pre class=" CodeMirror-line " role="presentation"><span role="presentation" style="padding-right: 0.1px;"><span class="cm-variable">linear_prediction</span>[<span class="cm-string">"Predicted_AQI"</span>] <span class="cm-operator">=</span> <span class="cm-variable">linear_reg_pred</span></span></pre><pre class=" CodeMirror-line " role="presentation"><span role="presentation" style="padding-right: 0.1px;"><span class="cm-variable">linear_prediction</span>[<span class="cm-string">"Original_AQI"</span>] <span class="cm-operator">=</span> <span class="cm-variable">y_test</span></span></pre><pre class=" CodeMirror-line " role="presentation"><span role="presentation" style="padding-right: 0.1px;"><span class="cm-variable">linear_prediction</span></span></pre></div></div></div></div></div><div style="position: absolute; height: 33px; width: 1px; border-bottom: 0px solid transparent; top: 79px;"></div><div class="CodeMirror-gutters" style="display: none; height: 112px;"></div></div></div></div></div></div><div class="output_wrapper"><div class="out_prompt_overlay prompt" title="click to expand output; double click to hide output"></div><div class="output"><div class="output_area"><div class="run_this_cell"></div><div class="prompt output_prompt"><bdi>Out[22]:</bdi></div><div class="output_subarea output_html rendered_html output_result" dir="auto"><div>

<table border="1" class="dataframe">
  <thead>
    <tr style="undefined:undefined">
      <th></th>
      <th>Temperature</th>
      <th>Humidity</th>
      <th>Wind.Speed..km.h.</th>
      <th>Visibility</th>
      <th>Pressure</th>
      <th>so2</th>
      <th>no2</th>
      <th>PM10</th>
      <th>PM25</th>
      <th>Predicted_AQI</th>
      <th>Original_AQI</th>
    </tr>
  </thead>
  <tbody>
    <tr>
      <th>6213</th>
      <td>0.017727</td>
      <td>1.309815</td>
      <td>0.554879</td>
      <td>1.558790</td>
      <td>0.133046</td>
      <td>-0.123471</td>
      <td>0.039591</td>
      <td>-0.234271</td>
      <td>-0.178459</td>
      <td>78.507590</td>
      <td>80</td>
    </tr>
    <tr>
      <th>7168</th>
      <td>-0.932841</td>
      <td>0.820826</td>
      <td>1.734667</td>
      <td>0.086796</td>
      <td>0.207987</td>
      <td>-0.485819</td>
      <td>-0.049133</td>
      <td>0.596350</td>
      <td>0.843286</td>
      <td>114.725891</td>
      <td>140</td>
    </tr>
    <tr>
      <th>2699</th>
      <td>-0.467960</td>
      <td>1.092487</td>
      <td>1.935327</td>
      <td>0.106796</td>
      <td>0.108243</td>
      <td>-0.281014</td>
      <td>0.010016</td>
      <td>-0.319028</td>
      <td>-0.785874</td>
      <td>50.466597</td>
      <td>45</td>
    </tr>
    <tr>
      <th>3533</th>
      <td>-1.285366</td>
      <td>0.820826</td>
      <td>-1.466232</td>
      <td>-1.693196</td>
      <td>0.166140</td>
      <td>-0.627608</td>
      <td>-0.574081</td>
      <td>-0.268174</td>
      <td>-0.524404</td>
      <td>60.183245</td>
      <td>62</td>
    </tr>
    <tr>
      <th>1560</th>
      <td>0.417216</td>
      <td>0.331837</td>
      <td>0.571803</td>
      <td>-1.905195</td>
      <td>0.233653</td>
      <td>0.475193</td>
      <td>0.283581</td>
      <td>-0.081708</td>
      <td>-0.190527</td>
      <td>76.829196</td>
      <td>79</td>
    </tr>
    <tr>
      <th>...</th>
      <td>...</td>
      <td>...</td>
      <td>...</td>
      <td>...</td>
      <td>...</td>
      <td>...</td>
      <td>...</td>
      <td>...</td>
      <td>...</td>
      <td>...</td>
      <td>...</td>
    </tr>
    <tr>
      <th>3655</th>
      <td>-0.853181</td>
      <td>0.875158</td>
      <td>-1.543595</td>
      <td>0.062797</td>
      <td>0.168859</td>
      <td>-0.627608</td>
      <td>-1.416956</td>
      <td>-0.183417</td>
      <td>-0.258911</td>
      <td>72.759504</td>
      <td>76</td>
    </tr>
    <tr>
      <th>1563</th>
      <td>1.142478</td>
      <td>-0.754805</td>
      <td>0.068942</td>
      <td>-2.293193</td>
      <td>0.237433</td>
      <td>0.475193</td>
      <td>0.209644</td>
      <td>0.545496</td>
      <td>0.795015</td>
      <td>117.468703</td>
      <td>137</td>
    </tr>
    <tr>
      <th>3374</th>
      <td>-1.171227</td>
      <td>0.820826</td>
      <td>-0.327544</td>
      <td>0.062797</td>
      <td>0.236505</td>
      <td>-0.879677</td>
      <td>0.024803</td>
      <td>-0.352931</td>
      <td>-0.604857</td>
      <td>57.410835</td>
      <td>58</td>
    </tr>
    <tr>
      <th>3746</th>
      <td>-1.957125</td>
      <td>-0.048487</td>
      <td>0.213998</td>
      <td>1.342791</td>
      <td>0.147968</td>
      <td>-0.312522</td>
      <td>0.357517</td>
      <td>-0.132562</td>
      <td>-0.198572</td>
      <td>73.255080</td>
      <td>79</td>
    </tr>
    <tr>
      <th>397</th>
      <td>0.737639</td>
      <td>-1.569786</td>
      <td>-0.859415</td>
      <td>0.106796</td>
      <td>0.157850</td>
      <td>4.004155</td>
      <td>-0.714561</td>
      <td>0.257321</td>
      <td>0.690427</td>
      <td>118.929403</td>
      <td>131</td>
    </tr>
  </tbody>
</table>
<p>1458 rows × 11 columns</p>
</div></div></div></div><div class="btn btn-default output_collapsed" title="click to expand output" style="display: none;">. . .</div></div></div><div class="cell text_cell unselected rendered" tabindex="2"><div class="prompt input_prompt"></div><div class="inner_cell"><div class="ctb_hideshow"><div class="celltoolbar"></div></div><div class="input_area" aria-label="Edit Markup Text here"><div class="CodeMirror cm-s-default CodeMirror-wrap"><div style="overflow: hidden; position: relative; width: 3px; height: 0px; top: 5.59375px; left: 4px;"><textarea autocorrect="off" autocapitalize="off" spellcheck="false" tabindex="0" style="position: absolute; bottom: -1em; padding: 0px; width: 1000px; height: 1em; outline: none;"></textarea></div><div class="CodeMirror-vscrollbar" tabindex="-1" cm-not-content="true" style="bottom: 0px;"><div style="min-width: 1px; height: 0px;"></div></div><div class="CodeMirror-hscrollbar" tabindex="-1" cm-not-content="true"><div style="height: 100%; min-height: 1px; width: 0px;"></div></div><div class="CodeMirror-scrollbar-filler" cm-not-content="true"></div><div class="CodeMirror-gutter-filler" cm-not-content="true"></div><div class="CodeMirror-scroll" tabindex="-1"><div class="CodeMirror-sizer" style="margin-left: 0px; padding-right: 0px; padding-bottom: 0px; margin-bottom: -17px; border-right-width: 33px; min-height: 29px;"><div style="position: relative; top: 0px;"><div class="CodeMirror-lines" role="presentation"><div role="presentation" style="position: relative; outline: none;"><div class="CodeMirror-measure"><pre class="CodeMirror-line-like"><span>xxxxxxxxxx</span></pre></div><div class="CodeMirror-measure"></div><div style="position: relative; z-index: 1;"></div><div class="CodeMirror-cursors"><div class="CodeMirror-cursor" style="left: 4px; top: 0px; height: 18px;">&nbsp;</div></div><div class="CodeMirror-code" role="presentation"><pre class=" CodeMirror-line " role="presentation"><span role="presentation" style="padding-right: 0.1px;"><span class="cm-header cm-header-3">### 2.KNN</span></span></pre></div></div></div></div></div><div style="position: absolute; height: 33px; width: 1px; border-bottom: 0px solid transparent; top: 29px;"></div><div class="CodeMirror-gutters" style="display: none; height: 62px;"></div></div></div></div><div class="text_cell_render rendered_html" tabindex="-1" dir="ltr"><h3 id="2.KNN">2.KNN<a class="anchor-link" href="http://localhost:8890/notebooks/Air%20pollution%20prediction.ipynb#2.KNN">¶</a></h3>
</div></div></div><div class="cell code_cell unselected rendered" tabindex="2"><div class="input"><div class="prompt_container"><div class="prompt input_prompt"><bdi>In</bdi>&nbsp;[23]:</div><div class="run_this_cell" title="Run this cell"><i class="fa-step-forward fa"></i></div></div><div class="inner_cell"><div class="ctb_hideshow"><div class="celltoolbar"></div></div><div class="input_area" aria-label="Edit code here"><div class="CodeMirror cm-s-ipython"><div style="overflow: hidden; position: relative; width: 3px; height: 0px; top: 5.59375px; left: 4px;"><textarea autocorrect="off" autocapitalize="off" spellcheck="false" tabindex="0" style="position: absolute; bottom: -1em; padding: 0px; width: 1000px; height: 1em; outline: none;"></textarea></div><div class="CodeMirror-vscrollbar" tabindex="-1" cm-not-content="true"><div style="min-width: 1px; height: 0px;"></div></div><div class="CodeMirror-hscrollbar" tabindex="-1" cm-not-content="true"><div style="height: 100%; min-height: 1px; width: 0px;"></div></div><div class="CodeMirror-scrollbar-filler" cm-not-content="true"></div><div class="CodeMirror-gutter-filler" cm-not-content="true"></div><div class="CodeMirror-scroll" tabindex="-1"><div class="CodeMirror-sizer" style="margin-left: 0px; min-width: 345.734px; margin-bottom: -17px; border-right-width: 33px; min-height: 45px; padding-right: 0px; padding-bottom: 0px;"><div style="position: relative; top: 0px;"><div class="CodeMirror-lines" role="presentation"><div role="presentation" style="position: relative; outline: none;"><div class="CodeMirror-measure"><pre class="CodeMirror-line-like"><span>xxxxxxxxxx</span></pre></div><div class="CodeMirror-measure"></div><div style="position: relative; z-index: 1;"></div><div class="CodeMirror-cursors"><div class="CodeMirror-cursor" style="left: 4px; top: 0px; height: 17px;">&nbsp;</div></div><div class="CodeMirror-code" role="presentation"><pre class=" CodeMirror-line " role="presentation"><span role="presentation" style="padding-right: 0.1px;"><span class="cm-variable">knn_reg</span> <span class="cm-operator">=</span> <span class="cm-variable">KNeighborsRegressor</span>(<span class="cm-variable">n_neighbors</span><span class="cm-operator">=</span><span class="cm-number">3</span>)</span></pre><pre class=" CodeMirror-line " role="presentation"><span role="presentation" style="padding-right: 0.1px;"><span class="cm-variable">knn_reg</span>.<span class="cm-property">fit</span>(<span class="cm-variable">x_train</span>,<span class="cm-variable">y_train</span>)</span></pre></div></div></div></div></div><div style="position: absolute; height: 33px; width: 1px; border-bottom: 0px solid transparent; top: 45px;"></div><div class="CodeMirror-gutters" style="display: none; height: 78px;"></div></div></div></div></div></div><div class="output_wrapper"><div class="out_prompt_overlay prompt" title="click to expand output; double click to hide output"></div><div class="output"><div class="output_area"><div class="run_this_cell"></div><div class="prompt output_prompt"><bdi>Out[23]:</bdi></div><div class="output_subarea output_text output_result" dir="auto"><pre>KNeighborsRegressor(n_neighbors=3)</pre></div></div></div><div class="btn btn-default output_collapsed" title="click to expand output" style="display: none;">. . .</div></div></div><div class="cell code_cell unselected rendered" tabindex="2"><div class="input"><div class="prompt_container"><div class="prompt input_prompt"><bdi>In</bdi>&nbsp;[24]:</div><div class="run_this_cell" title="Run this cell"><i class="fa-step-forward fa"></i></div></div><div class="inner_cell"><div class="ctb_hideshow"><div class="celltoolbar"></div></div><div class="input_area" aria-label="Edit code here"><div class="CodeMirror cm-s-ipython"><div style="overflow: hidden; position: relative; width: 3px; height: 0px; top: 5.59375px; left: 4px;"><textarea autocorrect="off" autocapitalize="off" spellcheck="false" tabindex="0" style="position: absolute; bottom: -1em; padding: 0px; width: 1000px; height: 1em; outline: none;"></textarea></div><div class="CodeMirror-vscrollbar" tabindex="-1" cm-not-content="true"><div style="min-width: 1px; height: 0px;"></div></div><div class="CodeMirror-hscrollbar" tabindex="-1" cm-not-content="true"><div style="height: 100%; min-height: 1px; width: 0px;"></div></div><div class="CodeMirror-scrollbar-filler" cm-not-content="true"></div><div class="CodeMirror-gutter-filler" cm-not-content="true"></div><div class="CodeMirror-scroll" tabindex="-1"><div class="CodeMirror-sizer" style="margin-left: 0px; min-width: 268.766px; margin-bottom: -17px; border-right-width: 33px; min-height: 45px; padding-right: 0px; padding-bottom: 0px;"><div style="position: relative; top: 0px;"><div class="CodeMirror-lines" role="presentation"><div role="presentation" style="position: relative; outline: none;"><div class="CodeMirror-measure"><pre class="CodeMirror-line-like"><span>xxxxxxxxxx</span></pre></div><div class="CodeMirror-measure"></div><div style="position: relative; z-index: 1;"></div><div class="CodeMirror-cursors"><div class="CodeMirror-cursor" style="left: 4px; top: 0px; height: 17px;">&nbsp;</div></div><div class="CodeMirror-code" role="presentation"><pre class=" CodeMirror-line " role="presentation"><span role="presentation" style="padding-right: 0.1px;"><span class="cm-variable">knn_pred</span> <span class="cm-operator">=</span> <span class="cm-variable">knn_reg</span>.<span class="cm-property">predict</span>(<span class="cm-variable">x_test</span>)</span></pre><pre class=" CodeMirror-line " role="presentation"><span role="presentation" style="padding-right: 0.1px;"><span class="cm-variable">knn_pred</span></span></pre></div></div></div></div></div><div style="position: absolute; height: 33px; width: 1px; border-bottom: 0px solid transparent; top: 45px;"></div><div class="CodeMirror-gutters" style="display: none; height: 78px;"></div></div></div></div></div></div><div class="output_wrapper"><div class="out_prompt_overlay prompt" title="click to expand output; double click to hide output"></div><div class="output"><div class="output_area"><div class="run_this_cell"></div><div class="prompt output_prompt"><bdi>Out[24]:</bdi></div><div class="output_subarea output_text output_result" dir="auto"><pre>array([ 79.        , 138.66666667,  53.        , ...,  57.66666667,
        65.        , 154.66666667])</pre></div></div></div><div class="btn btn-default output_collapsed" title="click to expand output" style="display: none;">. . .</div></div></div><div class="cell text_cell unselected rendered" tabindex="2"><div class="prompt input_prompt"></div><div class="inner_cell"><div class="ctb_hideshow"><div class="celltoolbar"></div></div><div class="input_area" aria-label="Edit Markup Text here"><div class="CodeMirror cm-s-default CodeMirror-wrap"><div style="overflow: hidden; position: relative; width: 3px; height: 0px; top: 5.59375px; left: 4px;"><textarea autocorrect="off" autocapitalize="off" spellcheck="false" tabindex="0" style="position: absolute; bottom: -1em; padding: 0px; width: 1000px; height: 1em; outline: none;"></textarea></div><div class="CodeMirror-vscrollbar" tabindex="-1" cm-not-content="true" style="bottom: 0px;"><div style="min-width: 1px; height: 0px;"></div></div><div class="CodeMirror-hscrollbar" tabindex="-1" cm-not-content="true"><div style="height: 100%; min-height: 1px; width: 0px;"></div></div><div class="CodeMirror-scrollbar-filler" cm-not-content="true"></div><div class="CodeMirror-gutter-filler" cm-not-content="true"></div><div class="CodeMirror-scroll" tabindex="-1"><div class="CodeMirror-sizer" style="margin-left: 0px; padding-right: 0px; padding-bottom: 0px; margin-bottom: -17px; border-right-width: 33px; min-height: 29px;"><div style="position: relative; top: 0px;"><div class="CodeMirror-lines" role="presentation"><div role="presentation" style="position: relative; outline: none;"><div class="CodeMirror-measure"><pre class="CodeMirror-line-like"><span>xxxxxxxxxx</span></pre></div><div class="CodeMirror-measure"></div><div style="position: relative; z-index: 1;"></div><div class="CodeMirror-cursors"><div class="CodeMirror-cursor" style="left: 4px; top: 0px; height: 18px;">&nbsp;</div></div><div class="CodeMirror-code" role="presentation"><pre class=" CodeMirror-line " role="presentation"><span role="presentation" style="padding-right: 0.1px;"><span class="cm-header cm-header-3">### Error and accuracy</span></span></pre></div></div></div></div></div><div style="position: absolute; height: 33px; width: 1px; border-bottom: 0px solid transparent; top: 29px;"></div><div class="CodeMirror-gutters" style="display: none; height: 62px;"></div></div></div></div><div class="text_cell_render rendered_html" tabindex="-1" dir="ltr"><h3 id="Error-and-accuracy">Error and accuracy<a class="anchor-link" href="http://localhost:8890/notebooks/Air%20pollution%20prediction.ipynb#Error-and-accuracy">¶</a></h3>
</div></div></div><div class="cell code_cell unselected rendered" tabindex="2"><div class="input"><div class="prompt_container"><div class="prompt input_prompt"><bdi>In</bdi>&nbsp;[25]:</div><div class="run_this_cell" title="Run this cell"><i class="fa-step-forward fa"></i></div></div><div class="inner_cell"><div class="ctb_hideshow"><div class="celltoolbar"></div></div><div class="input_area" aria-label="Edit code here"><div class="CodeMirror cm-s-ipython"><div style="overflow: hidden; position: relative; width: 3px; height: 0px; top: 5.59375px; left: 4px;"><textarea autocorrect="off" autocapitalize="off" spellcheck="false" tabindex="0" style="position: absolute; bottom: -1em; padding: 0px; width: 1000px; height: 1em; outline: none;"></textarea></div><div class="CodeMirror-vscrollbar" tabindex="-1" cm-not-content="true"><div style="min-width: 1px; height: 0px;"></div></div><div class="CodeMirror-hscrollbar" tabindex="-1" cm-not-content="true" style="display: block; right: 0px; left: 0px;"><div style="height: 100%; min-height: 1px; width: 1293px;"></div></div><div class="CodeMirror-scrollbar-filler" cm-not-content="true"></div><div class="CodeMirror-gutter-filler" cm-not-content="true"></div><div class="CodeMirror-scroll" tabindex="-1"><div class="CodeMirror-sizer" style="margin-left: 0px; min-width: 1292.61px; margin-bottom: -17px; border-right-width: 33px; min-height: 79px; padding-right: 0px; padding-bottom: 17px;"><div style="position: relative; top: 0px;"><div class="CodeMirror-lines" role="presentation"><div role="presentation" style="position: relative; outline: none;"><div class="CodeMirror-measure"><pre class="CodeMirror-line-like"><span>xxxxxxxxxx</span></pre></div><div class="CodeMirror-measure"></div><div style="position: relative; z-index: 1;"></div><div class="CodeMirror-cursors"><div class="CodeMirror-cursor" style="left: 4px; top: 0px; height: 17px;">&nbsp;</div></div><div class="CodeMirror-code" role="presentation"><pre class=" CodeMirror-line " role="presentation"><span role="presentation" style="padding-right: 0.1px;"><span class="cm-builtin">print</span>(<span class="cm-string">"Accuracy Score on training data: "</span>,<span class="cm-variable">knn_reg</span>.<span class="cm-property">score</span>(<span class="cm-variable">x_train</span>,<span class="cm-variable">y_train</span>))</span></pre><pre class=" CodeMirror-line " role="presentation"><span role="presentation" style="padding-right: 0.1px;"><span class="cm-builtin">print</span>(<span class="cm-string">"Accuracy Score on testing data: "</span>,<span class="cm-variable">knn_reg</span>.<span class="cm-property">score</span>(<span class="cm-variable">x_test</span>,<span class="cm-variable">y_test</span>))</span></pre><pre class=" CodeMirror-line " role="presentation"><span role="presentation" style="padding-right: 0.1px;"><span class="cm-builtin">print</span>(<span class="cm-string">f"Mean squared error: </span>{<span class="cm-variable">mean_squared_error</span>(<span class="cm-variable">y_test</span>,<span class="cm-variable">knn_pred</span>)}<span class="cm-string">\nMean absolute error: </span>{<span class="cm-variable">mean_absolute_error</span>(<span class="cm-variable">y_test</span>,<span class="cm-variable">knn_pred</span>)}<span class="cm-string">\nr2 score: </span>{<span class="cm-variable">r2_score</span>(<span class="cm-variable">y_test</span>,<span class="cm-variable">knn_pred</span>)}<span class="cm-string">"</span>)</span></pre><pre class=" CodeMirror-line " role="presentation"><span role="presentation" style="padding-right: 0.1px;"><span cm-text="">​</span></span></pre></div></div></div></div></div><div style="position: absolute; height: 33px; width: 1px; border-bottom: 17px solid transparent; top: 79px;"></div><div class="CodeMirror-gutters" style="display: none; height: 129px;"></div></div></div></div></div></div><div class="output_wrapper"><div class="out_prompt_overlay prompt" title="click to expand output; double click to hide output"></div><div class="output"><div class="output_area"><div class="run_this_cell"></div><div class="prompt"></div><div class="output_subarea output_text output_stream output_stdout" dir="auto"><pre>Accuracy Score on training data:  0.9741357725358166
Accuracy Score on testing data:  0.9455509700292093
Mean squared error: 98.97523243408016
Mean absolute error: 7.0038866026520346
r2 score: 0.9455509700292093
</pre></div></div></div><div class="btn btn-default output_collapsed" title="click to expand output" style="display: none;">. . .</div></div></div><div class="cell text_cell unselected rendered" tabindex="2"><div class="prompt input_prompt"></div><div class="inner_cell"><div class="ctb_hideshow"><div class="celltoolbar"></div></div><div class="input_area" aria-label="Edit Markup Text here"><div class="CodeMirror cm-s-default CodeMirror-wrap"><div style="overflow: hidden; position: relative; width: 3px; height: 0px; top: 5.59375px; left: 4px;"><textarea autocorrect="off" autocapitalize="off" spellcheck="false" tabindex="0" style="position: absolute; bottom: -1em; padding: 0px; width: 1000px; height: 1em; outline: none;"></textarea></div><div class="CodeMirror-vscrollbar" tabindex="-1" cm-not-content="true" style="bottom: 0px;"><div style="min-width: 1px; height: 0px;"></div></div><div class="CodeMirror-hscrollbar" tabindex="-1" cm-not-content="true"><div style="height: 100%; min-height: 1px; width: 0px;"></div></div><div class="CodeMirror-scrollbar-filler" cm-not-content="true"></div><div class="CodeMirror-gutter-filler" cm-not-content="true"></div><div class="CodeMirror-scroll" tabindex="-1"><div class="CodeMirror-sizer" style="margin-left: 0px; padding-right: 0px; padding-bottom: 0px; margin-bottom: -17px; border-right-width: 33px; min-height: 29px;"><div style="position: relative; top: 0px;"><div class="CodeMirror-lines" role="presentation"><div role="presentation" style="position: relative; outline: none;"><div class="CodeMirror-measure"><pre class="CodeMirror-line-like"><span>xxxxxxxxxx</span></pre></div><div class="CodeMirror-measure"></div><div style="position: relative; z-index: 1;"></div><div class="CodeMirror-cursors"><div class="CodeMirror-cursor" style="left: 4px; top: 0px; height: 18px;">&nbsp;</div></div><div class="CodeMirror-code" role="presentation"><pre class=" CodeMirror-line " role="presentation"><span role="presentation" style="padding-right: 0.1px;"><span class="cm-header cm-header-3">### Prediction</span></span></pre></div></div></div></div></div><div style="position: absolute; height: 33px; width: 1px; border-bottom: 0px solid transparent; top: 29px;"></div><div class="CodeMirror-gutters" style="display: none; height: 62px;"></div></div></div></div><div class="text_cell_render rendered_html" tabindex="-1" dir="ltr"><h3 id="Prediction">Prediction<a class="anchor-link" href="http://localhost:8890/notebooks/Air%20pollution%20prediction.ipynb#Prediction">¶</a></h3>
</div></div></div><div class="cell code_cell unselected rendered" tabindex="2"><div class="input"><div class="prompt_container"><div class="prompt input_prompt"><bdi>In</bdi>&nbsp;[26]:</div><div class="run_this_cell" title="Run this cell"><i class="fa-step-forward fa"></i></div></div><div class="inner_cell"><div class="ctb_hideshow"><div class="celltoolbar"></div></div><div class="input_area" aria-label="Edit code here"><div class="CodeMirror cm-s-ipython"><div style="overflow: hidden; position: relative; width: 3px; height: 0px; top: 5.59375px; left: 4px;"><textarea autocorrect="off" autocapitalize="off" spellcheck="false" tabindex="0" style="position: absolute; bottom: -1em; padding: 0px; width: 1000px; height: 1em; outline: none;"></textarea></div><div class="CodeMirror-vscrollbar" tabindex="-1" cm-not-content="true"><div style="min-width: 1px; height: 0px;"></div></div><div class="CodeMirror-hscrollbar" tabindex="-1" cm-not-content="true"><div style="height: 100%; min-height: 1px; width: 0px;"></div></div><div class="CodeMirror-scrollbar-filler" cm-not-content="true"></div><div class="CodeMirror-gutter-filler" cm-not-content="true"></div><div class="CodeMirror-scroll" tabindex="-1"><div class="CodeMirror-sizer" style="margin-left: 0px; min-width: 330.328px; margin-bottom: -17px; border-right-width: 33px; min-height: 79px; padding-right: 0px; padding-bottom: 0px;"><div style="position: relative; top: 0px;"><div class="CodeMirror-lines" role="presentation"><div role="presentation" style="position: relative; outline: none;"><div class="CodeMirror-measure"><pre class="CodeMirror-line-like"><span>xxxxxxxxxx</span></pre></div><div class="CodeMirror-measure"></div><div style="position: relative; z-index: 1;"></div><div class="CodeMirror-cursors"><div class="CodeMirror-cursor" style="left: 4px; top: 0px; height: 17px;">&nbsp;</div></div><div class="CodeMirror-code" role="presentation"><pre class=" CodeMirror-line " role="presentation"><span role="presentation" style="padding-right: 0.1px;"><span class="cm-variable">knn_prediction</span> <span class="cm-operator">=</span> <span class="cm-variable">x_test</span>.<span class="cm-property">copy</span>()</span></pre><pre class=" CodeMirror-line " role="presentation"><span role="presentation" style="padding-right: 0.1px;"><span class="cm-variable">knn_prediction</span>[<span class="cm-string">"Predicted_AQI"</span>] <span class="cm-operator">=</span> <span class="cm-variable">knn_pred</span></span></pre><pre class=" CodeMirror-line " role="presentation"><span role="presentation" style="padding-right: 0.1px;"><span class="cm-variable">knn_prediction</span>[<span class="cm-string">"Original_AQI"</span>] <span class="cm-operator">=</span> <span class="cm-variable">y_test</span></span></pre><pre class=" CodeMirror-line " role="presentation"><span role="presentation" style="padding-right: 0.1px;"><span class="cm-variable">knn_prediction</span></span></pre></div></div></div></div></div><div style="position: absolute; height: 33px; width: 1px; border-bottom: 0px solid transparent; top: 79px;"></div><div class="CodeMirror-gutters" style="display: none; height: 112px;"></div></div></div></div></div></div><div class="output_wrapper"><div class="out_prompt_overlay prompt" title="click to expand output; double click to hide output"></div><div class="output"><div class="output_area"><div class="run_this_cell"></div><div class="prompt output_prompt"><bdi>Out[26]:</bdi></div><div class="output_subarea output_html rendered_html output_result" dir="auto"><div>

<table border="1" class="dataframe">
  <thead>
    <tr style="undefined:undefined">
      <th></th>
      <th>Temperature</th>
      <th>Humidity</th>
      <th>Wind.Speed..km.h.</th>
      <th>Visibility</th>
      <th>Pressure</th>
      <th>so2</th>
      <th>no2</th>
      <th>PM10</th>
      <th>PM25</th>
      <th>Predicted_AQI</th>
      <th>Original_AQI</th>
    </tr>
  </thead>
  <tbody>
    <tr>
      <th>6213</th>
      <td>0.017727</td>
      <td>1.309815</td>
      <td>0.554879</td>
      <td>1.558790</td>
      <td>0.133046</td>
      <td>-0.123471</td>
      <td>0.039591</td>
      <td>-0.234271</td>
      <td>-0.178459</td>
      <td>79.000000</td>
      <td>80</td>
    </tr>
    <tr>
      <th>7168</th>
      <td>-0.932841</td>
      <td>0.820826</td>
      <td>1.734667</td>
      <td>0.086796</td>
      <td>0.207987</td>
      <td>-0.485819</td>
      <td>-0.049133</td>
      <td>0.596350</td>
      <td>0.843286</td>
      <td>138.666667</td>
      <td>140</td>
    </tr>
    <tr>
      <th>2699</th>
      <td>-0.467960</td>
      <td>1.092487</td>
      <td>1.935327</td>
      <td>0.106796</td>
      <td>0.108243</td>
      <td>-0.281014</td>
      <td>0.010016</td>
      <td>-0.319028</td>
      <td>-0.785874</td>
      <td>53.000000</td>
      <td>45</td>
    </tr>
    <tr>
      <th>3533</th>
      <td>-1.285366</td>
      <td>0.820826</td>
      <td>-1.466232</td>
      <td>-1.693196</td>
      <td>0.166140</td>
      <td>-0.627608</td>
      <td>-0.574081</td>
      <td>-0.268174</td>
      <td>-0.524404</td>
      <td>60.666667</td>
      <td>62</td>
    </tr>
    <tr>
      <th>1560</th>
      <td>0.417216</td>
      <td>0.331837</td>
      <td>0.571803</td>
      <td>-1.905195</td>
      <td>0.233653</td>
      <td>0.475193</td>
      <td>0.283581</td>
      <td>-0.081708</td>
      <td>-0.190527</td>
      <td>77.000000</td>
      <td>79</td>
    </tr>
    <tr>
      <th>...</th>
      <td>...</td>
      <td>...</td>
      <td>...</td>
      <td>...</td>
      <td>...</td>
      <td>...</td>
      <td>...</td>
      <td>...</td>
      <td>...</td>
      <td>...</td>
      <td>...</td>
    </tr>
    <tr>
      <th>3655</th>
      <td>-0.853181</td>
      <td>0.875158</td>
      <td>-1.543595</td>
      <td>0.062797</td>
      <td>0.168859</td>
      <td>-0.627608</td>
      <td>-1.416956</td>
      <td>-0.183417</td>
      <td>-0.258911</td>
      <td>74.666667</td>
      <td>76</td>
    </tr>
    <tr>
      <th>1563</th>
      <td>1.142478</td>
      <td>-0.754805</td>
      <td>0.068942</td>
      <td>-2.293193</td>
      <td>0.237433</td>
      <td>0.475193</td>
      <td>0.209644</td>
      <td>0.545496</td>
      <td>0.795015</td>
      <td>131.333333</td>
      <td>137</td>
    </tr>
    <tr>
      <th>3374</th>
      <td>-1.171227</td>
      <td>0.820826</td>
      <td>-0.327544</td>
      <td>0.062797</td>
      <td>0.236505</td>
      <td>-0.879677</td>
      <td>0.024803</td>
      <td>-0.352931</td>
      <td>-0.604857</td>
      <td>57.666667</td>
      <td>58</td>
    </tr>
    <tr>
      <th>3746</th>
      <td>-1.957125</td>
      <td>-0.048487</td>
      <td>0.213998</td>
      <td>1.342791</td>
      <td>0.147968</td>
      <td>-0.312522</td>
      <td>0.357517</td>
      <td>-0.132562</td>
      <td>-0.198572</td>
      <td>65.000000</td>
      <td>79</td>
    </tr>
    <tr>
      <th>397</th>
      <td>0.737639</td>
      <td>-1.569786</td>
      <td>-0.859415</td>
      <td>0.106796</td>
      <td>0.157850</td>
      <td>4.004155</td>
      <td>-0.714561</td>
      <td>0.257321</td>
      <td>0.690427</td>
      <td>154.666667</td>
      <td>131</td>
    </tr>
  </tbody>
</table>
<p>1458 rows × 11 columns</p>
</div></div></div></div><div class="btn btn-default output_collapsed" title="click to expand output" style="display: none;">. . .</div></div></div><div class="cell code_cell unselected rendered" tabindex="2"><div class="input"><div class="prompt_container"><div class="prompt input_prompt"><bdi>In</bdi>&nbsp;[27]:</div><div class="run_this_cell" title="Run this cell"><i class="fa-step-forward fa"></i></div></div><div class="inner_cell"><div class="ctb_hideshow"><div class="celltoolbar"></div></div><div class="input_area" aria-label="Edit code here"><div class="CodeMirror cm-s-ipython"><div style="overflow: hidden; position: relative; width: 3px; height: 0px; top: 5.59375px; left: 4px;"><textarea autocorrect="off" autocapitalize="off" spellcheck="false" tabindex="0" style="position: absolute; bottom: -1em; padding: 0px; width: 1000px; height: 1em; outline: none;"></textarea></div><div class="CodeMirror-vscrollbar" tabindex="-1" cm-not-content="true"><div style="min-width: 1px; height: 0px;"></div></div><div class="CodeMirror-hscrollbar" tabindex="-1" cm-not-content="true"><div style="height: 100%; min-height: 1px; width: 0px;"></div></div><div class="CodeMirror-scrollbar-filler" cm-not-content="true"></div><div class="CodeMirror-gutter-filler" cm-not-content="true"></div><div class="CodeMirror-scroll" tabindex="-1"><div class="CodeMirror-sizer" style="margin-left: 0px; min-width: 230.25px; margin-bottom: -17px; border-right-width: 33px; min-height: 28px; padding-right: 0px; padding-bottom: 0px;"><div style="position: relative; top: 0px;"><div class="CodeMirror-lines" role="presentation"><div role="presentation" style="position: relative; outline: none;"><div class="CodeMirror-measure"><pre class="CodeMirror-line-like"><span>xxxxxxxxxx</span></pre></div><div class="CodeMirror-measure"></div><div style="position: relative; z-index: 1;"></div><div class="CodeMirror-cursors"><div class="CodeMirror-cursor" style="left: 4px; top: 0px; height: 17px;">&nbsp;</div></div><div class="CodeMirror-code" role="presentation"><pre class=" CodeMirror-line " role="presentation"><span role="presentation" style="padding-right: 0.1px;"><span class="cm-variable">sns</span>.<span class="cm-property">distplot</span>(<span class="cm-variable">y_test</span><span class="cm-operator">-</span><span class="cm-variable">knn_pred</span>)</span></pre></div></div></div></div></div><div style="position: absolute; height: 33px; width: 1px; border-bottom: 0px solid transparent; top: 28px;"></div><div class="CodeMirror-gutters" style="display: none; height: 61px;"></div></div></div></div></div></div><div class="output_wrapper"><div class="out_prompt_overlay prompt" title="click to expand output; double click to hide output"></div><div class="output"><div class="output_area"><div class="run_this_cell"></div><div class="prompt output_prompt"><bdi>Out[27]:</bdi></div><div class="output_subarea output_text output_result" dir="auto"><pre>&lt;AxesSubplot:xlabel='AQI', ylabel='Density'&gt;</pre></div></div><div class="output_area"><div class="run_this_cell"></div><div class="prompt"></div><div class="output_subarea output_png" dir="auto"><img src="data:image/png;base64,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"></div></div></div><div class="btn btn-default output_collapsed" title="click to expand output" style="display: none;">. . .</div></div></div><div class="cell text_cell unselected rendered" tabindex="2"><div class="prompt input_prompt"></div><div class="inner_cell"><div class="ctb_hideshow"><div class="celltoolbar"></div></div><div class="input_area" aria-label="Edit Markup Text here"><div class="CodeMirror cm-s-default CodeMirror-wrap"><div style="overflow: hidden; position: relative; width: 3px; height: 0px; top: 5.59375px; left: 4px;"><textarea autocorrect="off" autocapitalize="off" spellcheck="false" tabindex="0" style="position: absolute; bottom: -1em; padding: 0px; width: 1000px; height: 1em; outline: none;"></textarea></div><div class="CodeMirror-vscrollbar" tabindex="-1" cm-not-content="true" style="bottom: 0px;"><div style="min-width: 1px; height: 0px;"></div></div><div class="CodeMirror-hscrollbar" tabindex="-1" cm-not-content="true"><div style="height: 100%; min-height: 1px; width: 0px;"></div></div><div class="CodeMirror-scrollbar-filler" cm-not-content="true"></div><div class="CodeMirror-gutter-filler" cm-not-content="true"></div><div class="CodeMirror-scroll" tabindex="-1"><div class="CodeMirror-sizer" style="margin-left: 0px; padding-right: 0px; padding-bottom: 0px; margin-bottom: -17px; border-right-width: 33px; min-height: 29px;"><div style="position: relative; top: 0px;"><div class="CodeMirror-lines" role="presentation"><div role="presentation" style="position: relative; outline: none;"><div class="CodeMirror-measure"><pre class="CodeMirror-line-like"><span>xxxxxxxxxx</span></pre></div><div class="CodeMirror-measure"></div><div style="position: relative; z-index: 1;"></div><div class="CodeMirror-cursors"><div class="CodeMirror-cursor" style="left: 4px; top: 0px; height: 18px;">&nbsp;</div></div><div class="CodeMirror-code" role="presentation"><pre class=" CodeMirror-line " role="presentation"><span role="presentation" style="padding-right: 0.1px;"><span class="cm-header cm-header-3">### 3.Decision Tree</span></span></pre></div></div></div></div></div><div style="position: absolute; height: 33px; width: 1px; border-bottom: 0px solid transparent; top: 29px;"></div><div class="CodeMirror-gutters" style="display: none; height: 62px;"></div></div></div></div><div class="text_cell_render rendered_html" tabindex="-1" dir="ltr"><h3 id="3.Decision-Tree">3.Decision Tree<a class="anchor-link" href="http://localhost:8890/notebooks/Air%20pollution%20prediction.ipynb#3.Decision-Tree">¶</a></h3>
</div></div></div><div class="cell code_cell unselected rendered" tabindex="2"><div class="input"><div class="prompt_container"><div class="prompt input_prompt"><bdi>In</bdi>&nbsp;[28]:</div><div class="run_this_cell" title="Run this cell"><i class="fa-step-forward fa"></i></div></div><div class="inner_cell"><div class="ctb_hideshow"><div class="celltoolbar"></div></div><div class="input_area" aria-label="Edit code here"><div class="CodeMirror cm-s-ipython"><div style="overflow: hidden; position: relative; width: 3px; height: 0px; top: 5.59375px; left: 4px;"><textarea autocorrect="off" autocapitalize="off" spellcheck="false" tabindex="0" style="position: absolute; bottom: -1em; padding: 0px; width: 1000px; height: 1em; outline: none;"></textarea></div><div class="CodeMirror-vscrollbar" tabindex="-1" cm-not-content="true"><div style="min-width: 1px; height: 0px;"></div></div><div class="CodeMirror-hscrollbar" tabindex="-1" cm-not-content="true"><div style="height: 100%; min-height: 1px; width: 0px;"></div></div><div class="CodeMirror-scrollbar-filler" cm-not-content="true"></div><div class="CodeMirror-gutter-filler" cm-not-content="true"></div><div class="CodeMirror-scroll" tabindex="-1"><div class="CodeMirror-sizer" style="margin-left: 0px; min-width: 445.828px; margin-bottom: -17px; border-right-width: 33px; min-height: 45px; padding-right: 0px; padding-bottom: 0px;"><div style="position: relative; top: 0px;"><div class="CodeMirror-lines" role="presentation"><div role="presentation" style="position: relative; outline: none;"><div class="CodeMirror-measure"><pre class="CodeMirror-line-like"><span>xxxxxxxxxx</span></pre></div><div class="CodeMirror-measure"></div><div style="position: relative; z-index: 1;"></div><div class="CodeMirror-cursors"><div class="CodeMirror-cursor" style="left: 4px; top: 0px; height: 17px;">&nbsp;</div></div><div class="CodeMirror-code" role="presentation"><pre class=" CodeMirror-line " role="presentation"><span role="presentation" style="padding-right: 0.1px;"><span class="cm-variable">decision_reg</span> <span class="cm-operator">=</span> <span class="cm-variable">tree</span>.<span class="cm-property">DecisionTreeRegressor</span>(<span class="cm-variable">random_state</span><span class="cm-operator">=</span><span class="cm-number">3</span>)</span></pre><pre class=" CodeMirror-line " role="presentation"><span role="presentation" style="padding-right: 0.1px;"><span class="cm-variable">decision_reg</span>.<span class="cm-property">fit</span>(<span class="cm-variable">x_train</span>,<span class="cm-variable">y_train</span>)</span></pre></div></div></div></div></div><div style="position: absolute; height: 33px; width: 1px; border-bottom: 0px solid transparent; top: 45px;"></div><div class="CodeMirror-gutters" style="display: none; height: 78px;"></div></div></div></div></div></div><div class="output_wrapper"><div class="out_prompt_overlay prompt" title="click to expand output; double click to hide output"></div><div class="output"><div class="output_area"><div class="run_this_cell"></div><div class="prompt output_prompt"><bdi>Out[28]:</bdi></div><div class="output_subarea output_text output_result" dir="auto"><pre>DecisionTreeRegressor(random_state=3)</pre></div></div></div><div class="btn btn-default output_collapsed" title="click to expand output" style="display: none;">. . .</div></div></div><div class="cell code_cell unselected rendered" tabindex="2"><div class="input"><div class="prompt_container"><div class="prompt input_prompt"><bdi>In</bdi>&nbsp;[29]:</div><div class="run_this_cell" title="Run this cell"><i class="fa-step-forward fa"></i></div></div><div class="inner_cell"><div class="ctb_hideshow"><div class="celltoolbar"></div></div><div class="input_area" aria-label="Edit code here"><div class="CodeMirror cm-s-ipython"><div style="overflow: hidden; position: relative; width: 3px; height: 0px; top: 5.59375px; left: 4px;"><textarea autocorrect="off" autocapitalize="off" spellcheck="false" tabindex="0" style="position: absolute; bottom: -1em; padding: 0px; width: 1000px; height: 1em; outline: none;"></textarea></div><div class="CodeMirror-vscrollbar" tabindex="-1" cm-not-content="true"><div style="min-width: 1px; height: 0px;"></div></div><div class="CodeMirror-hscrollbar" tabindex="-1" cm-not-content="true"><div style="height: 100%; min-height: 1px; width: 0px;"></div></div><div class="CodeMirror-scrollbar-filler" cm-not-content="true"></div><div class="CodeMirror-gutter-filler" cm-not-content="true"></div><div class="CodeMirror-scroll" tabindex="-1"><div class="CodeMirror-sizer" style="margin-left: 0px; min-width: 345.75px; margin-bottom: -17px; border-right-width: 33px; min-height: 45px; padding-right: 0px; padding-bottom: 0px;"><div style="position: relative; top: 0px;"><div class="CodeMirror-lines" role="presentation"><div role="presentation" style="position: relative; outline: none;"><div class="CodeMirror-measure"><pre class="CodeMirror-line-like"><span>xxxxxxxxxx</span></pre></div><div class="CodeMirror-measure"></div><div style="position: relative; z-index: 1;"></div><div class="CodeMirror-cursors"><div class="CodeMirror-cursor" style="left: 4px; top: 0px; height: 17px;">&nbsp;</div></div><div class="CodeMirror-code" role="presentation"><pre class=" CodeMirror-line " role="presentation"><span role="presentation" style="padding-right: 0.1px;"><span class="cm-variable">decision_pred</span> <span class="cm-operator">=</span> <span class="cm-variable">decision_reg</span>.<span class="cm-property">predict</span>(<span class="cm-variable">x_test</span>)</span></pre><pre class=" CodeMirror-line " role="presentation"><span role="presentation" style="padding-right: 0.1px;"><span class="cm-variable">decision_prediction</span> <span class="cm-operator">=</span> <span class="cm-variable">x_test</span>.<span class="cm-property">copy</span>()</span></pre></div></div></div></div></div><div style="position: absolute; height: 33px; width: 1px; border-bottom: 0px solid transparent; top: 45px;"></div><div class="CodeMirror-gutters" style="display: none; height: 78px;"></div></div></div></div></div></div><div class="output_wrapper"><div class="out_prompt_overlay prompt" title="click to expand output; double click to hide output"></div><div class="output"></div><div class="btn btn-default output_collapsed" title="click to expand output" style="display: none;">. . .</div></div></div><div class="cell text_cell unselected rendered" tabindex="2"><div class="prompt input_prompt"></div><div class="inner_cell"><div class="ctb_hideshow"><div class="celltoolbar"></div></div><div class="input_area" aria-label="Edit Markup Text here"><div class="CodeMirror cm-s-default CodeMirror-wrap"><div style="overflow: hidden; position: relative; width: 3px; height: 0px; top: 5.59375px; left: 4px;"><textarea autocorrect="off" autocapitalize="off" spellcheck="false" tabindex="0" style="position: absolute; bottom: -1em; padding: 0px; width: 1000px; height: 1em; outline: none;"></textarea></div><div class="CodeMirror-vscrollbar" tabindex="-1" cm-not-content="true" style="bottom: 0px;"><div style="min-width: 1px; height: 0px;"></div></div><div class="CodeMirror-hscrollbar" tabindex="-1" cm-not-content="true"><div style="height: 100%; min-height: 1px; width: 0px;"></div></div><div class="CodeMirror-scrollbar-filler" cm-not-content="true"></div><div class="CodeMirror-gutter-filler" cm-not-content="true"></div><div class="CodeMirror-scroll" tabindex="-1"><div class="CodeMirror-sizer" style="margin-left: 0px; padding-right: 0px; padding-bottom: 0px; margin-bottom: -17px; border-right-width: 33px; min-height: 29px;"><div style="position: relative; top: 0px;"><div class="CodeMirror-lines" role="presentation"><div role="presentation" style="position: relative; outline: none;"><div class="CodeMirror-measure"><pre class="CodeMirror-line-like"><span>xxxxxxxxxx</span></pre></div><div class="CodeMirror-measure"></div><div style="position: relative; z-index: 1;"></div><div class="CodeMirror-cursors"><div class="CodeMirror-cursor" style="left: 4px; top: 0px; height: 18px;">&nbsp;</div></div><div class="CodeMirror-code" role="presentation"><pre class=" CodeMirror-line " role="presentation"><span role="presentation" style="padding-right: 0.1px;"><span class="cm-header cm-header-3">### Error and accuracy</span></span></pre></div></div></div></div></div><div style="position: absolute; height: 33px; width: 1px; border-bottom: 0px solid transparent; top: 29px;"></div><div class="CodeMirror-gutters" style="display: none; height: 62px;"></div></div></div></div><div class="text_cell_render rendered_html" tabindex="-1" dir="ltr"><h3 id="Error-and-accuracy">Error and accuracy<a class="anchor-link" href="http://localhost:8890/notebooks/Air%20pollution%20prediction.ipynb#Error-and-accuracy">¶</a></h3>
</div></div></div><div class="cell code_cell unselected rendered" tabindex="2"><div class="input"><div class="prompt_container"><div class="prompt input_prompt"><bdi>In</bdi>&nbsp;[30]:</div><div class="run_this_cell" title="Run this cell"><i class="fa-step-forward fa"></i></div></div><div class="inner_cell"><div class="ctb_hideshow"><div class="celltoolbar"></div></div><div class="input_area" aria-label="Edit code here"><div class="CodeMirror cm-s-ipython"><div style="overflow: hidden; position: relative; width: 3px; height: 0px; top: 5.59375px; left: 4px;"><textarea autocorrect="off" autocapitalize="off" spellcheck="false" tabindex="0" style="position: absolute; bottom: -1em; padding: 0px; width: 1000px; height: 1em; outline: none;"></textarea></div><div class="CodeMirror-vscrollbar" tabindex="-1" cm-not-content="true"><div style="min-width: 1px; height: 0px;"></div></div><div class="CodeMirror-hscrollbar" tabindex="-1" cm-not-content="true" style="display: block; right: 0px; left: 0px;"><div style="height: 100%; min-height: 1px; width: 1408px;"></div></div><div class="CodeMirror-scrollbar-filler" cm-not-content="true"></div><div class="CodeMirror-gutter-filler" cm-not-content="true"></div><div class="CodeMirror-scroll" tabindex="-1"><div class="CodeMirror-sizer" style="margin-left: 0px; min-width: 1408.11px; margin-bottom: -17px; border-right-width: 33px; min-height: 79px; padding-right: 0px; padding-bottom: 17px;"><div style="position: relative; top: 0px;"><div class="CodeMirror-lines" role="presentation"><div role="presentation" style="position: relative; outline: none;"><div class="CodeMirror-measure"><pre class="CodeMirror-line-like"><span>xxxxxxxxxx</span></pre></div><div class="CodeMirror-measure"></div><div style="position: relative; z-index: 1;"></div><div class="CodeMirror-cursors"><div class="CodeMirror-cursor" style="left: 4px; top: 0px; height: 17px;">&nbsp;</div></div><div class="CodeMirror-code" role="presentation"><pre class=" CodeMirror-line " role="presentation"><span role="presentation" style="padding-right: 0.1px;"><span class="cm-builtin">print</span>(<span class="cm-string">"Accuracy Score on training data: "</span>,<span class="cm-variable">decision_reg</span>.<span class="cm-property">score</span>(<span class="cm-variable">x_train</span>,<span class="cm-variable">y_train</span>))</span></pre><pre class=" CodeMirror-line " role="presentation"><span role="presentation" style="padding-right: 0.1px;"><span class="cm-builtin">print</span>(<span class="cm-string">"Accuracy Score on testing data: "</span>,<span class="cm-variable">decision_reg</span>.<span class="cm-property">score</span>(<span class="cm-variable">x_test</span>,<span class="cm-variable">y_test</span>))</span></pre><pre class=" CodeMirror-line " role="presentation"><span role="presentation" style="padding-right: 0.1px;"><span class="cm-builtin">print</span>(<span class="cm-string">f"Mean squared error: </span>{<span class="cm-variable">mean_squared_error</span>(<span class="cm-variable">y_test</span>,<span class="cm-variable">decision_pred</span>)}<span class="cm-string">\nMean absolute error: </span>{<span class="cm-variable">mean_absolute_error</span>(<span class="cm-variable">y_test</span>,<span class="cm-variable">decision_pred</span>)}<span class="cm-string">\nr2 score: </span>{<span class="cm-variable">r2_score</span>(<span class="cm-variable">y_test</span>,<span class="cm-variable">decision_pred</span>)}<span class="cm-string">"</span>)</span></pre><pre class=" CodeMirror-line " role="presentation"><span role="presentation" style="padding-right: 0.1px;"><span cm-text="">​</span></span></pre></div></div></div></div></div><div style="position: absolute; height: 33px; width: 1px; border-bottom: 17px solid transparent; top: 79px;"></div><div class="CodeMirror-gutters" style="display: none; height: 129px;"></div></div></div></div></div></div><div class="output_wrapper"><div class="out_prompt_overlay prompt" title="click to expand output; double click to hide output"></div><div class="output"><div class="output_area"><div class="run_this_cell"></div><div class="prompt"></div><div class="output_subarea output_text output_stream output_stdout" dir="auto"><pre>Accuracy Score on training data:  1.0
Accuracy Score on testing data:  0.9986725996498679
Mean squared error: 2.4128943758573387
Mean absolute error: 0.2139917695473251
r2 score: 0.9986725996498679
</pre></div></div></div><div class="btn btn-default output_collapsed" title="click to expand output" style="display: none;">. . .</div></div></div><div class="cell text_cell unselected rendered" tabindex="2"><div class="prompt input_prompt"></div><div class="inner_cell"><div class="ctb_hideshow"><div class="celltoolbar"></div></div><div class="input_area" aria-label="Edit Markup Text here"><div class="CodeMirror cm-s-default CodeMirror-wrap"><div style="overflow: hidden; position: relative; width: 3px; height: 0px; top: 5.59375px; left: 4px;"><textarea autocorrect="off" autocapitalize="off" spellcheck="false" tabindex="0" style="position: absolute; bottom: -1em; padding: 0px; width: 1000px; height: 1em; outline: none;"></textarea></div><div class="CodeMirror-vscrollbar" tabindex="-1" cm-not-content="true" style="bottom: 0px;"><div style="min-width: 1px; height: 0px;"></div></div><div class="CodeMirror-hscrollbar" tabindex="-1" cm-not-content="true"><div style="height: 100%; min-height: 1px; width: 0px;"></div></div><div class="CodeMirror-scrollbar-filler" cm-not-content="true"></div><div class="CodeMirror-gutter-filler" cm-not-content="true"></div><div class="CodeMirror-scroll" tabindex="-1"><div class="CodeMirror-sizer" style="margin-left: 0px; padding-right: 0px; padding-bottom: 0px; margin-bottom: -17px; border-right-width: 33px; min-height: 29px;"><div style="position: relative; top: 0px;"><div class="CodeMirror-lines" role="presentation"><div role="presentation" style="position: relative; outline: none;"><div class="CodeMirror-measure"><pre class="CodeMirror-line-like"><span>xxxxxxxxxx</span></pre></div><div class="CodeMirror-measure"></div><div style="position: relative; z-index: 1;"></div><div class="CodeMirror-cursors"><div class="CodeMirror-cursor" style="left: 4px; top: 0px; height: 18px;">&nbsp;</div></div><div class="CodeMirror-code" role="presentation"><pre class=" CodeMirror-line " role="presentation"><span role="presentation" style="padding-right: 0.1px;"><span class="cm-header cm-header-3">### Prediction</span></span></pre></div></div></div></div></div><div style="position: absolute; height: 33px; width: 1px; border-bottom: 0px solid transparent; top: 29px;"></div><div class="CodeMirror-gutters" style="display: none; height: 62px;"></div></div></div></div><div class="text_cell_render rendered_html" tabindex="-1" dir="ltr"><h3 id="Prediction">Prediction<a class="anchor-link" href="http://localhost:8890/notebooks/Air%20pollution%20prediction.ipynb#Prediction">¶</a></h3>
</div></div></div><div class="cell code_cell unselected rendered" tabindex="2"><div class="input"><div class="prompt_container"><div class="prompt input_prompt"><bdi>In</bdi>&nbsp;[31]:</div><div class="run_this_cell" title="Run this cell"><i class="fa-step-forward fa"></i></div></div><div class="inner_cell"><div class="ctb_hideshow"><div class="celltoolbar"></div></div><div class="input_area" aria-label="Edit code here"><div class="CodeMirror cm-s-ipython"><div style="overflow: hidden; position: relative; width: 3px; height: 0px; top: 5.59375px; left: 4px;"><textarea autocorrect="off" autocapitalize="off" spellcheck="false" tabindex="0" style="position: absolute; bottom: -1em; padding: 0px; width: 1000px; height: 1em; outline: none;"></textarea></div><div class="CodeMirror-vscrollbar" tabindex="-1" cm-not-content="true"><div style="min-width: 1px; height: 0px;"></div></div><div class="CodeMirror-hscrollbar" tabindex="-1" cm-not-content="true"><div style="height: 100%; min-height: 1px; width: 0px;"></div></div><div class="CodeMirror-scrollbar-filler" cm-not-content="true"></div><div class="CodeMirror-gutter-filler" cm-not-content="true"></div><div class="CodeMirror-scroll" tabindex="-1"><div class="CodeMirror-sizer" style="margin-left: 0px; min-width: 407.312px; margin-bottom: -17px; border-right-width: 33px; min-height: 62px; padding-right: 0px; padding-bottom: 0px;"><div style="position: relative; top: 0px;"><div class="CodeMirror-lines" role="presentation"><div role="presentation" style="position: relative; outline: none;"><div class="CodeMirror-measure"><pre class="CodeMirror-line-like"><span>xxxxxxxxxx</span></pre></div><div class="CodeMirror-measure"></div><div style="position: relative; z-index: 1;"></div><div class="CodeMirror-cursors"><div class="CodeMirror-cursor" style="left: 4px; top: 0px; height: 17px;">&nbsp;</div></div><div class="CodeMirror-code" role="presentation"><pre class=" CodeMirror-line " role="presentation"><span role="presentation" style="padding-right: 0.1px;"><span class="cm-variable">decision_prediction</span>[<span class="cm-string">"Predicted_AQI"</span>] <span class="cm-operator">=</span> <span class="cm-variable">decision_pred</span></span></pre><pre class=" CodeMirror-line " role="presentation"><span role="presentation" style="padding-right: 0.1px;"><span class="cm-variable">decision_prediction</span>[<span class="cm-string">"Original_AQI"</span>] <span class="cm-operator">=</span> <span class="cm-variable">y_test</span></span></pre><pre class=" CodeMirror-line " role="presentation"><span role="presentation" style="padding-right: 0.1px;"><span class="cm-variable">decision_prediction</span></span></pre></div></div></div></div></div><div style="position: absolute; height: 33px; width: 1px; border-bottom: 0px solid transparent; top: 62px;"></div><div class="CodeMirror-gutters" style="display: none; height: 95px;"></div></div></div></div></div></div><div class="output_wrapper"><div class="out_prompt_overlay prompt" title="click to expand output; double click to hide output"></div><div class="output"><div class="output_area"><div class="run_this_cell"></div><div class="prompt output_prompt"><bdi>Out[31]:</bdi></div><div class="output_subarea output_html rendered_html output_result" dir="auto"><div>

<table border="1" class="dataframe">
  <thead>
    <tr style="undefined:undefined">
      <th></th>
      <th>Temperature</th>
      <th>Humidity</th>
      <th>Wind.Speed..km.h.</th>
      <th>Visibility</th>
      <th>Pressure</th>
      <th>so2</th>
      <th>no2</th>
      <th>PM10</th>
      <th>PM25</th>
      <th>Predicted_AQI</th>
      <th>Original_AQI</th>
    </tr>
  </thead>
  <tbody>
    <tr>
      <th>6213</th>
      <td>0.017727</td>
      <td>1.309815</td>
      <td>0.554879</td>
      <td>1.558790</td>
      <td>0.133046</td>
      <td>-0.123471</td>
      <td>0.039591</td>
      <td>-0.234271</td>
      <td>-0.178459</td>
      <td>80.0</td>
      <td>80</td>
    </tr>
    <tr>
      <th>7168</th>
      <td>-0.932841</td>
      <td>0.820826</td>
      <td>1.734667</td>
      <td>0.086796</td>
      <td>0.207987</td>
      <td>-0.485819</td>
      <td>-0.049133</td>
      <td>0.596350</td>
      <td>0.843286</td>
      <td>140.0</td>
      <td>140</td>
    </tr>
    <tr>
      <th>2699</th>
      <td>-0.467960</td>
      <td>1.092487</td>
      <td>1.935327</td>
      <td>0.106796</td>
      <td>0.108243</td>
      <td>-0.281014</td>
      <td>0.010016</td>
      <td>-0.319028</td>
      <td>-0.785874</td>
      <td>45.0</td>
      <td>45</td>
    </tr>
    <tr>
      <th>3533</th>
      <td>-1.285366</td>
      <td>0.820826</td>
      <td>-1.466232</td>
      <td>-1.693196</td>
      <td>0.166140</td>
      <td>-0.627608</td>
      <td>-0.574081</td>
      <td>-0.268174</td>
      <td>-0.524404</td>
      <td>62.0</td>
      <td>62</td>
    </tr>
    <tr>
      <th>1560</th>
      <td>0.417216</td>
      <td>0.331837</td>
      <td>0.571803</td>
      <td>-1.905195</td>
      <td>0.233653</td>
      <td>0.475193</td>
      <td>0.283581</td>
      <td>-0.081708</td>
      <td>-0.190527</td>
      <td>79.0</td>
      <td>79</td>
    </tr>
    <tr>
      <th>...</th>
      <td>...</td>
      <td>...</td>
      <td>...</td>
      <td>...</td>
      <td>...</td>
      <td>...</td>
      <td>...</td>
      <td>...</td>
      <td>...</td>
      <td>...</td>
      <td>...</td>
    </tr>
    <tr>
      <th>3655</th>
      <td>-0.853181</td>
      <td>0.875158</td>
      <td>-1.543595</td>
      <td>0.062797</td>
      <td>0.168859</td>
      <td>-0.627608</td>
      <td>-1.416956</td>
      <td>-0.183417</td>
      <td>-0.258911</td>
      <td>76.0</td>
      <td>76</td>
    </tr>
    <tr>
      <th>1563</th>
      <td>1.142478</td>
      <td>-0.754805</td>
      <td>0.068942</td>
      <td>-2.293193</td>
      <td>0.237433</td>
      <td>0.475193</td>
      <td>0.209644</td>
      <td>0.545496</td>
      <td>0.795015</td>
      <td>138.0</td>
      <td>137</td>
    </tr>
    <tr>
      <th>3374</th>
      <td>-1.171227</td>
      <td>0.820826</td>
      <td>-0.327544</td>
      <td>0.062797</td>
      <td>0.236505</td>
      <td>-0.879677</td>
      <td>0.024803</td>
      <td>-0.352931</td>
      <td>-0.604857</td>
      <td>58.0</td>
      <td>58</td>
    </tr>
    <tr>
      <th>3746</th>
      <td>-1.957125</td>
      <td>-0.048487</td>
      <td>0.213998</td>
      <td>1.342791</td>
      <td>0.147968</td>
      <td>-0.312522</td>
      <td>0.357517</td>
      <td>-0.132562</td>
      <td>-0.198572</td>
      <td>79.0</td>
      <td>79</td>
    </tr>
    <tr>
      <th>397</th>
      <td>0.737639</td>
      <td>-1.569786</td>
      <td>-0.859415</td>
      <td>0.106796</td>
      <td>0.157850</td>
      <td>4.004155</td>
      <td>-0.714561</td>
      <td>0.257321</td>
      <td>0.690427</td>
      <td>131.0</td>
      <td>131</td>
    </tr>
  </tbody>
</table>
<p>1458 rows × 11 columns</p>
</div></div></div></div><div class="btn btn-default output_collapsed" title="click to expand output" style="display: none;">. . .</div></div></div><div class="cell code_cell unselected rendered" tabindex="2"><div class="input"><div class="prompt_container"><div class="prompt input_prompt"><bdi>In</bdi>&nbsp;[32]:</div><div class="run_this_cell" title="Run this cell"><i class="fa-step-forward fa"></i></div></div><div class="inner_cell"><div class="ctb_hideshow"><div class="celltoolbar"></div></div><div class="input_area" aria-label="Edit code here"><div class="CodeMirror cm-s-ipython"><div style="overflow: hidden; position: relative; width: 3px; height: 0px; top: 5.59375px; left: 4px;"><textarea autocorrect="off" autocapitalize="off" spellcheck="false" tabindex="0" style="position: absolute; bottom: -1em; padding: 0px; width: 1000px; height: 1em; outline: none;"></textarea></div><div class="CodeMirror-vscrollbar" tabindex="-1" cm-not-content="true"><div style="min-width: 1px; height: 0px;"></div></div><div class="CodeMirror-hscrollbar" tabindex="-1" cm-not-content="true"><div style="height: 100%; min-height: 1px; width: 0px;"></div></div><div class="CodeMirror-scrollbar-filler" cm-not-content="true"></div><div class="CodeMirror-gutter-filler" cm-not-content="true"></div><div class="CodeMirror-scroll" tabindex="-1"><div class="CodeMirror-sizer" style="margin-left: 0px; min-width: 361.156px; margin-bottom: -17px; border-right-width: 33px; min-height: 45px; padding-right: 0px; padding-bottom: 0px;"><div style="position: relative; top: 0px;"><div class="CodeMirror-lines" role="presentation"><div role="presentation" style="position: relative; outline: none;"><div class="CodeMirror-measure"><pre class="CodeMirror-line-like"><span>xxxxxxxxxx</span></pre></div><div class="CodeMirror-measure"></div><div style="position: relative; z-index: 1;"></div><div class="CodeMirror-cursors"><div class="CodeMirror-cursor" style="left: 4px; top: 0px; height: 17px;">&nbsp;</div></div><div class="CodeMirror-code" role="presentation"><pre class=" CodeMirror-line " role="presentation"><span role="presentation" style="padding-right: 0.1px;"><span class="cm-variable">sns</span>.<span class="cm-property">distplot</span>(<span class="cm-variable">y_test</span><span class="cm-operator">-</span><span class="cm-variable">decision_pred</span>,<span class="cm-variable">kde</span> <span class="cm-operator">=</span> <span class="cm-keyword">False</span>)</span></pre><pre class=" CodeMirror-line " role="presentation"><span role="presentation" style="padding-right: 0.1px;"><span cm-text="">​</span></span></pre></div></div></div></div></div><div style="position: absolute; height: 33px; width: 1px; border-bottom: 0px solid transparent; top: 45px;"></div><div class="CodeMirror-gutters" style="display: none; height: 78px;"></div></div></div></div></div></div><div class="output_wrapper"><div class="out_prompt_overlay prompt" title="click to expand output; double click to hide output"></div><div class="output"><div class="output_area"><div class="run_this_cell"></div><div class="prompt output_prompt"><bdi>Out[32]:</bdi></div><div class="output_subarea output_text output_result" dir="auto"><pre>&lt;AxesSubplot:xlabel='AQI'&gt;</pre></div></div><div class="output_area"><div class="run_this_cell"></div><div class="prompt"></div><div class="output_subarea output_png" dir="auto"><img src="data:image/png;base64,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"></div></div></div><div class="btn btn-default output_collapsed" title="click to expand output" style="display: none;">. . .</div></div></div></div><div class="end_space"></div></div>
        <div id="tooltip" class="ipython_tooltip" style="display:none"><div class="tooltipbuttons"><a href="http://localhost:8890/notebooks/Air%20pollution%20prediction.ipynb#" role="button" class="ui-button"><span class="ui-icon ui-icon-close">Close</span></a><a href="http://localhost:8890/notebooks/Air%20pollution%20prediction.ipynb#" role="button" class="ui-button" id="expanbutton" title="Grow the tooltip vertically (press shift-tab twice)"><span class="ui-icon ui-icon-plus">Expand</span></a><a href="http://localhost:8890/notebooks/Air%20pollution%20prediction.ipynb#" role="button" class="ui-button" title="show the current docstring in pager (press shift-tab 4 times)"><span class="ui-icon ui-icon-arrowstop-l-n">Open in Pager</span></a><a href="http://localhost:8890/notebooks/Air%20pollution%20prediction.ipynb#" role="button" class="ui-button" title="Tooltip will linger for 10 seconds while you type" style="display: none;"><span class="ui-icon ui-icon-clock">Close</span></a></div><div class="pretooltiparrow"></div><div class="tooltiptext smalltooltip"></div></div>
    </div>
</div>



</div>



<div id="pager" class="ui-resizable">
    <div id="pager-contents">
        <div id="pager-container" class="container"></div>
    </div>
    <div id="pager-button-area"><a role="button" title="Open the pager in an external window" class="ui-button"><span class="ui-icon ui-icon-extlink"></span></a><a role="button" title="Close the pager" class="ui-button"><span class="ui-icon ui-icon-close"></span></a></div>
<div class="ui-resizable-handle ui-resizable-n" style="z-index: 90;"></div></div>






<script type="text/javascript">
    sys_info = {"notebook_version": "6.4.5", "notebook_path": "C:\\Users\\SAYALI\\anaconda3\\Lib\\site-packages\\notebook", "commit_source": "", "commit_hash": "", "sys_version": "3.9.7 (default, Sep 16 2021, 16:59:28) [MSC v.1916 64 bit (AMD64)]", "sys_executable": "C:\\Users\\SAYALI\\anaconda3\\python.exe", "sys_platform": "win32", "platform": "Windows-10-10.0.19043-SP0", "os_name": "nt", "default_encoding": "utf-8"};
</script>

<script src="./Air pollution prediction - Jupyter Notebook _files/encoding.js.download" charset="utf-8"></script>

<script src="./Air pollution prediction - Jupyter Notebook _files/main.min.js.download" type="text/javascript" charset="utf-8"></script>



<script type="text/javascript">
  function _remove_token_from_url() {
    if (window.location.search.length <= 1) {
      return;
    }
    var search_parameters = window.location.search.slice(1).split('&');
    for (var i = 0; i < search_parameters.length; i++) {
      if (search_parameters[i].split('=')[0] === 'token') {
        // remote token from search parameters
        search_parameters.splice(i, 1);
        var new_search = '';
        if (search_parameters.length) {
          new_search = '?' + search_parameters.join('&');
        }
        var new_url = window.location.origin + 
                      window.location.pathname + 
                      new_search + 
                      window.location.hash;
        window.history.replaceState({}, "", new_url);
        return;
      }
    }
  }
  _remove_token_from_url();
</script>


<div style="position: absolute; width: 0px; height: 0px; overflow: hidden; padding: 0px; border: 0px; margin: 0px;"><div id="MathJax_Font_Test" style="position: absolute; visibility: hidden; top: 0px; left: 0px; width: auto; min-width: 0px; max-width: none; padding: 0px; border: 0px; margin: 0px; white-space: nowrap; text-align: left; text-indent: 0px; text-transform: none; line-height: normal; letter-spacing: normal; word-spacing: normal; font-size: 40px; font-weight: normal; font-style: normal;"></div></div></body></html>