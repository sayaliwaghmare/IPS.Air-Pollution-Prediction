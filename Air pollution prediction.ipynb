{
 "cells": [
  {
   "cell_type": "markdown",
   "id": "1edd2529",
   "metadata": {},
   "source": [
    "# Importing Libraries"
   ]
  },
  {
   "cell_type": "code",
   "execution_count": 1,
   "id": "564f07b4",
   "metadata": {},
   "outputs": [],
   "source": [
    "import pandas as pd\n",
    "import numpy as np\n",
    "import matplotlib.pyplot as plt\n",
    "import seaborn as sns\n",
    "from sklearn.linear_model import LinearRegression\n",
    "from sklearn.metrics import mean_squared_error,mean_absolute_error,r2_score\n",
    "from sklearn.model_selection import train_test_split\n",
    "from sklearn.neighbors import KNeighborsRegressor\n",
    "from sklearn import tree\n",
    "from sklearn.svm import SVR\n",
    "import warnings\n",
    "warnings.filterwarnings('ignore')\n",
    "sns.set()"
   ]
  },
  {
   "cell_type": "markdown",
   "id": "bcb952ae",
   "metadata": {},
   "source": [
    "# Loading the Dataset"
   ]
  },
  {
   "cell_type": "code",
   "execution_count": 2,
   "id": "ca4b7e9f",
   "metadata": {},
   "outputs": [
    {
     "data": {
      "text/html": [
       "<div>\n",
       "<style scoped>\n",
       "    .dataframe tbody tr th:only-of-type {\n",
       "        vertical-align: middle;\n",
       "    }\n",
       "\n",
       "    .dataframe tbody tr th {\n",
       "        vertical-align: top;\n",
       "    }\n",
       "\n",
       "    .dataframe thead th {\n",
       "        text-align: right;\n",
       "    }\n",
       "</style>\n",
       "<table border=\"1\" class=\"dataframe\">\n",
       "  <thead>\n",
       "    <tr style=\"text-align: right;\">\n",
       "      <th></th>\n",
       "      <th>Temperature</th>\n",
       "      <th>Humidity</th>\n",
       "      <th>Wind.Speed..km.h.</th>\n",
       "      <th>Visibility</th>\n",
       "      <th>Pressure</th>\n",
       "      <th>so2</th>\n",
       "      <th>no2</th>\n",
       "      <th>Rainfall</th>\n",
       "      <th>PM10</th>\n",
       "      <th>AQI</th>\n",
       "      <th>PM25</th>\n",
       "    </tr>\n",
       "  </thead>\n",
       "  <tbody>\n",
       "    <tr>\n",
       "      <th>735</th>\n",
       "      <td>4.950000</td>\n",
       "      <td>0.92</td>\n",
       "      <td>12.6224</td>\n",
       "      <td>11.2700</td>\n",
       "      <td>1008.95</td>\n",
       "      <td>11.3</td>\n",
       "      <td>36.3</td>\n",
       "      <td>57.7</td>\n",
       "      <td>78</td>\n",
       "      <td>163</td>\n",
       "      <td>78.0</td>\n",
       "    </tr>\n",
       "    <tr>\n",
       "      <th>3801</th>\n",
       "      <td>7.161111</td>\n",
       "      <td>0.73</td>\n",
       "      <td>13.4435</td>\n",
       "      <td>9.9820</td>\n",
       "      <td>1022.44</td>\n",
       "      <td>5.7</td>\n",
       "      <td>30.2</td>\n",
       "      <td>95.7</td>\n",
       "      <td>15</td>\n",
       "      <td>60</td>\n",
       "      <td>16.3</td>\n",
       "    </tr>\n",
       "    <tr>\n",
       "      <th>409</th>\n",
       "      <td>7.805556</td>\n",
       "      <td>0.96</td>\n",
       "      <td>3.1717</td>\n",
       "      <td>14.9086</td>\n",
       "      <td>1020.12</td>\n",
       "      <td>20.7</td>\n",
       "      <td>34.0</td>\n",
       "      <td>64.1</td>\n",
       "      <td>115</td>\n",
       "      <td>169</td>\n",
       "      <td>90.0</td>\n",
       "    </tr>\n",
       "    <tr>\n",
       "      <th>2110</th>\n",
       "      <td>-1.572222</td>\n",
       "      <td>0.95</td>\n",
       "      <td>10.7548</td>\n",
       "      <td>2.8819</td>\n",
       "      <td>1019.26</td>\n",
       "      <td>20.0</td>\n",
       "      <td>20.3</td>\n",
       "      <td>78.2</td>\n",
       "      <td>4</td>\n",
       "      <td>24</td>\n",
       "      <td>5.8</td>\n",
       "    </tr>\n",
       "    <tr>\n",
       "      <th>6885</th>\n",
       "      <td>8.366666</td>\n",
       "      <td>0.89</td>\n",
       "      <td>10.5616</td>\n",
       "      <td>6.1824</td>\n",
       "      <td>1017.75</td>\n",
       "      <td>5.2</td>\n",
       "      <td>30.0</td>\n",
       "      <td>68.2</td>\n",
       "      <td>51</td>\n",
       "      <td>133</td>\n",
       "      <td>48.4</td>\n",
       "    </tr>\n",
       "    <tr>\n",
       "      <th>6777</th>\n",
       "      <td>18.688889</td>\n",
       "      <td>0.53</td>\n",
       "      <td>15.1662</td>\n",
       "      <td>9.6761</td>\n",
       "      <td>1020.16</td>\n",
       "      <td>5.0</td>\n",
       "      <td>28.7</td>\n",
       "      <td>85.1</td>\n",
       "      <td>61</td>\n",
       "      <td>157</td>\n",
       "      <td>66.5</td>\n",
       "    </tr>\n",
       "    <tr>\n",
       "      <th>6623</th>\n",
       "      <td>13.688889</td>\n",
       "      <td>0.93</td>\n",
       "      <td>10.2050</td>\n",
       "      <td>15.8263</td>\n",
       "      <td>1033.31</td>\n",
       "      <td>7.1</td>\n",
       "      <td>27.6</td>\n",
       "      <td>59.6</td>\n",
       "      <td>20</td>\n",
       "      <td>80</td>\n",
       "      <td>25.4</td>\n",
       "    </tr>\n",
       "    <tr>\n",
       "      <th>981</th>\n",
       "      <td>14.933333</td>\n",
       "      <td>0.80</td>\n",
       "      <td>4.6207</td>\n",
       "      <td>9.9820</td>\n",
       "      <td>1017.94</td>\n",
       "      <td>2.7</td>\n",
       "      <td>22.4</td>\n",
       "      <td>80.0</td>\n",
       "      <td>55</td>\n",
       "      <td>151</td>\n",
       "      <td>56.1</td>\n",
       "    </tr>\n",
       "    <tr>\n",
       "      <th>88</th>\n",
       "      <td>12.222222</td>\n",
       "      <td>0.76</td>\n",
       "      <td>25.3414</td>\n",
       "      <td>11.2700</td>\n",
       "      <td>1004.00</td>\n",
       "      <td>136.1</td>\n",
       "      <td>162.2</td>\n",
       "      <td>73.9</td>\n",
       "      <td>51</td>\n",
       "      <td>152</td>\n",
       "      <td>56.5</td>\n",
       "    </tr>\n",
       "    <tr>\n",
       "      <th>3664</th>\n",
       "      <td>2.150000</td>\n",
       "      <td>0.97</td>\n",
       "      <td>13.7494</td>\n",
       "      <td>9.9820</td>\n",
       "      <td>1020.68</td>\n",
       "      <td>4.0</td>\n",
       "      <td>9.2</td>\n",
       "      <td>53.7</td>\n",
       "      <td>5</td>\n",
       "      <td>30</td>\n",
       "      <td>7.3</td>\n",
       "    </tr>\n",
       "  </tbody>\n",
       "</table>\n",
       "</div>"
      ],
      "text/plain": [
       "      Temperature  Humidity  Wind.Speed..km.h.  Visibility  Pressure    so2  \\\n",
       "735      4.950000      0.92            12.6224     11.2700   1008.95   11.3   \n",
       "3801     7.161111      0.73            13.4435      9.9820   1022.44    5.7   \n",
       "409      7.805556      0.96             3.1717     14.9086   1020.12   20.7   \n",
       "2110    -1.572222      0.95            10.7548      2.8819   1019.26   20.0   \n",
       "6885     8.366666      0.89            10.5616      6.1824   1017.75    5.2   \n",
       "6777    18.688889      0.53            15.1662      9.6761   1020.16    5.0   \n",
       "6623    13.688889      0.93            10.2050     15.8263   1033.31    7.1   \n",
       "981     14.933333      0.80             4.6207      9.9820   1017.94    2.7   \n",
       "88      12.222222      0.76            25.3414     11.2700   1004.00  136.1   \n",
       "3664     2.150000      0.97            13.7494      9.9820   1020.68    4.0   \n",
       "\n",
       "        no2  Rainfall  PM10  AQI  PM25  \n",
       "735    36.3      57.7    78  163  78.0  \n",
       "3801   30.2      95.7    15   60  16.3  \n",
       "409    34.0      64.1   115  169  90.0  \n",
       "2110   20.3      78.2     4   24   5.8  \n",
       "6885   30.0      68.2    51  133  48.4  \n",
       "6777   28.7      85.1    61  157  66.5  \n",
       "6623   27.6      59.6    20   80  25.4  \n",
       "981    22.4      80.0    55  151  56.1  \n",
       "88    162.2      73.9    51  152  56.5  \n",
       "3664    9.2      53.7     5   30   7.3  "
      ]
     },
     "execution_count": 2,
     "metadata": {},
     "output_type": "execute_result"
    }
   ],
   "source": [
    "data = pd.read_csv(\"airQuality.csv\")\n",
    "data.sample(10)\n"
   ]
  },
  {
   "cell_type": "code",
   "execution_count": 3,
   "id": "750e3c22",
   "metadata": {},
   "outputs": [
    {
     "data": {
      "text/plain": [
       "(7288, 11)"
      ]
     },
     "execution_count": 3,
     "metadata": {},
     "output_type": "execute_result"
    }
   ],
   "source": [
    "data.shape"
   ]
  },
  {
   "cell_type": "markdown",
   "id": "848cc58c",
   "metadata": {},
   "source": [
    "# Data Preprocessing"
   ]
  },
  {
   "cell_type": "markdown",
   "id": "cef8a9ff",
   "metadata": {},
   "source": [
    "## 1.Checking for the null values"
   ]
  },
  {
   "cell_type": "code",
   "execution_count": 4,
   "id": "5d6798d7",
   "metadata": {},
   "outputs": [
    {
     "data": {
      "text/plain": [
       "Temperature          0\n",
       "Humidity             0\n",
       "Wind.Speed..km.h.    0\n",
       "Visibility           0\n",
       "Pressure             0\n",
       "so2                  0\n",
       "no2                  0\n",
       "Rainfall             0\n",
       "PM10                 0\n",
       "AQI                  0\n",
       "PM25                 0\n",
       "dtype: int64"
      ]
     },
     "execution_count": 4,
     "metadata": {},
     "output_type": "execute_result"
    }
   ],
   "source": [
    "data.isnull().sum()"
   ]
  },
  {
   "cell_type": "markdown",
   "id": "22297a5f",
   "metadata": {},
   "source": [
    "## 2.Checking the Correlation"
   ]
  },
  {
   "cell_type": "code",
   "execution_count": 5,
   "id": "38479ef8",
   "metadata": {},
   "outputs": [
    {
     "data": {
      "text/html": [
       "<div>\n",
       "<style scoped>\n",
       "    .dataframe tbody tr th:only-of-type {\n",
       "        vertical-align: middle;\n",
       "    }\n",
       "\n",
       "    .dataframe tbody tr th {\n",
       "        vertical-align: top;\n",
       "    }\n",
       "\n",
       "    .dataframe thead th {\n",
       "        text-align: right;\n",
       "    }\n",
       "</style>\n",
       "<table border=\"1\" class=\"dataframe\">\n",
       "  <thead>\n",
       "    <tr style=\"text-align: right;\">\n",
       "      <th></th>\n",
       "      <th>Temperature</th>\n",
       "      <th>Humidity</th>\n",
       "      <th>Wind.Speed..km.h.</th>\n",
       "      <th>Visibility</th>\n",
       "      <th>Pressure</th>\n",
       "      <th>so2</th>\n",
       "      <th>no2</th>\n",
       "      <th>PM10</th>\n",
       "      <th>PM25</th>\n",
       "    </tr>\n",
       "  </thead>\n",
       "  <tbody>\n",
       "    <tr>\n",
       "      <th>Temperature</th>\n",
       "      <td>1.000000</td>\n",
       "      <td>-0.640853</td>\n",
       "      <td>-0.007853</td>\n",
       "      <td>0.108522</td>\n",
       "      <td>-0.008497</td>\n",
       "      <td>0.093858</td>\n",
       "      <td>0.072414</td>\n",
       "      <td>0.018393</td>\n",
       "      <td>0.122030</td>\n",
       "    </tr>\n",
       "    <tr>\n",
       "      <th>Humidity</th>\n",
       "      <td>-0.640853</td>\n",
       "      <td>1.000000</td>\n",
       "      <td>-0.041377</td>\n",
       "      <td>0.057076</td>\n",
       "      <td>0.004141</td>\n",
       "      <td>-0.091301</td>\n",
       "      <td>-0.021266</td>\n",
       "      <td>-0.047126</td>\n",
       "      <td>-0.119834</td>\n",
       "    </tr>\n",
       "    <tr>\n",
       "      <th>Wind.Speed..km.h.</th>\n",
       "      <td>-0.007853</td>\n",
       "      <td>-0.041377</td>\n",
       "      <td>1.000000</td>\n",
       "      <td>0.107416</td>\n",
       "      <td>-0.058970</td>\n",
       "      <td>-0.079710</td>\n",
       "      <td>-0.072865</td>\n",
       "      <td>-0.003909</td>\n",
       "      <td>-0.015770</td>\n",
       "    </tr>\n",
       "    <tr>\n",
       "      <th>Visibility</th>\n",
       "      <td>0.108522</td>\n",
       "      <td>0.057076</td>\n",
       "      <td>0.107416</td>\n",
       "      <td>1.000000</td>\n",
       "      <td>-0.006730</td>\n",
       "      <td>0.035780</td>\n",
       "      <td>-0.051422</td>\n",
       "      <td>0.036917</td>\n",
       "      <td>0.117586</td>\n",
       "    </tr>\n",
       "    <tr>\n",
       "      <th>Pressure</th>\n",
       "      <td>-0.008497</td>\n",
       "      <td>0.004141</td>\n",
       "      <td>-0.058970</td>\n",
       "      <td>-0.006730</td>\n",
       "      <td>1.000000</td>\n",
       "      <td>0.049736</td>\n",
       "      <td>0.039073</td>\n",
       "      <td>0.008507</td>\n",
       "      <td>0.008915</td>\n",
       "    </tr>\n",
       "    <tr>\n",
       "      <th>so2</th>\n",
       "      <td>0.093858</td>\n",
       "      <td>-0.091301</td>\n",
       "      <td>-0.079710</td>\n",
       "      <td>0.035780</td>\n",
       "      <td>0.049736</td>\n",
       "      <td>1.000000</td>\n",
       "      <td>0.351815</td>\n",
       "      <td>0.090637</td>\n",
       "      <td>0.226010</td>\n",
       "    </tr>\n",
       "    <tr>\n",
       "      <th>no2</th>\n",
       "      <td>0.072414</td>\n",
       "      <td>-0.021266</td>\n",
       "      <td>-0.072865</td>\n",
       "      <td>-0.051422</td>\n",
       "      <td>0.039073</td>\n",
       "      <td>0.351815</td>\n",
       "      <td>1.000000</td>\n",
       "      <td>0.004923</td>\n",
       "      <td>0.007830</td>\n",
       "    </tr>\n",
       "    <tr>\n",
       "      <th>PM10</th>\n",
       "      <td>0.018393</td>\n",
       "      <td>-0.047126</td>\n",
       "      <td>-0.003909</td>\n",
       "      <td>0.036917</td>\n",
       "      <td>0.008507</td>\n",
       "      <td>0.090637</td>\n",
       "      <td>0.004923</td>\n",
       "      <td>1.000000</td>\n",
       "      <td>0.592303</td>\n",
       "    </tr>\n",
       "    <tr>\n",
       "      <th>PM25</th>\n",
       "      <td>0.122030</td>\n",
       "      <td>-0.119834</td>\n",
       "      <td>-0.015770</td>\n",
       "      <td>0.117586</td>\n",
       "      <td>0.008915</td>\n",
       "      <td>0.226010</td>\n",
       "      <td>0.007830</td>\n",
       "      <td>0.592303</td>\n",
       "      <td>1.000000</td>\n",
       "    </tr>\n",
       "  </tbody>\n",
       "</table>\n",
       "</div>"
      ],
      "text/plain": [
       "                   Temperature  Humidity  Wind.Speed..km.h.  Visibility  \\\n",
       "Temperature           1.000000 -0.640853          -0.007853    0.108522   \n",
       "Humidity             -0.640853  1.000000          -0.041377    0.057076   \n",
       "Wind.Speed..km.h.    -0.007853 -0.041377           1.000000    0.107416   \n",
       "Visibility            0.108522  0.057076           0.107416    1.000000   \n",
       "Pressure             -0.008497  0.004141          -0.058970   -0.006730   \n",
       "so2                   0.093858 -0.091301          -0.079710    0.035780   \n",
       "no2                   0.072414 -0.021266          -0.072865   -0.051422   \n",
       "PM10                  0.018393 -0.047126          -0.003909    0.036917   \n",
       "PM25                  0.122030 -0.119834          -0.015770    0.117586   \n",
       "\n",
       "                   Pressure       so2       no2      PM10      PM25  \n",
       "Temperature       -0.008497  0.093858  0.072414  0.018393  0.122030  \n",
       "Humidity           0.004141 -0.091301 -0.021266 -0.047126 -0.119834  \n",
       "Wind.Speed..km.h. -0.058970 -0.079710 -0.072865 -0.003909 -0.015770  \n",
       "Visibility        -0.006730  0.035780 -0.051422  0.036917  0.117586  \n",
       "Pressure           1.000000  0.049736  0.039073  0.008507  0.008915  \n",
       "so2                0.049736  1.000000  0.351815  0.090637  0.226010  \n",
       "no2                0.039073  0.351815  1.000000  0.004923  0.007830  \n",
       "PM10               0.008507  0.090637  0.004923  1.000000  0.592303  \n",
       "PM25               0.008915  0.226010  0.007830  0.592303  1.000000  "
      ]
     },
     "execution_count": 5,
     "metadata": {},
     "output_type": "execute_result"
    }
   ],
   "source": [
    "Df = data.drop([\"AQI\",'Rainfall'],axis = 1)\n",
    "x_corr = Df.corr()\n",
    "x_corr"
   ]
  },
  {
   "cell_type": "code",
   "execution_count": 6,
   "id": "54c5c8bb",
   "metadata": {},
   "outputs": [],
   "source": [
    "UPPER = x_corr.where(np.triu(np.ones(x_corr.shape), k=1).astype(np.bool))\n",
    "correlated_features = [column for column in UPPER.columns if any(UPPER[column] >0.75)]\n",
    "x = Df.drop(correlated_features,axis = 1)#independent features"
   ]
  },
  {
   "cell_type": "markdown",
   "id": "8d928699",
   "metadata": {},
   "source": [
    "## 3.Checking the categorical features"
   ]
  },
  {
   "cell_type": "code",
   "execution_count": 7,
   "id": "2a30bf63",
   "metadata": {},
   "outputs": [
    {
     "data": {
      "text/plain": [
       "0"
      ]
     },
     "execution_count": 7,
     "metadata": {},
     "output_type": "execute_result"
    }
   ],
   "source": [
    "sum(Df.select_dtypes(include=['object']).columns.values)"
   ]
  },
  {
   "cell_type": "code",
   "execution_count": 8,
   "id": "73970a5f",
   "metadata": {},
   "outputs": [],
   "source": [
    "y = data[\"AQI\"]#target feature"
   ]
  },
  {
   "cell_type": "markdown",
   "id": "c9a8dc6b",
   "metadata": {},
   "source": [
    "## 4.Plooting the scatter plots"
   ]
  },
  {
   "cell_type": "code",
   "execution_count": 9,
   "id": "a1f69e11",
   "metadata": {},
   "outputs": [
    {
     "data": {
      "text/plain": [
       "Text(0, 0.5, 'AQI')"
      ]
     },
     "execution_count": 9,
     "metadata": {},
     "output_type": "execute_result"
    },
    {
     "data": {
      "image/png": "[encoded data removed]",
      "text/plain": [
       "<Figure size 432x288 with 1 Axes>"
      ]
     },
     "metadata": {},
     "output_type": "display_data"
    }
   ],
   "source": [
    "plt.scatter(x['so2'],y)\n",
    "plt.xlabel('So2')\n",
    "plt.ylabel('AQI')"
   ]
  },
  {
   "cell_type": "code",
   "execution_count": 10,
   "id": "dbb0772e",
   "metadata": {},
   "outputs": [
    {
     "data": {
      "text/plain": [
       "Text(0, 0.5, 'AQI')"
      ]
     },
     "execution_count": 10,
     "metadata": {},
     "output_type": "execute_result"
    },
    {
     "data": {
      "image/png": "[encoded data removed]",
      "text/plain": [
       "<Figure size 432x288 with 1 Axes>"
      ]
     },
     "metadata": {},
     "output_type": "display_data"
    }
   ],
   "source": [
    "plt.scatter(x['no2'],y)\n",
    "plt.xlabel('No2')\n",
    "plt.ylabel('AQI')"
   ]
  },
  {
   "cell_type": "code",
   "execution_count": 11,
   "id": "8de843eb",
   "metadata": {},
   "outputs": [
    {
     "data": {
      "text/plain": [
       "Text(0, 0.5, 'AQI')"
      ]
     },
     "execution_count": 11,
     "metadata": {},
     "output_type": "execute_result"
    },
    {
     "data": {
      "image/png": "[encoded data removed]",
      "text/plain": [
       "<Figure size 432x288 with 1 Axes>"
      ]
     },
     "metadata": {},
     "output_type": "display_data"
    }
   ],
   "source": [
    "plt.scatter(x['PM10'],y)\n",
    "plt.xlabel('PM 10')\n",
    "plt.ylabel('AQI')"
   ]
  },
  {
   "cell_type": "code",
   "execution_count": 12,
   "id": "90f46eb2",
   "metadata": {},
   "outputs": [
    {
     "data": {
      "text/plain": [
       "Text(0, 0.5, 'AQI')"
      ]
     },
     "execution_count": 12,
     "metadata": {},
     "output_type": "execute_result"
    },
    {
     "data": {
      "image/png": "[encoded data removed]",
      "text/plain": [
       "<Figure size 432x288 with 1 Axes>"
      ]
     },
     "metadata": {},
     "output_type": "display_data"
    }
   ],
   "source": [
    "plt.scatter(x['PM25'],y)\n",
    "plt.xlabel('PM 2.5')\n",
    "plt.ylabel('AQI')"
   ]
  },
  {
   "cell_type": "markdown",
   "id": "80277226",
   "metadata": {},
   "source": [
    "## 5.Standardizing the features"
   ]
  },
  {
   "cell_type": "code",
   "execution_count": 13,
   "id": "e6cb26a1",
   "metadata": {},
   "outputs": [
    {
     "data": {
      "text/plain": [
       "array([[ 0.21390466,  0.92949046,  0.57663776, ..., -0.79589057,\n",
       "         0.91842747,  2.36383617],\n",
       "       [ 0.32328842,  0.92949046,  0.59839614, ..., -1.56482906,\n",
       "         1.51172814,  3.02354567],\n",
       "       [ 0.41543181,  0.71216205, -0.9537013 , ...,  0.02480339,\n",
       "         1.05403905,  2.81034687],\n",
       "       ...,\n",
       "       [-0.87161026,  0.54916575,  0.12454708, ..., -0.97333792,\n",
       "         0.29122391,  0.81915049],\n",
       "       [-0.91976289,  0.65782995, -0.27677407, ..., -0.95855064,\n",
       "         0.25732102,  0.78294692],\n",
       "       [-0.95840389,  0.76649416,  0.16806383, ..., -0.97333792,\n",
       "         0.18951523,  0.71053978]])"
      ]
     },
     "execution_count": 13,
     "metadata": {},
     "output_type": "execute_result"
    }
   ],
   "source": [
    "from sklearn.preprocessing import StandardScaler\n",
    "scaler = StandardScaler()\n",
    "scaler.fit(x)\n",
    "df = scaler.transform(x)\n",
    "df = pd.DataFrame(df,columns = Df.columns)\n",
    "x = df.iloc[:,:]\n",
    "x.values"
   ]
  },
  {
   "cell_type": "markdown",
   "id": "386374c0",
   "metadata": {},
   "source": [
    "### Splitting the dataset into training and testing"
   ]
  },
  {
   "cell_type": "code",
   "execution_count": 14,
   "id": "4df81fbe",
   "metadata": {},
   "outputs": [],
   "source": [
    "x_train,x_test,y_train,y_test = train_test_split(x,y,test_size = 0.20,random_state = 2)"
   ]
  },
  {
   "cell_type": "markdown",
   "id": "c2bbf60f",
   "metadata": {},
   "source": [
    "## Algorithms"
   ]
  },
  {
   "cell_type": "markdown",
   "id": "99d5f051",
   "metadata": {},
   "source": [
    "### 1.Multiple Linear Regression"
   ]
  },
  {
   "cell_type": "code",
   "execution_count": 15,
   "id": "5ebb339e",
   "metadata": {},
   "outputs": [
    {
     "data": {
      "text/plain": [
       "LinearRegression()"
      ]
     },
     "execution_count": 15,
     "metadata": {},
     "output_type": "execute_result"
    }
   ],
   "source": [
    "linear_reg = LinearRegression()\n",
    "linear_reg.fit(x_train,y_train)"
   ]
  },
  {
   "cell_type": "code",
   "execution_count": 16,
   "id": "f386d81e",
   "metadata": {},
   "outputs": [
    {
     "data": {
      "text/plain": [
       "array([ 78.50758987, 114.72589108,  50.46659669, ...,  57.41083472,\n",
       "        73.25508042, 118.92940253])"
      ]
     },
     "execution_count": 16,
     "metadata": {},
     "output_type": "execute_result"
    }
   ],
   "source": [
    "linear_reg_pred = linear_reg.predict(x_test)\n",
    "linear_reg_pred"
   ]
  },
  {
   "cell_type": "markdown",
   "id": "88a6caf1",
   "metadata": {},
   "source": [
    "### Accurary and Overfitting or Underfitting"
   ]
  },
  {
   "cell_type": "code",
   "execution_count": 17,
   "id": "c1b34ccd",
   "metadata": {},
   "outputs": [
    {
     "name": "stdout",
     "output_type": "stream",
     "text": [
      "Accuracy Score on training data:  0.9091700278614888\n",
      "Accuracy Score on testing data:  0.9004564246820818\n"
     ]
    }
   ],
   "source": [
    "print(\"Accuracy Score on training data: \",linear_reg.score(x_train,y_train))\n",
    "print(\"Accuracy Score on testing data: \",linear_reg.score(x_test,y_test))"
   ]
  },
  {
   "cell_type": "code",
   "execution_count": 18,
   "id": "b926092f",
   "metadata": {},
   "outputs": [
    {
     "name": "stdout",
     "output_type": "stream",
     "text": [
      "Mean squared error: 180.94626313261497\n",
      "Mean absolute error: 8.076691051444556\n",
      "r2 score: 0.9004564246820818\n"
     ]
    }
   ],
   "source": [
    "print(f\"Mean squared error: {mean_squared_error(y_test,linear_reg_pred)}\\nMean absolute error: {mean_absolute_error(y_test,linear_reg_pred)}\\nr2 score: {r2_score(y_test,linear_reg_pred)}\")\n"
   ]
  },
  {
   "cell_type": "code",
   "execution_count": 19,
   "id": "54657718",
   "metadata": {},
   "outputs": [],
   "source": [
    "#creating summary table\n",
    "linear_reg_summary = pd.DataFrame(data = x.columns.values,columns = ['Features'])\n",
    "linear_reg_summary['Cofficient'] = linear_reg.coef_"
   ]
  },
  {
   "cell_type": "markdown",
   "id": "212327e6",
   "metadata": {},
   "source": [
    "### Checking for the p-value"
   ]
  },
  {
   "cell_type": "code",
   "execution_count": 20,
   "id": "1ca180a6",
   "metadata": {},
   "outputs": [
    {
     "data": {
      "text/plain": [
       "array([3.97697741e-047, 9.86812087e-035, 7.32563693e-003, 3.25313967e-029,\n",
       "       9.72623428e-001, 2.56827964e-102, 3.40067211e-002, 0.00000000e+000,\n",
       "       0.00000000e+000])"
      ]
     },
     "execution_count": 20,
     "metadata": {},
     "output_type": "execute_result"
    }
   ],
   "source": [
    "from sklearn.feature_selection import f_regression\n",
    "p_value = f_regression(x,y)[1]\n",
    "p_value"
   ]
  },
  {
   "cell_type": "code",
   "execution_count": 21,
   "id": "37aa389d",
   "metadata": {},
   "outputs": [
    {
     "data": {
      "text/html": [
       "<div>\n",
       "<style scoped>\n",
       "    .dataframe tbody tr th:only-of-type {\n",
       "        vertical-align: middle;\n",
       "    }\n",
       "\n",
       "    .dataframe tbody tr th {\n",
       "        vertical-align: top;\n",
       "    }\n",
       "\n",
       "    .dataframe thead th {\n",
       "        text-align: right;\n",
       "    }\n",
       "</style>\n",
       "<table border=\"1\" class=\"dataframe\">\n",
       "  <thead>\n",
       "    <tr style=\"text-align: right;\">\n",
       "      <th></th>\n",
       "      <th>Features</th>\n",
       "      <th>Cofficient</th>\n",
       "      <th>p-value</th>\n",
       "    </tr>\n",
       "  </thead>\n",
       "  <tbody>\n",
       "    <tr>\n",
       "      <th>0</th>\n",
       "      <td>Temperature</td>\n",
       "      <td>1.937906</td>\n",
       "      <td>0.000</td>\n",
       "    </tr>\n",
       "    <tr>\n",
       "      <th>1</th>\n",
       "      <td>Humidity</td>\n",
       "      <td>0.147695</td>\n",
       "      <td>0.000</td>\n",
       "    </tr>\n",
       "    <tr>\n",
       "      <th>2</th>\n",
       "      <td>Wind.Speed..km.h.</td>\n",
       "      <td>-0.629838</td>\n",
       "      <td>0.007</td>\n",
       "    </tr>\n",
       "    <tr>\n",
       "      <th>3</th>\n",
       "      <td>Visibility</td>\n",
       "      <td>0.578356</td>\n",
       "      <td>0.000</td>\n",
       "    </tr>\n",
       "    <tr>\n",
       "      <th>4</th>\n",
       "      <td>Pressure</td>\n",
       "      <td>-0.482726</td>\n",
       "      <td>0.973</td>\n",
       "    </tr>\n",
       "    <tr>\n",
       "      <th>5</th>\n",
       "      <td>so2</td>\n",
       "      <td>1.144300</td>\n",
       "      <td>0.000</td>\n",
       "    </tr>\n",
       "    <tr>\n",
       "      <th>6</th>\n",
       "      <td>no2</td>\n",
       "      <td>0.224959</td>\n",
       "      <td>0.034</td>\n",
       "    </tr>\n",
       "    <tr>\n",
       "      <th>7</th>\n",
       "      <td>PM10</td>\n",
       "      <td>-3.144861</td>\n",
       "      <td>0.000</td>\n",
       "    </tr>\n",
       "    <tr>\n",
       "      <th>8</th>\n",
       "      <td>PM25</td>\n",
       "      <td>41.898905</td>\n",
       "      <td>0.000</td>\n",
       "    </tr>\n",
       "  </tbody>\n",
       "</table>\n",
       "</div>"
      ],
      "text/plain": [
       "            Features  Cofficient  p-value\n",
       "0        Temperature    1.937906    0.000\n",
       "1           Humidity    0.147695    0.000\n",
       "2  Wind.Speed..km.h.   -0.629838    0.007\n",
       "3         Visibility    0.578356    0.000\n",
       "4           Pressure   -0.482726    0.973\n",
       "5                so2    1.144300    0.000\n",
       "6                no2    0.224959    0.034\n",
       "7               PM10   -3.144861    0.000\n",
       "8               PM25   41.898905    0.000"
      ]
     },
     "execution_count": 21,
     "metadata": {},
     "output_type": "execute_result"
    }
   ],
   "source": [
    "linear_reg_summary['p-value'] = p_value.round(3)\n",
    "linear_reg_summary"
   ]
  },
  {
   "cell_type": "markdown",
   "id": "6f9d6d6f",
   "metadata": {},
   "source": [
    "### Prediction"
   ]
  },
  {
   "cell_type": "code",
   "execution_count": 22,
   "id": "4911932c",
   "metadata": {},
   "outputs": [
    {
     "data": {
      "text/html": [
       "<div>\n",
       "<style scoped>\n",
       "    .dataframe tbody tr th:only-of-type {\n",
       "        vertical-align: middle;\n",
       "    }\n",
       "\n",
       "    .dataframe tbody tr th {\n",
       "        vertical-align: top;\n",
       "    }\n",
       "\n",
       "    .dataframe thead th {\n",
       "        text-align: right;\n",
       "    }\n",
       "</style>\n",
       "<table border=\"1\" class=\"dataframe\">\n",
       "  <thead>\n",
       "    <tr style=\"text-align: right;\">\n",
       "      <th></th>\n",
       "      <th>Temperature</th>\n",
       "      <th>Humidity</th>\n",
       "      <th>Wind.Speed..km.h.</th>\n",
       "      <th>Visibility</th>\n",
       "      <th>Pressure</th>\n",
       "      <th>so2</th>\n",
       "      <th>no2</th>\n",
       "      <th>PM10</th>\n",
       "      <th>PM25</th>\n",
       "      <th>Predicted_AQI</th>\n",
       "      <th>Original_AQI</th>\n",
       "    </tr>\n",
       "  </thead>\n",
       "  <tbody>\n",
       "    <tr>\n",
       "      <th>6213</th>\n",
       "      <td>0.017727</td>\n",
       "      <td>1.309815</td>\n",
       "      <td>0.554879</td>\n",
       "      <td>1.558790</td>\n",
       "      <td>0.133046</td>\n",
       "      <td>-0.123471</td>\n",
       "      <td>0.039591</td>\n",
       "      <td>-0.234271</td>\n",
       "      <td>-0.178459</td>\n",
       "      <td>78.507590</td>\n",
       "      <td>80</td>\n",
       "    </tr>\n",
       "    <tr>\n",
       "      <th>7168</th>\n",
       "      <td>-0.932841</td>\n",
       "      <td>0.820826</td>\n",
       "      <td>1.734667</td>\n",
       "      <td>0.086796</td>\n",
       "      <td>0.207987</td>\n",
       "      <td>-0.485819</td>\n",
       "      <td>-0.049133</td>\n",
       "      <td>0.596350</td>\n",
       "      <td>0.843286</td>\n",
       "      <td>114.725891</td>\n",
       "      <td>140</td>\n",
       "    </tr>\n",
       "    <tr>\n",
       "      <th>2699</th>\n",
       "      <td>-0.467960</td>\n",
       "      <td>1.092487</td>\n",
       "      <td>1.935327</td>\n",
       "      <td>0.106796</td>\n",
       "      <td>0.108243</td>\n",
       "      <td>-0.281014</td>\n",
       "      <td>0.010016</td>\n",
       "      <td>-0.319028</td>\n",
       "      <td>-0.785874</td>\n",
       "      <td>50.466597</td>\n",
       "      <td>45</td>\n",
       "    </tr>\n",
       "    <tr>\n",
       "      <th>3533</th>\n",
       "      <td>-1.285366</td>\n",
       "      <td>0.820826</td>\n",
       "      <td>-1.466232</td>\n",
       "      <td>-1.693196</td>\n",
       "      <td>0.166140</td>\n",
       "      <td>-0.627608</td>\n",
       "      <td>-0.574081</td>\n",
       "      <td>-0.268174</td>\n",
       "      <td>-0.524404</td>\n",
       "      <td>60.183245</td>\n",
       "      <td>62</td>\n",
       "    </tr>\n",
       "    <tr>\n",
       "      <th>1560</th>\n",
       "      <td>0.417216</td>\n",
       "      <td>0.331837</td>\n",
       "      <td>0.571803</td>\n",
       "      <td>-1.905195</td>\n",
       "      <td>0.233653</td>\n",
       "      <td>0.475193</td>\n",
       "      <td>0.283581</td>\n",
       "      <td>-0.081708</td>\n",
       "      <td>-0.190527</td>\n",
       "      <td>76.829196</td>\n",
       "      <td>79</td>\n",
       "    </tr>\n",
       "    <tr>\n",
       "      <th>...</th>\n",
       "      <td>...</td>\n",
       "      <td>...</td>\n",
       "      <td>...</td>\n",
       "      <td>...</td>\n",
       "      <td>...</td>\n",
       "      <td>...</td>\n",
       "      <td>...</td>\n",
       "      <td>...</td>\n",
       "      <td>...</td>\n",
       "      <td>...</td>\n",
       "      <td>...</td>\n",
       "    </tr>\n",
       "    <tr>\n",
       "      <th>3655</th>\n",
       "      <td>-0.853181</td>\n",
       "      <td>0.875158</td>\n",
       "      <td>-1.543595</td>\n",
       "      <td>0.062797</td>\n",
       "      <td>0.168859</td>\n",
       "      <td>-0.627608</td>\n",
       "      <td>-1.416956</td>\n",
       "      <td>-0.183417</td>\n",
       "      <td>-0.258911</td>\n",
       "      <td>72.759504</td>\n",
       "      <td>76</td>\n",
       "    </tr>\n",
       "    <tr>\n",
       "      <th>1563</th>\n",
       "      <td>1.142478</td>\n",
       "      <td>-0.754805</td>\n",
       "      <td>0.068942</td>\n",
       "      <td>-2.293193</td>\n",
       "      <td>0.237433</td>\n",
       "      <td>0.475193</td>\n",
       "      <td>0.209644</td>\n",
       "      <td>0.545496</td>\n",
       "      <td>0.795015</td>\n",
       "      <td>117.468703</td>\n",
       "      <td>137</td>\n",
       "    </tr>\n",
       "    <tr>\n",
       "      <th>3374</th>\n",
       "      <td>-1.171227</td>\n",
       "      <td>0.820826</td>\n",
       "      <td>-0.327544</td>\n",
       "      <td>0.062797</td>\n",
       "      <td>0.236505</td>\n",
       "      <td>-0.879677</td>\n",
       "      <td>0.024803</td>\n",
       "      <td>-0.352931</td>\n",
       "      <td>-0.604857</td>\n",
       "      <td>57.410835</td>\n",
       "      <td>58</td>\n",
       "    </tr>\n",
       "    <tr>\n",
       "      <th>3746</th>\n",
       "      <td>-1.957125</td>\n",
       "      <td>-0.048487</td>\n",
       "      <td>0.213998</td>\n",
       "      <td>1.342791</td>\n",
       "      <td>0.147968</td>\n",
       "      <td>-0.312522</td>\n",
       "      <td>0.357517</td>\n",
       "      <td>-0.132562</td>\n",
       "      <td>-0.198572</td>\n",
       "      <td>73.255080</td>\n",
       "      <td>79</td>\n",
       "    </tr>\n",
       "    <tr>\n",
       "      <th>397</th>\n",
       "      <td>0.737639</td>\n",
       "      <td>-1.569786</td>\n",
       "      <td>-0.859415</td>\n",
       "      <td>0.106796</td>\n",
       "      <td>0.157850</td>\n",
       "      <td>4.004155</td>\n",
       "      <td>-0.714561</td>\n",
       "      <td>0.257321</td>\n",
       "      <td>0.690427</td>\n",
       "      <td>118.929403</td>\n",
       "      <td>131</td>\n",
       "    </tr>\n",
       "  </tbody>\n",
       "</table>\n",
       "<p>1458 rows × 11 columns</p>\n",
       "</div>"
      ],
      "text/plain": [
       "      Temperature  Humidity  Wind.Speed..km.h.  Visibility  Pressure  \\\n",
       "6213     0.017727  1.309815           0.554879    1.558790  0.133046   \n",
       "7168    -0.932841  0.820826           1.734667    0.086796  0.207987   \n",
       "2699    -0.467960  1.092487           1.935327    0.106796  0.108243   \n",
       "3533    -1.285366  0.820826          -1.466232   -1.693196  0.166140   \n",
       "1560     0.417216  0.331837           0.571803   -1.905195  0.233653   \n",
       "...           ...       ...                ...         ...       ...   \n",
       "3655    -0.853181  0.875158          -1.543595    0.062797  0.168859   \n",
       "1563     1.142478 -0.754805           0.068942   -2.293193  0.237433   \n",
       "3374    -1.171227  0.820826          -0.327544    0.062797  0.236505   \n",
       "3746    -1.957125 -0.048487           0.213998    1.342791  0.147968   \n",
       "397      0.737639 -1.569786          -0.859415    0.106796  0.157850   \n",
       "\n",
       "           so2       no2      PM10      PM25  Predicted_AQI  Original_AQI  \n",
       "6213 -0.123471  0.039591 -0.234271 -0.178459      78.507590            80  \n",
       "7168 -0.485819 -0.049133  0.596350  0.843286     114.725891           140  \n",
       "2699 -0.281014  0.010016 -0.319028 -0.785874      50.466597            45  \n",
       "3533 -0.627608 -0.574081 -0.268174 -0.524404      60.183245            62  \n",
       "1560  0.475193  0.283581 -0.081708 -0.190527      76.829196            79  \n",
       "...        ...       ...       ...       ...            ...           ...  \n",
       "3655 -0.627608 -1.416956 -0.183417 -0.258911      72.759504            76  \n",
       "1563  0.475193  0.209644  0.545496  0.795015     117.468703           137  \n",
       "3374 -0.879677  0.024803 -0.352931 -0.604857      57.410835            58  \n",
       "3746 -0.312522  0.357517 -0.132562 -0.198572      73.255080            79  \n",
       "397   4.004155 -0.714561  0.257321  0.690427     118.929403           131  \n",
       "\n",
       "[1458 rows x 11 columns]"
      ]
     },
     "execution_count": 22,
     "metadata": {},
     "output_type": "execute_result"
    }
   ],
   "source": [
    "linear_prediction = x_test.copy()\n",
    "linear_prediction[\"Predicted_AQI\"] = linear_reg_pred\n",
    "linear_prediction[\"Original_AQI\"] = y_test\n",
    "linear_prediction"
   ]
  },
  {
   "cell_type": "markdown",
   "id": "940ae43b",
   "metadata": {},
   "source": [
    "### 2.KNN"
   ]
  },
  {
   "cell_type": "code",
   "execution_count": 23,
   "id": "a83cef88",
   "metadata": {},
   "outputs": [
    {
     "data": {
      "text/plain": [
       "KNeighborsRegressor(n_neighbors=3)"
      ]
     },
     "execution_count": 23,
     "metadata": {},
     "output_type": "execute_result"
    }
   ],
   "source": [
    "knn_reg = KNeighborsRegressor(n_neighbors=3)\n",
    "knn_reg.fit(x_train,y_train)"
   ]
  },
  {
   "cell_type": "code",
   "execution_count": 24,
   "id": "afa9e201",
   "metadata": {},
   "outputs": [
    {
     "data": {
      "text/plain": [
       "array([ 79.        , 138.66666667,  53.        , ...,  57.66666667,\n",
       "        65.        , 154.66666667])"
      ]
     },
     "execution_count": 24,
     "metadata": {},
     "output_type": "execute_result"
    }
   ],
   "source": [
    "knn_pred = knn_reg.predict(x_test)\n",
    "knn_pred"
   ]
  },
  {
   "cell_type": "markdown",
   "id": "3f2b1e42",
   "metadata": {},
   "source": [
    "### Error and accuracy"
   ]
  },
  {
   "cell_type": "code",
   "execution_count": 25,
   "id": "f3fbff69",
   "metadata": {},
   "outputs": [
    {
     "name": "stdout",
     "output_type": "stream",
     "text": [
      "Accuracy Score on training data:  0.9741357725358166\n",
      "Accuracy Score on testing data:  0.9455509700292093\n",
      "Mean squared error: 98.97523243408016\n",
      "Mean absolute error: 7.0038866026520346\n",
      "r2 score: 0.9455509700292093\n"
     ]
    }
   ],
   "source": [
    "print(\"Accuracy Score on training data: \",knn_reg.score(x_train,y_train))\n",
    "print(\"Accuracy Score on testing data: \",knn_reg.score(x_test,y_test))\n",
    "print(f\"Mean squared error: {mean_squared_error(y_test,knn_pred)}\\nMean absolute error: {mean_absolute_error(y_test,knn_pred)}\\nr2 score: {r2_score(y_test,knn_pred)}\")\n"
   ]
  },
  {
   "cell_type": "markdown",
   "id": "e0c52894",
   "metadata": {},
   "source": [
    "### Prediction"
   ]
  },
  {
   "cell_type": "code",
   "execution_count": 26,
   "id": "a102935e",
   "metadata": {},
   "outputs": [
    {
     "data": {
      "text/html": [
       "<div>\n",
       "<style scoped>\n",
       "    .dataframe tbody tr th:only-of-type {\n",
       "        vertical-align: middle;\n",
       "    }\n",
       "\n",
       "    .dataframe tbody tr th {\n",
       "        vertical-align: top;\n",
       "    }\n",
       "\n",
       "    .dataframe thead th {\n",
       "        text-align: right;\n",
       "    }\n",
       "</style>\n",
       "<table border=\"1\" class=\"dataframe\">\n",
       "  <thead>\n",
       "    <tr style=\"text-align: right;\">\n",
       "      <th></th>\n",
       "      <th>Temperature</th>\n",
       "      <th>Humidity</th>\n",
       "      <th>Wind.Speed..km.h.</th>\n",
       "      <th>Visibility</th>\n",
       "      <th>Pressure</th>\n",
       "      <th>so2</th>\n",
       "      <th>no2</th>\n",
       "      <th>PM10</th>\n",
       "      <th>PM25</th>\n",
       "      <th>Predicted_AQI</th>\n",
       "      <th>Original_AQI</th>\n",
       "    </tr>\n",
       "  </thead>\n",
       "  <tbody>\n",
       "    <tr>\n",
       "      <th>6213</th>\n",
       "      <td>0.017727</td>\n",
       "      <td>1.309815</td>\n",
       "      <td>0.554879</td>\n",
       "      <td>1.558790</td>\n",
       "      <td>0.133046</td>\n",
       "      <td>-0.123471</td>\n",
       "      <td>0.039591</td>\n",
       "      <td>-0.234271</td>\n",
       "      <td>-0.178459</td>\n",
       "      <td>79.000000</td>\n",
       "      <td>80</td>\n",
       "    </tr>\n",
       "    <tr>\n",
       "      <th>7168</th>\n",
       "      <td>-0.932841</td>\n",
       "      <td>0.820826</td>\n",
       "      <td>1.734667</td>\n",
       "      <td>0.086796</td>\n",
       "      <td>0.207987</td>\n",
       "      <td>-0.485819</td>\n",
       "      <td>-0.049133</td>\n",
       "      <td>0.596350</td>\n",
       "      <td>0.843286</td>\n",
       "      <td>138.666667</td>\n",
       "      <td>140</td>\n",
       "    </tr>\n",
       "    <tr>\n",
       "      <th>2699</th>\n",
       "      <td>-0.467960</td>\n",
       "      <td>1.092487</td>\n",
       "      <td>1.935327</td>\n",
       "      <td>0.106796</td>\n",
       "      <td>0.108243</td>\n",
       "      <td>-0.281014</td>\n",
       "      <td>0.010016</td>\n",
       "      <td>-0.319028</td>\n",
       "      <td>-0.785874</td>\n",
       "      <td>53.000000</td>\n",
       "      <td>45</td>\n",
       "    </tr>\n",
       "    <tr>\n",
       "      <th>3533</th>\n",
       "      <td>-1.285366</td>\n",
       "      <td>0.820826</td>\n",
       "      <td>-1.466232</td>\n",
       "      <td>-1.693196</td>\n",
       "      <td>0.166140</td>\n",
       "      <td>-0.627608</td>\n",
       "      <td>-0.574081</td>\n",
       "      <td>-0.268174</td>\n",
       "      <td>-0.524404</td>\n",
       "      <td>60.666667</td>\n",
       "      <td>62</td>\n",
       "    </tr>\n",
       "    <tr>\n",
       "      <th>1560</th>\n",
       "      <td>0.417216</td>\n",
       "      <td>0.331837</td>\n",
       "      <td>0.571803</td>\n",
       "      <td>-1.905195</td>\n",
       "      <td>0.233653</td>\n",
       "      <td>0.475193</td>\n",
       "      <td>0.283581</td>\n",
       "      <td>-0.081708</td>\n",
       "      <td>-0.190527</td>\n",
       "      <td>77.000000</td>\n",
       "      <td>79</td>\n",
       "    </tr>\n",
       "    <tr>\n",
       "      <th>...</th>\n",
       "      <td>...</td>\n",
       "      <td>...</td>\n",
       "      <td>...</td>\n",
       "      <td>...</td>\n",
       "      <td>...</td>\n",
       "      <td>...</td>\n",
       "      <td>...</td>\n",
       "      <td>...</td>\n",
       "      <td>...</td>\n",
       "      <td>...</td>\n",
       "      <td>...</td>\n",
       "    </tr>\n",
       "    <tr>\n",
       "      <th>3655</th>\n",
       "      <td>-0.853181</td>\n",
       "      <td>0.875158</td>\n",
       "      <td>-1.543595</td>\n",
       "      <td>0.062797</td>\n",
       "      <td>0.168859</td>\n",
       "      <td>-0.627608</td>\n",
       "      <td>-1.416956</td>\n",
       "      <td>-0.183417</td>\n",
       "      <td>-0.258911</td>\n",
       "      <td>74.666667</td>\n",
       "      <td>76</td>\n",
       "    </tr>\n",
       "    <tr>\n",
       "      <th>1563</th>\n",
       "      <td>1.142478</td>\n",
       "      <td>-0.754805</td>\n",
       "      <td>0.068942</td>\n",
       "      <td>-2.293193</td>\n",
       "      <td>0.237433</td>\n",
       "      <td>0.475193</td>\n",
       "      <td>0.209644</td>\n",
       "      <td>0.545496</td>\n",
       "      <td>0.795015</td>\n",
       "      <td>131.333333</td>\n",
       "      <td>137</td>\n",
       "    </tr>\n",
       "    <tr>\n",
       "      <th>3374</th>\n",
       "      <td>-1.171227</td>\n",
       "      <td>0.820826</td>\n",
       "      <td>-0.327544</td>\n",
       "      <td>0.062797</td>\n",
       "      <td>0.236505</td>\n",
       "      <td>-0.879677</td>\n",
       "      <td>0.024803</td>\n",
       "      <td>-0.352931</td>\n",
       "      <td>-0.604857</td>\n",
       "      <td>57.666667</td>\n",
       "      <td>58</td>\n",
       "    </tr>\n",
       "    <tr>\n",
       "      <th>3746</th>\n",
       "      <td>-1.957125</td>\n",
       "      <td>-0.048487</td>\n",
       "      <td>0.213998</td>\n",
       "      <td>1.342791</td>\n",
       "      <td>0.147968</td>\n",
       "      <td>-0.312522</td>\n",
       "      <td>0.357517</td>\n",
       "      <td>-0.132562</td>\n",
       "      <td>-0.198572</td>\n",
       "      <td>65.000000</td>\n",
       "      <td>79</td>\n",
       "    </tr>\n",
       "    <tr>\n",
       "      <th>397</th>\n",
       "      <td>0.737639</td>\n",
       "      <td>-1.569786</td>\n",
       "      <td>-0.859415</td>\n",
       "      <td>0.106796</td>\n",
       "      <td>0.157850</td>\n",
       "      <td>4.004155</td>\n",
       "      <td>-0.714561</td>\n",
       "      <td>0.257321</td>\n",
       "      <td>0.690427</td>\n",
       "      <td>154.666667</td>\n",
       "      <td>131</td>\n",
       "    </tr>\n",
       "  </tbody>\n",
       "</table>\n",
       "<p>1458 rows × 11 columns</p>\n",
       "</div>"
      ],
      "text/plain": [
       "      Temperature  Humidity  Wind.Speed..km.h.  Visibility  Pressure  \\\n",
       "6213     0.017727  1.309815           0.554879    1.558790  0.133046   \n",
       "7168    -0.932841  0.820826           1.734667    0.086796  0.207987   \n",
       "2699    -0.467960  1.092487           1.935327    0.106796  0.108243   \n",
       "3533    -1.285366  0.820826          -1.466232   -1.693196  0.166140   \n",
       "1560     0.417216  0.331837           0.571803   -1.905195  0.233653   \n",
       "...           ...       ...                ...         ...       ...   \n",
       "3655    -0.853181  0.875158          -1.543595    0.062797  0.168859   \n",
       "1563     1.142478 -0.754805           0.068942   -2.293193  0.237433   \n",
       "3374    -1.171227  0.820826          -0.327544    0.062797  0.236505   \n",
       "3746    -1.957125 -0.048487           0.213998    1.342791  0.147968   \n",
       "397      0.737639 -1.569786          -0.859415    0.106796  0.157850   \n",
       "\n",
       "           so2       no2      PM10      PM25  Predicted_AQI  Original_AQI  \n",
       "6213 -0.123471  0.039591 -0.234271 -0.178459      79.000000            80  \n",
       "7168 -0.485819 -0.049133  0.596350  0.843286     138.666667           140  \n",
       "2699 -0.281014  0.010016 -0.319028 -0.785874      53.000000            45  \n",
       "3533 -0.627608 -0.574081 -0.268174 -0.524404      60.666667            62  \n",
       "1560  0.475193  0.283581 -0.081708 -0.190527      77.000000            79  \n",
       "...        ...       ...       ...       ...            ...           ...  \n",
       "3655 -0.627608 -1.416956 -0.183417 -0.258911      74.666667            76  \n",
       "1563  0.475193  0.209644  0.545496  0.795015     131.333333           137  \n",
       "3374 -0.879677  0.024803 -0.352931 -0.604857      57.666667            58  \n",
       "3746 -0.312522  0.357517 -0.132562 -0.198572      65.000000            79  \n",
       "397   4.004155 -0.714561  0.257321  0.690427     154.666667           131  \n",
       "\n",
       "[1458 rows x 11 columns]"
      ]
     },
     "execution_count": 26,
     "metadata": {},
     "output_type": "execute_result"
    }
   ],
   "source": [
    "knn_prediction = x_test.copy()\n",
    "knn_prediction[\"Predicted_AQI\"] = knn_pred\n",
    "knn_prediction[\"Original_AQI\"] = y_test\n",
    "knn_prediction"
   ]
  },
  {
   "cell_type": "code",
   "execution_count": 27,
   "id": "b253dc6c",
   "metadata": {
    "scrolled": true
   },
   "outputs": [
    {
     "data": {
      "text/plain": [
       "<AxesSubplot:xlabel='AQI', ylabel='Density'>"
      ]
     },
     "execution_count": 27,
     "metadata": {},
     "output_type": "execute_result"
    },
    {
     "data": {
      "image/png": "[encoded data removed]",
      "text/plain": [
       "<Figure size 432x288 with 1 Axes>"
      ]
     },
     "metadata": {},
     "output_type": "display_data"
    }
   ],
   "source": [
    "sns.distplot(y_test-knn_pred)"
   ]
  },
  {
   "cell_type": "markdown",
   "id": "9c00e454",
   "metadata": {},
   "source": [
    "### 3.Decision Tree"
   ]
  },
  {
   "cell_type": "code",
   "execution_count": 28,
   "id": "2fdaac7d",
   "metadata": {},
   "outputs": [
    {
     "data": {
      "text/plain": [
       "DecisionTreeRegressor(random_state=3)"
      ]
     },
     "execution_count": 28,
     "metadata": {},
     "output_type": "execute_result"
    }
   ],
   "source": [
    "decision_reg = tree.DecisionTreeRegressor(random_state=3)\n",
    "decision_reg.fit(x_train,y_train)"
   ]
  },
  {
   "cell_type": "code",
   "execution_count": 29,
   "id": "fff7bbcb",
   "metadata": {},
   "outputs": [],
   "source": [
    "decision_pred = decision_reg.predict(x_test)\n",
    "decision_prediction = x_test.copy()"
   ]
  },
  {
   "cell_type": "markdown",
   "id": "26e6d7d5",
   "metadata": {},
   "source": [
    "### Error and accuracy"
   ]
  },
  {
   "cell_type": "code",
   "execution_count": 30,
   "id": "abeeec51",
   "metadata": {},
   "outputs": [
    {
     "name": "stdout",
     "output_type": "stream",
     "text": [
      "Accuracy Score on training data:  1.0\n",
      "Accuracy Score on testing data:  0.9986725996498679\n",
      "Mean squared error: 2.4128943758573387\n",
      "Mean absolute error: 0.2139917695473251\n",
      "r2 score: 0.9986725996498679\n"
     ]
    }
   ],
   "source": [
    "print(\"Accuracy Score on training data: \",decision_reg.score(x_train,y_train))\n",
    "print(\"Accuracy Score on testing data: \",decision_reg.score(x_test,y_test))\n",
    "print(f\"Mean squared error: {mean_squared_error(y_test,decision_pred)}\\nMean absolute error: {mean_absolute_error(y_test,decision_pred)}\\nr2 score: {r2_score(y_test,decision_pred)}\")\n"
   ]
  },
  {
   "cell_type": "markdown",
   "id": "91697d55",
   "metadata": {},
   "source": [
    "### Prediction"
   ]
  },
  {
   "cell_type": "code",
   "execution_count": 31,
   "id": "1ec39bed",
   "metadata": {},
   "outputs": [
    {
     "data": {
      "text/html": [
       "<div>\n",
       "<style scoped>\n",
       "    .dataframe tbody tr th:only-of-type {\n",
       "        vertical-align: middle;\n",
       "    }\n",
       "\n",
       "    .dataframe tbody tr th {\n",
       "        vertical-align: top;\n",
       "    }\n",
       "\n",
       "    .dataframe thead th {\n",
       "        text-align: right;\n",
       "    }\n",
       "</style>\n",
       "<table border=\"1\" class=\"dataframe\">\n",
       "  <thead>\n",
       "    <tr style=\"text-align: right;\">\n",
       "      <th></th>\n",
       "      <th>Temperature</th>\n",
       "      <th>Humidity</th>\n",
       "      <th>Wind.Speed..km.h.</th>\n",
       "      <th>Visibility</th>\n",
       "      <th>Pressure</th>\n",
       "      <th>so2</th>\n",
       "      <th>no2</th>\n",
       "      <th>PM10</th>\n",
       "      <th>PM25</th>\n",
       "      <th>Predicted_AQI</th>\n",
       "      <th>Original_AQI</th>\n",
       "    </tr>\n",
       "  </thead>\n",
       "  <tbody>\n",
       "    <tr>\n",
       "      <th>6213</th>\n",
       "      <td>0.017727</td>\n",
       "      <td>1.309815</td>\n",
       "      <td>0.554879</td>\n",
       "      <td>1.558790</td>\n",
       "      <td>0.133046</td>\n",
       "      <td>-0.123471</td>\n",
       "      <td>0.039591</td>\n",
       "      <td>-0.234271</td>\n",
       "      <td>-0.178459</td>\n",
       "      <td>80.0</td>\n",
       "      <td>80</td>\n",
       "    </tr>\n",
       "    <tr>\n",
       "      <th>7168</th>\n",
       "      <td>-0.932841</td>\n",
       "      <td>0.820826</td>\n",
       "      <td>1.734667</td>\n",
       "      <td>0.086796</td>\n",
       "      <td>0.207987</td>\n",
       "      <td>-0.485819</td>\n",
       "      <td>-0.049133</td>\n",
       "      <td>0.596350</td>\n",
       "      <td>0.843286</td>\n",
       "      <td>140.0</td>\n",
       "      <td>140</td>\n",
       "    </tr>\n",
       "    <tr>\n",
       "      <th>2699</th>\n",
       "      <td>-0.467960</td>\n",
       "      <td>1.092487</td>\n",
       "      <td>1.935327</td>\n",
       "      <td>0.106796</td>\n",
       "      <td>0.108243</td>\n",
       "      <td>-0.281014</td>\n",
       "      <td>0.010016</td>\n",
       "      <td>-0.319028</td>\n",
       "      <td>-0.785874</td>\n",
       "      <td>45.0</td>\n",
       "      <td>45</td>\n",
       "    </tr>\n",
       "    <tr>\n",
       "      <th>3533</th>\n",
       "      <td>-1.285366</td>\n",
       "      <td>0.820826</td>\n",
       "      <td>-1.466232</td>\n",
       "      <td>-1.693196</td>\n",
       "      <td>0.166140</td>\n",
       "      <td>-0.627608</td>\n",
       "      <td>-0.574081</td>\n",
       "      <td>-0.268174</td>\n",
       "      <td>-0.524404</td>\n",
       "      <td>62.0</td>\n",
       "      <td>62</td>\n",
       "    </tr>\n",
       "    <tr>\n",
       "      <th>1560</th>\n",
       "      <td>0.417216</td>\n",
       "      <td>0.331837</td>\n",
       "      <td>0.571803</td>\n",
       "      <td>-1.905195</td>\n",
       "      <td>0.233653</td>\n",
       "      <td>0.475193</td>\n",
       "      <td>0.283581</td>\n",
       "      <td>-0.081708</td>\n",
       "      <td>-0.190527</td>\n",
       "      <td>79.0</td>\n",
       "      <td>79</td>\n",
       "    </tr>\n",
       "    <tr>\n",
       "      <th>...</th>\n",
       "      <td>...</td>\n",
       "      <td>...</td>\n",
       "      <td>...</td>\n",
       "      <td>...</td>\n",
       "      <td>...</td>\n",
       "      <td>...</td>\n",
       "      <td>...</td>\n",
       "      <td>...</td>\n",
       "      <td>...</td>\n",
       "      <td>...</td>\n",
       "      <td>...</td>\n",
       "    </tr>\n",
       "    <tr>\n",
       "      <th>3655</th>\n",
       "      <td>-0.853181</td>\n",
       "      <td>0.875158</td>\n",
       "      <td>-1.543595</td>\n",
       "      <td>0.062797</td>\n",
       "      <td>0.168859</td>\n",
       "      <td>-0.627608</td>\n",
       "      <td>-1.416956</td>\n",
       "      <td>-0.183417</td>\n",
       "      <td>-0.258911</td>\n",
       "      <td>76.0</td>\n",
       "      <td>76</td>\n",
       "    </tr>\n",
       "    <tr>\n",
       "      <th>1563</th>\n",
       "      <td>1.142478</td>\n",
       "      <td>-0.754805</td>\n",
       "      <td>0.068942</td>\n",
       "      <td>-2.293193</td>\n",
       "      <td>0.237433</td>\n",
       "      <td>0.475193</td>\n",
       "      <td>0.209644</td>\n",
       "      <td>0.545496</td>\n",
       "      <td>0.795015</td>\n",
       "      <td>138.0</td>\n",
       "      <td>137</td>\n",
       "    </tr>\n",
       "    <tr>\n",
       "      <th>3374</th>\n",
       "      <td>-1.171227</td>\n",
       "      <td>0.820826</td>\n",
       "      <td>-0.327544</td>\n",
       "      <td>0.062797</td>\n",
       "      <td>0.236505</td>\n",
       "      <td>-0.879677</td>\n",
       "      <td>0.024803</td>\n",
       "      <td>-0.352931</td>\n",
       "      <td>-0.604857</td>\n",
       "      <td>58.0</td>\n",
       "      <td>58</td>\n",
       "    </tr>\n",
       "    <tr>\n",
       "      <th>3746</th>\n",
       "      <td>-1.957125</td>\n",
       "      <td>-0.048487</td>\n",
       "      <td>0.213998</td>\n",
       "      <td>1.342791</td>\n",
       "      <td>0.147968</td>\n",
       "      <td>-0.312522</td>\n",
       "      <td>0.357517</td>\n",
       "      <td>-0.132562</td>\n",
       "      <td>-0.198572</td>\n",
       "      <td>79.0</td>\n",
       "      <td>79</td>\n",
       "    </tr>\n",
       "    <tr>\n",
       "      <th>397</th>\n",
       "      <td>0.737639</td>\n",
       "      <td>-1.569786</td>\n",
       "      <td>-0.859415</td>\n",
       "      <td>0.106796</td>\n",
       "      <td>0.157850</td>\n",
       "      <td>4.004155</td>\n",
       "      <td>-0.714561</td>\n",
       "      <td>0.257321</td>\n",
       "      <td>0.690427</td>\n",
       "      <td>131.0</td>\n",
       "      <td>131</td>\n",
       "    </tr>\n",
       "  </tbody>\n",
       "</table>\n",
       "<p>1458 rows × 11 columns</p>\n",
       "</div>"
      ],
      "text/plain": [
       "      Temperature  Humidity  Wind.Speed..km.h.  Visibility  Pressure  \\\n",
       "6213     0.017727  1.309815           0.554879    1.558790  0.133046   \n",
       "7168    -0.932841  0.820826           1.734667    0.086796  0.207987   \n",
       "2699    -0.467960  1.092487           1.935327    0.106796  0.108243   \n",
       "3533    -1.285366  0.820826          -1.466232   -1.693196  0.166140   \n",
       "1560     0.417216  0.331837           0.571803   -1.905195  0.233653   \n",
       "...           ...       ...                ...         ...       ...   \n",
       "3655    -0.853181  0.875158          -1.543595    0.062797  0.168859   \n",
       "1563     1.142478 -0.754805           0.068942   -2.293193  0.237433   \n",
       "3374    -1.171227  0.820826          -0.327544    0.062797  0.236505   \n",
       "3746    -1.957125 -0.048487           0.213998    1.342791  0.147968   \n",
       "397      0.737639 -1.569786          -0.859415    0.106796  0.157850   \n",
       "\n",
       "           so2       no2      PM10      PM25  Predicted_AQI  Original_AQI  \n",
       "6213 -0.123471  0.039591 -0.234271 -0.178459           80.0            80  \n",
       "7168 -0.485819 -0.049133  0.596350  0.843286          140.0           140  \n",
       "2699 -0.281014  0.010016 -0.319028 -0.785874           45.0            45  \n",
       "3533 -0.627608 -0.574081 -0.268174 -0.524404           62.0            62  \n",
       "1560  0.475193  0.283581 -0.081708 -0.190527           79.0            79  \n",
       "...        ...       ...       ...       ...            ...           ...  \n",
       "3655 -0.627608 -1.416956 -0.183417 -0.258911           76.0            76  \n",
       "1563  0.475193  0.209644  0.545496  0.795015          138.0           137  \n",
       "3374 -0.879677  0.024803 -0.352931 -0.604857           58.0            58  \n",
       "3746 -0.312522  0.357517 -0.132562 -0.198572           79.0            79  \n",
       "397   4.004155 -0.714561  0.257321  0.690427          131.0           131  \n",
       "\n",
       "[1458 rows x 11 columns]"
      ]
     },
     "execution_count": 31,
     "metadata": {},
     "output_type": "execute_result"
    }
   ],
   "source": [
    "decision_prediction[\"Predicted_AQI\"] = decision_pred\n",
    "decision_prediction[\"Original_AQI\"] = y_test\n",
    "decision_prediction"
   ]
  },
  {
   "cell_type": "code",
   "execution_count": 32,
   "id": "8ed1518c",
   "metadata": {},
   "outputs": [
    {
     "data": {
      "text/plain": [
       "<AxesSubplot:xlabel='AQI'>"
      ]
     },
     "execution_count": 32,
     "metadata": {},
     "output_type": "execute_result"
    },
    {
     "data": {
      "image/png": "[encoded data removed]",
      "text/plain": [
       "<Figure size 432x288 with 1 Axes>"
      ]
     },
     "metadata": {},
     "output_type": "display_data"
    }
   ],
   "source": [
    "sns.distplot(y_test-decision_pred,kde = False)\n"
   ]
  }
 ],
 "metadata": {
  "kernelspec": {
   "display_name": "Python 3 (ipykernel)",
   "language": "python",
   "name": "python3"
  },
  "language_info": {
   "codemirror_mode": {
    "name": "ipython",
    "version": 3
   },
   "file_extension": ".py",
   "mimetype": "text/x-python",
   "name": "python",
   "nbconvert_exporter": "python",
   "pygments_lexer": "ipython3",
   "version": "3.9.7"
  }
 },
 "nbformat": 4,
 "nbformat_minor": 5
}
